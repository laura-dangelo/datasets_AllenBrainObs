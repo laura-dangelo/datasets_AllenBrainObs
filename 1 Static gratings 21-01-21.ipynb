{
 "cells": [
  {
   "cell_type": "markdown",
   "metadata": {},
   "source": [
    "- trovare un experiment container di interesse\n",
    "- estrarre esperimento di interesse\n",
    "- estrarre cellule per l'esperimento scelto\n",
    "- fluorescence trace per una determinata cellula\n",
    "- tentativo (non funziona!) di vedere la fluorescenza insieme all'istante dello stimolo"
   ]
  },
  {
   "cell_type": "markdown",
   "metadata": {},
   "source": [
    "## Experiment Container\n",
    "Un Experiment Container contiene esperimenti con **uguale** :\n",
    "- cre_line\n",
    "- imaging_depth\n",
    "- targeted_structure\n",
    "\n",
    "Bisogna definire questi tre per scegliere l'esperimento di interesse\n",
    "\n",
    "All'interno del container gli esperimenti hanno **diverso**:\n",
    "- stimolo\n",
    "- experiment_id, cell_id\n",
    "- ..."
   ]
  },
  {
   "cell_type": "code",
   "execution_count": 1,
   "metadata": {},
   "outputs": [
    {
     "name": "stdout",
     "output_type": "stream",
     "text": [
      "all targeted structures: [u'VISal', u'VISam', u'VISl', u'VISp', u'VISpm', u'VISrl']\n",
      "\n",
      "all imaging depths: [175, 185, 195, 200, 205, 225, 250, 265, 275, 276, 285, 300, 320, 325, 335, 350, 365, 375, 390, 400, 550, 570, 625]\n",
      "\n",
      "all cre lines:\n",
      "[u'Cux2-CreERT2', u'Emx1-IRES-Cre', u'Fezf2-CreER', u'Nr5a1-Cre', u'Ntsr1-Cre_GN220', u'Pvalb-IRES-Cre', u'Rbp4-Cre_KL100', u'Rorb-IRES2-Cre', u'Scnn1a-Tg3-Cre', u'Slc17a7-IRES2-Cre', u'Sst-IRES-Cre', u'Tlx3-Cre_PL56', u'Vip-IRES-Cre']\n"
     ]
    }
   ],
   "source": [
    "from allensdk.core.brain_observatory_cache import BrainObservatoryCache\n",
    "import pprint\n",
    "\n",
    "boc = BrainObservatoryCache(manifest_file='boc/manifest.json')\n",
    "\n",
    "\n",
    "# Download a list of all targeted areas\n",
    "targeted_structures = boc.get_all_targeted_structures()\n",
    "print(\"all targeted structures: \" + str(targeted_structures)+ \"\\n\")\n",
    "# Download experiment containers for VISp experiments: (targeted_structures=['VISp'])\n",
    "\n",
    "# Download a list of all imaging depths\n",
    "depths = boc.get_all_imaging_depths()\n",
    "print(\"all imaging depths: \" + str(depths) + \"\\n\")\n",
    "\n",
    "# Download a list of all cre driver lines \n",
    "cre_lines = boc.get_all_cre_lines()\n",
    "print(\"all cre lines:\\n\" + str(cre_lines) )"
   ]
  },
  {
   "cell_type": "code",
   "execution_count": 2,
   "metadata": {
    "scrolled": false
   },
   "outputs": [
    {
     "name": "stdout",
     "output_type": "stream",
     "text": [
      "Numero di Experiment Containers con queste tre caratteristiche: 15\n"
     ]
    },
    {
     "data": {
      "text/plain": [
       "{'cre_line': u'Scnn1a-Tg3-Cre',\n",
       " 'donor_name': u'231953',\n",
       " 'failed': False,\n",
       " 'id': 511498742,\n",
       " 'imaging_depth': 350,\n",
       " 'reporter_line': u'Ai93(TITL-GCaMP6f)',\n",
       " 'specimen_name': u'Scnn1a-Tg3-Cre;Camk2a-tTA;Ai93-231953',\n",
       " 'tags': [],\n",
       " 'targeted_structure': u'VISp'}"
      ]
     },
     "execution_count": 2,
     "metadata": {},
     "output_type": "execute_result"
    }
   ],
   "source": [
    "experiment_containers = boc.get_experiment_containers(targeted_structures=['VISp'],\n",
    "                                                     imaging_depths=[350]\n",
    "                                                     )\n",
    "print(\"Numero di Experiment Containers con queste tre caratteristiche: %d\" % len(experiment_containers))\n",
    "experiment_containers[7]"
   ]
  },
  {
   "cell_type": "markdown",
   "metadata": {},
   "source": [
    "## Find Experiment\n",
    "Scelgo un Experiment Container a caso tra questi. Scelgo il primo: contiene 3 esperimenti"
   ]
  },
  {
   "cell_type": "code",
   "execution_count": 3,
   "metadata": {
    "scrolled": false
   },
   "outputs": [
    {
     "data": {
      "text/plain": [
       "[{'acquisition_age_days': 90,\n",
       "  'cre_line': u'Scnn1a-Tg3-Cre',\n",
       "  'donor_name': u'231953',\n",
       "  'experiment_container_id': 511498742,\n",
       "  'fail_eye_tracking': True,\n",
       "  'id': 511242327,\n",
       "  'imaging_depth': 350,\n",
       "  'reporter_line': u'Ai93(TITL-GCaMP6f)',\n",
       "  'session_type': u'three_session_C',\n",
       "  'specimen_name': u'Scnn1a-Tg3-Cre;Camk2a-tTA;Ai93-231953',\n",
       "  'targeted_structure': u'VISp'},\n",
       " {'acquisition_age_days': 92,\n",
       "  'cre_line': u'Scnn1a-Tg3-Cre',\n",
       "  'donor_name': u'231953',\n",
       "  'experiment_container_id': 511498742,\n",
       "  'fail_eye_tracking': True,\n",
       "  'id': 511534603,\n",
       "  'imaging_depth': 350,\n",
       "  'reporter_line': u'Ai93(TITL-GCaMP6f)',\n",
       "  'session_type': u'three_session_A',\n",
       "  'specimen_name': u'Scnn1a-Tg3-Cre;Camk2a-tTA;Ai93-231953',\n",
       "  'targeted_structure': u'VISp'},\n",
       " {'acquisition_age_days': 91,\n",
       "  'cre_line': u'Scnn1a-Tg3-Cre',\n",
       "  'donor_name': u'231953',\n",
       "  'experiment_container_id': 511498742,\n",
       "  'fail_eye_tracking': False,\n",
       "  'id': 511434920,\n",
       "  'imaging_depth': 350,\n",
       "  'reporter_line': u'Ai93(TITL-GCaMP6f)',\n",
       "  'session_type': u'three_session_B',\n",
       "  'specimen_name': u'Scnn1a-Tg3-Cre;Camk2a-tTA;Ai93-231953',\n",
       "  'targeted_structure': u'VISp'}]"
      ]
     },
     "execution_count": 3,
     "metadata": {},
     "output_type": "execute_result"
    }
   ],
   "source": [
    "experiment_container_id = experiment_containers[7]['id']\n",
    "experiments = boc.get_ophys_experiments(experiment_container_ids=[experiment_container_id])\n",
    "\n",
    "experiments"
   ]
  },
  {
   "cell_type": "markdown",
   "metadata": {},
   "source": [
    "Scelgo l'esperimento con stimolo: **static gratings**"
   ]
  },
  {
   "cell_type": "code",
   "execution_count": 4,
   "metadata": {},
   "outputs": [
    {
     "name": "stdout",
     "output_type": "stream",
     "text": [
      "Experiment with static gratings:\n",
      "[{'acquisition_age_days': 91,\n",
      "  'cre_line': u'Scnn1a-Tg3-Cre',\n",
      "  'donor_name': u'231953',\n",
      "  'experiment_container_id': 511498742,\n",
      "  'fail_eye_tracking': False,\n",
      "  'id': 511434920,\n",
      "  'imaging_depth': 350,\n",
      "  'reporter_line': u'Ai93(TITL-GCaMP6f)',\n",
      "  'session_type': u'three_session_B',\n",
      "  'specimen_name': u'Scnn1a-Tg3-Cre;Camk2a-tTA;Ai93-231953',\n",
      "  'targeted_structure': u'VISp'}]\n"
     ]
    }
   ],
   "source": [
    "import allensdk.brain_observatory.stimulus_info as stim_info\n",
    "\n",
    "# Find the experiment with the static static gratings stimulus\n",
    "exp = boc.get_ophys_experiments(experiment_container_ids=[experiment_container_id], \n",
    "                                stimuli=[stim_info.STATIC_GRATINGS])\n",
    "print(\"Experiment with static gratings:\")\n",
    "pprint.pprint(exp)\n"
   ]
  },
  {
   "cell_type": "markdown",
   "metadata": {},
   "source": [
    "## Download experiment\n",
    "Download the NWB file for this experiment."
   ]
  },
  {
   "cell_type": "code",
   "execution_count": 5,
   "metadata": {},
   "outputs": [
    {
     "name": "stdout",
     "output_type": "stream",
     "text": [
      "{'age_days': 92,\n",
      " 'cre_line': u'Scnn1a-Tg3-Cre/wt',\n",
      " 'device': u'Nikon A1R-MP multiphoton microscope',\n",
      " 'device_name': u'CAM2P.2',\n",
      " 'excitation_lambda': u'910 nanometers',\n",
      " 'experiment_container_id': 511498742,\n",
      " 'fov': u'400x400 microns (512 x 512 pixels)',\n",
      " 'genotype': u'Scnn1a-Tg3-Cre/wt;Camk2a-tTA/wt;Ai93(TITL-GCaMP6f)/Ai93(TITL-GCaMP6f)',\n",
      " 'imaging_depth_um': 350,\n",
      " 'indicator': u'GCaMP6f',\n",
      " 'ophys_experiment_id': 511434920,\n",
      " 'pipeline_version': u'3.0',\n",
      " 'session_start_time': datetime.datetime(2016, 3, 31, 9, 1, 51),\n",
      " 'session_type': u'three_session_B',\n",
      " 'sex': u'female',\n",
      " 'specimen_name': u'Scnn1a-Tg3-Cre;Camk2a-tTA;Ai93-231953',\n",
      " 'targeted_structure': u'VISp'}\n",
      "\n",
      " stimuli available in this file:\n",
      "[u'natural_movie_one', u'natural_scenes', u'spontaneous', u'static_gratings']\n"
     ]
    },
    {
     "name": "stderr",
     "output_type": "stream",
     "text": [
      "/home/laura/anaconda2/lib/python2.7/site-packages/allensdk/core/brain_observatory_nwb_data_set.py:742: H5pyDeprecationWarning: dataset.value has been deprecated. Use dataset[()] instead.\n",
      "  v = f[disk_key].value\n"
     ]
    }
   ],
   "source": [
    "experiment = boc.get_ophys_experiment_data(exp[0]['id']) \n",
    "\n",
    "# print out the metadata available in the NWB file\n",
    "pprint.pprint(experiment.get_metadata())\n",
    "\n",
    "print(\"\\n stimuli available in this file:\")\n",
    "print(experiment.list_stimuli())"
   ]
  },
  {
   "cell_type": "code",
   "execution_count": 6,
   "metadata": {},
   "outputs": [],
   "source": [
    "experiment_id = experiment.get_metadata()['ophys_experiment_id']"
   ]
  },
  {
   "cell_type": "code",
   "execution_count": 7,
   "metadata": {},
   "outputs": [
    {
     "name": "stderr",
     "output_type": "stream",
     "text": [
      "/home/laura/anaconda2/lib/python2.7/site-packages/allensdk/core/brain_observatory_nwb_data_set.py:476: H5pyDeprecationWarning: dataset.value has been deprecated. Use dataset[()] instead.\n",
      "  'ImageSegmentation']['cell_specimen_ids'].value\n"
     ]
    },
    {
     "data": {
      "text/plain": [
       "171"
      ]
     },
     "execution_count": 7,
     "metadata": {},
     "output_type": "execute_result"
    }
   ],
   "source": [
    "# ID delle cellule per questo esperimento\n",
    "experiment_cells_id = experiment.get_cell_specimen_ids()\n",
    "len(experiment_cells_id)"
   ]
  },
  {
   "cell_type": "code",
   "execution_count": 8,
   "metadata": {},
   "outputs": [
    {
     "data": {
      "text/plain": [
       "array([517398896, 589153647, 517398865, 517398291, 589153268, 517397605,\n",
       "       517397554, 517398817, 517398809, 517398821, 517398750, 517398813,\n",
       "       517398740, 517398745, 517397875, 517398886, 517398056, 517397564,\n",
       "       517397559, 517397823, 517398845, 517398422, 589153309, 517398755,\n",
       "       517397585, 517398772, 517398603, 589153140, 517398389, 517398805,\n",
       "       517398446, 517398784, 517398966, 517398450, 517398569, 517398989,\n",
       "       517398793, 517397407, 589153503, 589153550, 517397402, 517398379,\n",
       "       517398797, 517398627, 517398977, 517398701, 517398363, 517398454,\n",
       "       517398552, 517398880, 517397393, 589153653, 517397590, 517398690,\n",
       "       517398685, 517398631, 517398366, 517398467, 517397615, 517397641,\n",
       "       589153577, 517397610, 589153570, 517398596, 517398608, 517397575,\n",
       "       589152999, 517397377, 517398178, 517398175, 517397389, 517397385,\n",
       "       517397381, 517397624, 517397833, 517398497, 517397673, 517398482,\n",
       "       517397703, 517397732, 517398566, 517398563, 517398584, 589153148,\n",
       "       517398992, 589152954, 589153543, 517398599, 517397361, 517397365,\n",
       "       517397369, 517398201, 517398191, 517398184, 517398181, 517397373,\n",
       "       517397770, 517397412, 517398984, 517398459, 517398399, 517398394,\n",
       "       517397785, 517398384, 517397940, 589152670, 517397948, 517397973,\n",
       "       517397721, 517397976, 517398775, 517397735, 517397649, 517397810,\n",
       "       517398581, 517397713, 517398572, 517397813, 517398477, 517397633,\n",
       "       517398980, 517397881, 517397878, 517397629, 517398560, 517398962,\n",
       "       517398951, 517397426, 517398196, 517397422, 589153288, 517398829,\n",
       "       517397872, 517397957, 517398578, 589152876, 517398255, 517398264,\n",
       "       517398404, 517397645, 517398948, 517397486, 517397965, 517397884,\n",
       "       517398767, 517397852, 517397952, 517398048, 517397855, 517397863,\n",
       "       589153295, 517398835, 589153383, 517398114, 517397869, 517398066,\n",
       "       517398277, 517397509, 589153612, 517398556, 517398280, 517398492,\n",
       "       517397818, 517397775, 517397991, 517397986, 517398969, 517398840,\n",
       "       517398011, 517398007, 517398369])"
      ]
     },
     "execution_count": 8,
     "metadata": {},
     "output_type": "execute_result"
    }
   ],
   "source": [
    "experiment_cells_id"
   ]
  },
  {
   "cell_type": "code",
   "execution_count": 29,
   "metadata": {},
   "outputs": [
    {
     "name": "stdout",
     "output_type": "stream",
     "text": [
      "total cells: 63251\n"
     ]
    }
   ],
   "source": [
    "import pandas as pd\n",
    "\n",
    "# Download cells and convert to DataFrame\n",
    "cells = boc.get_cell_specimens()\n",
    "cells = pd.DataFrame.from_records(cells)\n",
    "print(\"total cells: %d\" % len(cells))"
   ]
  },
  {
   "cell_type": "code",
   "execution_count": 19,
   "metadata": {},
   "outputs": [
    {
     "data": {
      "text/plain": [
       "(171, 60)"
      ]
     },
     "execution_count": 19,
     "metadata": {},
     "output_type": "execute_result"
    }
   ],
   "source": [
    "experiment_cells = cells[cells['cell_specimen_id'].isin(experiment_cells_id)]\n",
    "experiment_cells.shape"
   ]
  },
  {
   "cell_type": "code",
   "execution_count": 20,
   "metadata": {},
   "outputs": [
    {
     "data": {
      "text/html": [
       "<div>\n",
       "<style scoped>\n",
       "    .dataframe tbody tr th:only-of-type {\n",
       "        vertical-align: middle;\n",
       "    }\n",
       "\n",
       "    .dataframe tbody tr th {\n",
       "        vertical-align: top;\n",
       "    }\n",
       "\n",
       "    .dataframe thead th {\n",
       "        text-align: right;\n",
       "    }\n",
       "</style>\n",
       "<table border=\"1\" class=\"dataframe\">\n",
       "  <thead>\n",
       "    <tr style=\"text-align: right;\">\n",
       "      <th></th>\n",
       "      <th>all_stim</th>\n",
       "      <th>area</th>\n",
       "      <th>cell_specimen_id</th>\n",
       "      <th>donor_full_genotype</th>\n",
       "      <th>dsi_dg</th>\n",
       "      <th>experiment_container_id</th>\n",
       "      <th>failed_experiment_container</th>\n",
       "      <th>g_dsi_dg</th>\n",
       "      <th>g_osi_dg</th>\n",
       "      <th>g_osi_sg</th>\n",
       "      <th>...</th>\n",
       "      <th>specimen_id</th>\n",
       "      <th>tfdi_dg</th>\n",
       "      <th>time_to_peak_ns</th>\n",
       "      <th>time_to_peak_sg</th>\n",
       "      <th>tld1_id</th>\n",
       "      <th>tld1_name</th>\n",
       "      <th>tld2_id</th>\n",
       "      <th>tld2_name</th>\n",
       "      <th>tlr1_id</th>\n",
       "      <th>tlr1_name</th>\n",
       "    </tr>\n",
       "  </thead>\n",
       "  <tbody>\n",
       "    <tr>\n",
       "      <th>6</th>\n",
       "      <td>False</td>\n",
       "      <td>VISp</td>\n",
       "      <td>517397361</td>\n",
       "      <td>Scnn1a-Tg3-Cre/wt;Camk2a-tTA/wt;Ai93(TITL-GCaM...</td>\n",
       "      <td>NaN</td>\n",
       "      <td>511498742</td>\n",
       "      <td>False</td>\n",
       "      <td>NaN</td>\n",
       "      <td>NaN</td>\n",
       "      <td>0.833125</td>\n",
       "      <td>...</td>\n",
       "      <td>502185555</td>\n",
       "      <td>NaN</td>\n",
       "      <td>0.33250</td>\n",
       "      <td>0.3325</td>\n",
       "      <td>177837516</td>\n",
       "      <td>Scnn1a-Tg3-Cre</td>\n",
       "      <td>177837320.0</td>\n",
       "      <td>Camk2a-tTA</td>\n",
       "      <td>265943423</td>\n",
       "      <td>Ai93(TITL-GCaMP6f)</td>\n",
       "    </tr>\n",
       "    <tr>\n",
       "      <th>7</th>\n",
       "      <td>False</td>\n",
       "      <td>VISp</td>\n",
       "      <td>517397365</td>\n",
       "      <td>Scnn1a-Tg3-Cre/wt;Camk2a-tTA/wt;Ai93(TITL-GCaM...</td>\n",
       "      <td>NaN</td>\n",
       "      <td>511498742</td>\n",
       "      <td>False</td>\n",
       "      <td>0.687334</td>\n",
       "      <td>0.097596</td>\n",
       "      <td>0.409507</td>\n",
       "      <td>...</td>\n",
       "      <td>502185555</td>\n",
       "      <td>0.281851</td>\n",
       "      <td>0.29925</td>\n",
       "      <td>NaN</td>\n",
       "      <td>177837516</td>\n",
       "      <td>Scnn1a-Tg3-Cre</td>\n",
       "      <td>177837320.0</td>\n",
       "      <td>Camk2a-tTA</td>\n",
       "      <td>265943423</td>\n",
       "      <td>Ai93(TITL-GCaMP6f)</td>\n",
       "    </tr>\n",
       "    <tr>\n",
       "      <th>8</th>\n",
       "      <td>False</td>\n",
       "      <td>VISp</td>\n",
       "      <td>517397369</td>\n",
       "      <td>Scnn1a-Tg3-Cre/wt;Camk2a-tTA/wt;Ai93(TITL-GCaM...</td>\n",
       "      <td>NaN</td>\n",
       "      <td>511498742</td>\n",
       "      <td>False</td>\n",
       "      <td>0.608939</td>\n",
       "      <td>0.774422</td>\n",
       "      <td>0.574609</td>\n",
       "      <td>...</td>\n",
       "      <td>502185555</td>\n",
       "      <td>0.251097</td>\n",
       "      <td>0.26600</td>\n",
       "      <td>0.0665</td>\n",
       "      <td>177837516</td>\n",
       "      <td>Scnn1a-Tg3-Cre</td>\n",
       "      <td>177837320.0</td>\n",
       "      <td>Camk2a-tTA</td>\n",
       "      <td>265943423</td>\n",
       "      <td>Ai93(TITL-GCaMP6f)</td>\n",
       "    </tr>\n",
       "    <tr>\n",
       "      <th>9</th>\n",
       "      <td>False</td>\n",
       "      <td>VISp</td>\n",
       "      <td>517397373</td>\n",
       "      <td>Scnn1a-Tg3-Cre/wt;Camk2a-tTA/wt;Ai93(TITL-GCaM...</td>\n",
       "      <td>1.953573</td>\n",
       "      <td>511498742</td>\n",
       "      <td>False</td>\n",
       "      <td>0.446050</td>\n",
       "      <td>0.098961</td>\n",
       "      <td>0.564285</td>\n",
       "      <td>...</td>\n",
       "      <td>502185555</td>\n",
       "      <td>0.378536</td>\n",
       "      <td>0.26600</td>\n",
       "      <td>NaN</td>\n",
       "      <td>177837516</td>\n",
       "      <td>Scnn1a-Tg3-Cre</td>\n",
       "      <td>177837320.0</td>\n",
       "      <td>Camk2a-tTA</td>\n",
       "      <td>265943423</td>\n",
       "      <td>Ai93(TITL-GCaMP6f)</td>\n",
       "    </tr>\n",
       "    <tr>\n",
       "      <th>10</th>\n",
       "      <td>False</td>\n",
       "      <td>VISp</td>\n",
       "      <td>517397377</td>\n",
       "      <td>Scnn1a-Tg3-Cre/wt;Camk2a-tTA/wt;Ai93(TITL-GCaM...</td>\n",
       "      <td>0.506407</td>\n",
       "      <td>511498742</td>\n",
       "      <td>False</td>\n",
       "      <td>0.407438</td>\n",
       "      <td>0.655897</td>\n",
       "      <td>0.924475</td>\n",
       "      <td>...</td>\n",
       "      <td>502185555</td>\n",
       "      <td>0.379998</td>\n",
       "      <td>0.46550</td>\n",
       "      <td>0.3325</td>\n",
       "      <td>177837516</td>\n",
       "      <td>Scnn1a-Tg3-Cre</td>\n",
       "      <td>177837320.0</td>\n",
       "      <td>Camk2a-tTA</td>\n",
       "      <td>265943423</td>\n",
       "      <td>Ai93(TITL-GCaMP6f)</td>\n",
       "    </tr>\n",
       "  </tbody>\n",
       "</table>\n",
       "<p>5 rows × 60 columns</p>\n",
       "</div>"
      ],
      "text/plain": [
       "    all_stim  area  cell_specimen_id  \\\n",
       "6      False  VISp         517397361   \n",
       "7      False  VISp         517397365   \n",
       "8      False  VISp         517397369   \n",
       "9      False  VISp         517397373   \n",
       "10     False  VISp         517397377   \n",
       "\n",
       "                                  donor_full_genotype    dsi_dg  \\\n",
       "6   Scnn1a-Tg3-Cre/wt;Camk2a-tTA/wt;Ai93(TITL-GCaM...       NaN   \n",
       "7   Scnn1a-Tg3-Cre/wt;Camk2a-tTA/wt;Ai93(TITL-GCaM...       NaN   \n",
       "8   Scnn1a-Tg3-Cre/wt;Camk2a-tTA/wt;Ai93(TITL-GCaM...       NaN   \n",
       "9   Scnn1a-Tg3-Cre/wt;Camk2a-tTA/wt;Ai93(TITL-GCaM...  1.953573   \n",
       "10  Scnn1a-Tg3-Cre/wt;Camk2a-tTA/wt;Ai93(TITL-GCaM...  0.506407   \n",
       "\n",
       "    experiment_container_id  failed_experiment_container  g_dsi_dg  g_osi_dg  \\\n",
       "6                 511498742                        False       NaN       NaN   \n",
       "7                 511498742                        False  0.687334  0.097596   \n",
       "8                 511498742                        False  0.608939  0.774422   \n",
       "9                 511498742                        False  0.446050  0.098961   \n",
       "10                511498742                        False  0.407438  0.655897   \n",
       "\n",
       "    g_osi_sg  ...  specimen_id   tfdi_dg  time_to_peak_ns  time_to_peak_sg  \\\n",
       "6   0.833125  ...    502185555       NaN          0.33250           0.3325   \n",
       "7   0.409507  ...    502185555  0.281851          0.29925              NaN   \n",
       "8   0.574609  ...    502185555  0.251097          0.26600           0.0665   \n",
       "9   0.564285  ...    502185555  0.378536          0.26600              NaN   \n",
       "10  0.924475  ...    502185555  0.379998          0.46550           0.3325   \n",
       "\n",
       "      tld1_id       tld1_name      tld2_id   tld2_name    tlr1_id  \\\n",
       "6   177837516  Scnn1a-Tg3-Cre  177837320.0  Camk2a-tTA  265943423   \n",
       "7   177837516  Scnn1a-Tg3-Cre  177837320.0  Camk2a-tTA  265943423   \n",
       "8   177837516  Scnn1a-Tg3-Cre  177837320.0  Camk2a-tTA  265943423   \n",
       "9   177837516  Scnn1a-Tg3-Cre  177837320.0  Camk2a-tTA  265943423   \n",
       "10  177837516  Scnn1a-Tg3-Cre  177837320.0  Camk2a-tTA  265943423   \n",
       "\n",
       "             tlr1_name  \n",
       "6   Ai93(TITL-GCaMP6f)  \n",
       "7   Ai93(TITL-GCaMP6f)  \n",
       "8   Ai93(TITL-GCaMP6f)  \n",
       "9   Ai93(TITL-GCaMP6f)  \n",
       "10  Ai93(TITL-GCaMP6f)  \n",
       "\n",
       "[5 rows x 60 columns]"
      ]
     },
     "execution_count": 20,
     "metadata": {},
     "output_type": "execute_result"
    }
   ],
   "source": [
    "experiment_cells.head()"
   ]
  },
  {
   "cell_type": "markdown",
   "metadata": {},
   "source": [
    "## Fluorescence for a cell of the experiment"
   ]
  },
  {
   "cell_type": "code",
   "execution_count": 46,
   "metadata": {},
   "outputs": [
    {
     "data": {
      "text/plain": [
       "517398450"
      ]
     },
     "execution_count": 46,
     "metadata": {},
     "output_type": "execute_result"
    }
   ],
   "source": [
    "cell_id = experiment_cells_id[33]\n",
    "cell_id"
   ]
  },
  {
   "cell_type": "code",
   "execution_count": 45,
   "metadata": {
    "scrolled": true
   },
   "outputs": [
    {
     "data": {
      "image/png": "[encoded data removed]",
      "text/plain": [
       "<Figure size 1008x288 with 1 Axes>"
      ]
     },
     "metadata": {
      "needs_background": "light"
     },
     "output_type": "display_data"
    }
   ],
   "source": [
    "cell_id = experiment_cells_id[33]\n",
    "time, trace = experiment.get_dff_traces(cell_specimen_ids=[cell_id])\n",
    "from matplotlib import pyplot as plt\n",
    "%matplotlib inline\n",
    "\n",
    "plt.figure(figsize=(14,4))\n",
    "plt.title(\"DFF Trace cell1\")\n",
    "plt.plot(time, trace[0])\n",
    "plt.show()"
   ]
  },
  {
   "cell_type": "code",
   "execution_count": 35,
   "metadata": {},
   "outputs": [
    {
     "data": {
      "text/plain": [
       "113864"
      ]
     },
     "execution_count": 35,
     "metadata": {},
     "output_type": "execute_result"
    }
   ],
   "source": [
    "trace[0]\n",
    "len(trace[0])"
   ]
  },
  {
   "cell_type": "code",
   "execution_count": 47,
   "metadata": {},
   "outputs": [],
   "source": [
    "df = pd.DataFrame(trace[0])\n",
    "df.to_csv('cellula_517398450_dep350.csv',index=False)"
   ]
  },
  {
   "cell_type": "code",
   "execution_count": 36,
   "metadata": {},
   "outputs": [
    {
     "data": {
      "text/plain": [
       "<allensdk.brain_observatory.static_gratings.StaticGratings at 0x7fa9f11ade80>"
      ]
     },
     "execution_count": 36,
     "metadata": {},
     "output_type": "execute_result"
    }
   ],
   "source": [
    "from allensdk.brain_observatory.static_gratings import StaticGratings\n",
    "data_set = boc.get_ophys_experiment_data(experiment_id)\n",
    "static_gratings = StaticGratings(data_set)\n",
    "static_gratings"
   ]
  },
  {
   "cell_type": "markdown",
   "metadata": {},
   "source": [
    "### Stimulus time and fluorescence trace"
   ]
  },
  {
   "cell_type": "code",
   "execution_count": 37,
   "metadata": {},
   "outputs": [
    {
     "data": {
      "text/plain": [
       "array([  51.2336 ,   51.26684,   51.30008, ..., 3836.50476, 3836.538  ,\n",
       "       3836.57125])"
      ]
     },
     "execution_count": 37,
     "metadata": {},
     "output_type": "execute_result"
    }
   ],
   "source": [
    "from allensdk.brain_observatory.static_gratings import StaticGratings\n",
    "data_set = boc.get_ophys_experiment_data(experiment_id)\n",
    "static_gratings = StaticGratings(data_set)\n",
    "static_gratings.timestamps"
   ]
  },
  {
   "cell_type": "code",
   "execution_count": 32,
   "metadata": {},
   "outputs": [
    {
     "ename": "KeyboardInterrupt",
     "evalue": "",
     "output_type": "error",
     "traceback": [
      "\u001b[0;31m---------------------------------------------------------------------------\u001b[0m",
      "\u001b[0;31mKeyboardInterrupt\u001b[0m                         Traceback (most recent call last)",
      "\u001b[0;32m<ipython-input-32-a331a727e87b>\u001b[0m in \u001b[0;36m<module>\u001b[0;34m\u001b[0m\n\u001b[1;32m      4\u001b[0m \u001b[0mcell_loc\u001b[0m \u001b[0;34m=\u001b[0m \u001b[0mexperiment\u001b[0m\u001b[0;34m.\u001b[0m\u001b[0mget_cell_specimen_indices\u001b[0m\u001b[0;34m(\u001b[0m\u001b[0;34m[\u001b[0m\u001b[0mcell_id\u001b[0m\u001b[0;34m]\u001b[0m\u001b[0;34m)\u001b[0m\u001b[0;34m[\u001b[0m\u001b[0;36m0\u001b[0m\u001b[0;34m]\u001b[0m\u001b[0;34m\u001b[0m\u001b[0;34m\u001b[0m\u001b[0m\n\u001b[1;32m      5\u001b[0m \u001b[0;31m#static_gratings.peak.loc[cell_loc]\u001b[0m\u001b[0;34m\u001b[0m\u001b[0;34m\u001b[0m\u001b[0;34m\u001b[0m\u001b[0m\n\u001b[0;32m----> 6\u001b[0;31m \u001b[0mpref_ori\u001b[0m \u001b[0;34m=\u001b[0m \u001b[0mstatic_gratings\u001b[0m\u001b[0;34m.\u001b[0m\u001b[0morivals\u001b[0m\u001b[0;34m[\u001b[0m\u001b[0mstatic_gratings\u001b[0m\u001b[0;34m.\u001b[0m\u001b[0mpeak\u001b[0m\u001b[0;34m.\u001b[0m\u001b[0mori_sg\u001b[0m\u001b[0;34m[\u001b[0m\u001b[0mcell_loc\u001b[0m\u001b[0;34m]\u001b[0m\u001b[0;34m]\u001b[0m\u001b[0;34m\u001b[0m\u001b[0;34m\u001b[0m\u001b[0m\n\u001b[0m\u001b[1;32m      7\u001b[0m \u001b[0mpref_sf\u001b[0m \u001b[0;34m=\u001b[0m \u001b[0mstatic_gratings\u001b[0m\u001b[0;34m.\u001b[0m\u001b[0msfvals\u001b[0m\u001b[0;34m[\u001b[0m\u001b[0mstatic_gratings\u001b[0m\u001b[0;34m.\u001b[0m\u001b[0mpeak\u001b[0m\u001b[0;34m.\u001b[0m\u001b[0msf_sg\u001b[0m\u001b[0;34m[\u001b[0m\u001b[0mcell_loc\u001b[0m\u001b[0;34m]\u001b[0m\u001b[0;34m]\u001b[0m\u001b[0;34m\u001b[0m\u001b[0;34m\u001b[0m\u001b[0m\n\u001b[1;32m      8\u001b[0m \u001b[0mpref_phase\u001b[0m \u001b[0;34m=\u001b[0m \u001b[0mstatic_gratings\u001b[0m\u001b[0;34m.\u001b[0m\u001b[0mphasevals\u001b[0m\u001b[0;34m[\u001b[0m\u001b[0mstatic_gratings\u001b[0m\u001b[0;34m.\u001b[0m\u001b[0mpeak\u001b[0m\u001b[0;34m.\u001b[0m\u001b[0mphase_sg\u001b[0m\u001b[0;34m[\u001b[0m\u001b[0mcell_loc\u001b[0m\u001b[0;34m]\u001b[0m\u001b[0;34m]\u001b[0m\u001b[0;34m\u001b[0m\u001b[0;34m\u001b[0m\u001b[0m\n",
      "\u001b[0;32m~/conda_projects/calcium_image/lib/python3.6/site-packages/allensdk/brain_observatory/stimulus_analysis.py\u001b[0m in \u001b[0;36mpeak\u001b[0;34m(self)\u001b[0m\n\u001b[1;32m    134\u001b[0m     \u001b[0;32mdef\u001b[0m \u001b[0mpeak\u001b[0m\u001b[0;34m(\u001b[0m\u001b[0mself\u001b[0m\u001b[0;34m)\u001b[0m\u001b[0;34m:\u001b[0m\u001b[0;34m\u001b[0m\u001b[0;34m\u001b[0m\u001b[0m\n\u001b[1;32m    135\u001b[0m         \u001b[0;32mif\u001b[0m \u001b[0mself\u001b[0m\u001b[0;34m.\u001b[0m\u001b[0m_peak\u001b[0m \u001b[0;32mis\u001b[0m \u001b[0mStimulusAnalysis\u001b[0m\u001b[0;34m.\u001b[0m\u001b[0m_PRELOAD\u001b[0m\u001b[0;34m:\u001b[0m\u001b[0;34m\u001b[0m\u001b[0;34m\u001b[0m\u001b[0m\n\u001b[0;32m--> 136\u001b[0;31m             \u001b[0mself\u001b[0m\u001b[0;34m.\u001b[0m\u001b[0m_peak\u001b[0m \u001b[0;34m=\u001b[0m \u001b[0mself\u001b[0m\u001b[0;34m.\u001b[0m\u001b[0mget_peak\u001b[0m\u001b[0;34m(\u001b[0m\u001b[0;34m)\u001b[0m\u001b[0;34m\u001b[0m\u001b[0;34m\u001b[0m\u001b[0m\n\u001b[0m\u001b[1;32m    137\u001b[0m \u001b[0;34m\u001b[0m\u001b[0m\n\u001b[1;32m    138\u001b[0m         \u001b[0;32mreturn\u001b[0m \u001b[0mself\u001b[0m\u001b[0;34m.\u001b[0m\u001b[0m_peak\u001b[0m\u001b[0;34m\u001b[0m\u001b[0;34m\u001b[0m\u001b[0m\n",
      "\u001b[0;32m~/conda_projects/calcium_image/lib/python3.6/site-packages/allensdk/brain_observatory/static_gratings.py\u001b[0m in \u001b[0;36mget_peak\u001b[0;34m(self)\u001b[0m\n\u001b[1;32m    212\u001b[0m         \u001b[0morivals_rad\u001b[0m \u001b[0;34m=\u001b[0m \u001b[0mnp\u001b[0m\u001b[0;34m.\u001b[0m\u001b[0mdeg2rad\u001b[0m\u001b[0;34m(\u001b[0m\u001b[0mself\u001b[0m\u001b[0;34m.\u001b[0m\u001b[0morivals\u001b[0m\u001b[0;34m)\u001b[0m\u001b[0;34m\u001b[0m\u001b[0;34m\u001b[0m\u001b[0m\n\u001b[1;32m    213\u001b[0m         \u001b[0;32mfor\u001b[0m \u001b[0mnc\u001b[0m \u001b[0;32min\u001b[0m \u001b[0mrange\u001b[0m\u001b[0;34m(\u001b[0m\u001b[0mself\u001b[0m\u001b[0;34m.\u001b[0m\u001b[0mnumbercells\u001b[0m\u001b[0;34m)\u001b[0m\u001b[0;34m:\u001b[0m\u001b[0;34m\u001b[0m\u001b[0;34m\u001b[0m\u001b[0m\n\u001b[0;32m--> 214\u001b[0;31m             cell_peak = np.where(self.response[:, 1:, :, nc, 0] == np.nanmax(\n\u001b[0m\u001b[1;32m    215\u001b[0m                 self.response[:, 1:, :, nc, 0]))\n\u001b[1;32m    216\u001b[0m             \u001b[0mpref_ori\u001b[0m \u001b[0;34m=\u001b[0m \u001b[0mcell_peak\u001b[0m\u001b[0;34m[\u001b[0m\u001b[0;36m0\u001b[0m\u001b[0;34m]\u001b[0m\u001b[0;34m[\u001b[0m\u001b[0;36m0\u001b[0m\u001b[0;34m]\u001b[0m\u001b[0;34m\u001b[0m\u001b[0;34m\u001b[0m\u001b[0m\n",
      "\u001b[0;32m~/conda_projects/calcium_image/lib/python3.6/site-packages/allensdk/brain_observatory/stimulus_analysis.py\u001b[0m in \u001b[0;36mresponse\u001b[0;34m(self)\u001b[0m\n\u001b[1;32m    127\u001b[0m     \u001b[0;32mdef\u001b[0m \u001b[0mresponse\u001b[0m\u001b[0;34m(\u001b[0m\u001b[0mself\u001b[0m\u001b[0;34m)\u001b[0m\u001b[0;34m:\u001b[0m\u001b[0;34m\u001b[0m\u001b[0;34m\u001b[0m\u001b[0m\n\u001b[1;32m    128\u001b[0m         \u001b[0;32mif\u001b[0m \u001b[0mself\u001b[0m\u001b[0;34m.\u001b[0m\u001b[0m_response\u001b[0m \u001b[0;32mis\u001b[0m \u001b[0mStimulusAnalysis\u001b[0m\u001b[0;34m.\u001b[0m\u001b[0m_PRELOAD\u001b[0m\u001b[0;34m:\u001b[0m\u001b[0;34m\u001b[0m\u001b[0;34m\u001b[0m\u001b[0m\n\u001b[0;32m--> 129\u001b[0;31m             \u001b[0mself\u001b[0m\u001b[0;34m.\u001b[0m\u001b[0m_response\u001b[0m \u001b[0;34m=\u001b[0m \u001b[0mself\u001b[0m\u001b[0;34m.\u001b[0m\u001b[0mget_response\u001b[0m\u001b[0;34m(\u001b[0m\u001b[0;34m)\u001b[0m\u001b[0;34m\u001b[0m\u001b[0;34m\u001b[0m\u001b[0m\n\u001b[0m\u001b[1;32m    130\u001b[0m \u001b[0;34m\u001b[0m\u001b[0m\n\u001b[1;32m    131\u001b[0m         \u001b[0;32mreturn\u001b[0m \u001b[0mself\u001b[0m\u001b[0;34m.\u001b[0m\u001b[0m_response\u001b[0m\u001b[0;34m\u001b[0m\u001b[0;34m\u001b[0m\u001b[0m\n",
      "\u001b[0;32m~/conda_projects/calcium_image/lib/python3.6/site-packages/allensdk/brain_observatory/static_gratings.py\u001b[0m in \u001b[0;36mget_response\u001b[0;34m(self)\u001b[0m\n\u001b[1;32m    173\u001b[0m                 \u001b[0;32mfor\u001b[0m \u001b[0mphase\u001b[0m \u001b[0;32min\u001b[0m \u001b[0mself\u001b[0m\u001b[0;34m.\u001b[0m\u001b[0mphasevals\u001b[0m\u001b[0;34m:\u001b[0m\u001b[0;34m\u001b[0m\u001b[0;34m\u001b[0m\u001b[0m\n\u001b[1;32m    174\u001b[0m                     \u001b[0mphase_pt\u001b[0m \u001b[0;34m=\u001b[0m \u001b[0mnp\u001b[0m\u001b[0;34m.\u001b[0m\u001b[0mwhere\u001b[0m\u001b[0;34m(\u001b[0m\u001b[0mself\u001b[0m\u001b[0;34m.\u001b[0m\u001b[0mphasevals\u001b[0m \u001b[0;34m==\u001b[0m \u001b[0mphase\u001b[0m\u001b[0;34m)\u001b[0m\u001b[0;34m[\u001b[0m\u001b[0;36m0\u001b[0m\u001b[0;34m]\u001b[0m\u001b[0;34m[\u001b[0m\u001b[0;36m0\u001b[0m\u001b[0;34m]\u001b[0m\u001b[0;34m\u001b[0m\u001b[0;34m\u001b[0m\u001b[0m\n\u001b[0;32m--> 175\u001b[0;31m                     subset_response = self.mean_sweep_response[(self.stim_table.spatial_frequency == sf) & (\n\u001b[0m\u001b[1;32m    176\u001b[0m                         self.stim_table.orientation == ori) & (self.stim_table.phase == phase)]\n\u001b[1;32m    177\u001b[0m                     subset_pval = self.pval[(self.stim_table.spatial_frequency == sf) & (\n",
      "\u001b[0;32m~/conda_projects/calcium_image/lib/python3.6/site-packages/allensdk/brain_observatory/stimulus_analysis.py\u001b[0m in \u001b[0;36mmean_sweep_response\u001b[0;34m(self)\u001b[0m\n\u001b[1;32m    112\u001b[0m         \u001b[0;32mif\u001b[0m \u001b[0mself\u001b[0m\u001b[0;34m.\u001b[0m\u001b[0m_mean_sweep_response\u001b[0m \u001b[0;32mis\u001b[0m \u001b[0mStimulusAnalysis\u001b[0m\u001b[0;34m.\u001b[0m\u001b[0m_PRELOAD\u001b[0m\u001b[0;34m:\u001b[0m\u001b[0;34m\u001b[0m\u001b[0;34m\u001b[0m\u001b[0m\n\u001b[1;32m    113\u001b[0m             \u001b[0mself\u001b[0m\u001b[0;34m.\u001b[0m\u001b[0m_sweep_response\u001b[0m\u001b[0;34m,\u001b[0m \u001b[0mself\u001b[0m\u001b[0;34m.\u001b[0m\u001b[0m_mean_sweep_response\u001b[0m\u001b[0;34m,\u001b[0m \u001b[0mself\u001b[0m\u001b[0;34m.\u001b[0m\u001b[0m_pval\u001b[0m \u001b[0;34m=\u001b[0m\u001b[0;31m \u001b[0m\u001b[0;31m\\\u001b[0m\u001b[0;34m\u001b[0m\u001b[0;34m\u001b[0m\u001b[0m\n\u001b[0;32m--> 114\u001b[0;31m                 \u001b[0mself\u001b[0m\u001b[0;34m.\u001b[0m\u001b[0mget_sweep_response\u001b[0m\u001b[0;34m(\u001b[0m\u001b[0;34m)\u001b[0m\u001b[0;34m\u001b[0m\u001b[0;34m\u001b[0m\u001b[0m\n\u001b[0m\u001b[1;32m    115\u001b[0m \u001b[0;34m\u001b[0m\u001b[0m\n\u001b[1;32m    116\u001b[0m         \u001b[0;32mreturn\u001b[0m \u001b[0mself\u001b[0m\u001b[0;34m.\u001b[0m\u001b[0m_mean_sweep_response\u001b[0m\u001b[0;34m\u001b[0m\u001b[0;34m\u001b[0m\u001b[0m\n",
      "\u001b[0;32m~/conda_projects/calcium_image/lib/python3.6/site-packages/allensdk/brain_observatory/stimulus_analysis.py\u001b[0m in \u001b[0;36mget_sweep_response\u001b[0;34m(self)\u001b[0m\n\u001b[1;32m    545\u001b[0m                 \u001b[0mtemp\u001b[0m \u001b[0;34m=\u001b[0m \u001b[0mself\u001b[0m\u001b[0;34m.\u001b[0m\u001b[0mcelltraces\u001b[0m\u001b[0;34m[\u001b[0m\u001b[0mint\u001b[0m\u001b[0;34m(\u001b[0m\u001b[0mnc\u001b[0m\u001b[0;34m)\u001b[0m\u001b[0;34m,\u001b[0m \u001b[0mstart\u001b[0m\u001b[0;34m:\u001b[0m\u001b[0mend\u001b[0m\u001b[0;34m]\u001b[0m\u001b[0;34m\u001b[0m\u001b[0;34m\u001b[0m\u001b[0m\n\u001b[1;32m    546\u001b[0m                 \u001b[0msweep_response\u001b[0m\u001b[0;34m[\u001b[0m\u001b[0mstr\u001b[0m\u001b[0;34m(\u001b[0m\u001b[0mnc\u001b[0m\u001b[0;34m)\u001b[0m\u001b[0;34m]\u001b[0m\u001b[0;34m[\u001b[0m\u001b[0mindex\u001b[0m\u001b[0;34m]\u001b[0m \u001b[0;34m=\u001b[0m \u001b[0;36m100\u001b[0m \u001b[0;34m*\u001b[0m\u001b[0;31m \u001b[0m\u001b[0;31m\\\u001b[0m\u001b[0;34m\u001b[0m\u001b[0;34m\u001b[0m\u001b[0m\n\u001b[0;32m--> 547\u001b[0;31m                     \u001b[0;34m(\u001b[0m\u001b[0;34m(\u001b[0m\u001b[0mtemp\u001b[0m \u001b[0;34m/\u001b[0m \u001b[0mnp\u001b[0m\u001b[0;34m.\u001b[0m\u001b[0mmean\u001b[0m\u001b[0;34m(\u001b[0m\u001b[0mtemp\u001b[0m\u001b[0;34m[\u001b[0m\u001b[0;34m:\u001b[0m\u001b[0mself\u001b[0m\u001b[0;34m.\u001b[0m\u001b[0minterlength\u001b[0m\u001b[0;34m]\u001b[0m\u001b[0;34m)\u001b[0m\u001b[0;34m)\u001b[0m \u001b[0;34m-\u001b[0m \u001b[0;36m1\u001b[0m\u001b[0;34m)\u001b[0m\u001b[0;34m\u001b[0m\u001b[0;34m\u001b[0m\u001b[0m\n\u001b[0m\u001b[1;32m    548\u001b[0m             \u001b[0msweep_response\u001b[0m\u001b[0;34m[\u001b[0m\u001b[0;34m'dx'\u001b[0m\u001b[0;34m]\u001b[0m\u001b[0;34m[\u001b[0m\u001b[0mindex\u001b[0m\u001b[0;34m]\u001b[0m \u001b[0;34m=\u001b[0m \u001b[0mself\u001b[0m\u001b[0;34m.\u001b[0m\u001b[0mdxcm\u001b[0m\u001b[0;34m[\u001b[0m\u001b[0mstart\u001b[0m\u001b[0;34m:\u001b[0m\u001b[0mend\u001b[0m\u001b[0;34m]\u001b[0m\u001b[0;34m\u001b[0m\u001b[0;34m\u001b[0m\u001b[0m\n\u001b[1;32m    549\u001b[0m \u001b[0;34m\u001b[0m\u001b[0m\n",
      "\u001b[0;32m~/conda_projects/calcium_image/lib/python3.6/site-packages/pandas/core/series.py\u001b[0m in \u001b[0;36m__setitem__\u001b[0;34m(self, key, value)\u001b[0m\n\u001b[1;32m   1244\u001b[0m         \u001b[0msetitem\u001b[0m\u001b[0;34m(\u001b[0m\u001b[0mkey\u001b[0m\u001b[0;34m,\u001b[0m \u001b[0mvalue\u001b[0m\u001b[0;34m)\u001b[0m\u001b[0;34m\u001b[0m\u001b[0;34m\u001b[0m\u001b[0m\n\u001b[1;32m   1245\u001b[0m         \u001b[0;32mif\u001b[0m \u001b[0mcacher_needs_updating\u001b[0m\u001b[0;34m:\u001b[0m\u001b[0;34m\u001b[0m\u001b[0;34m\u001b[0m\u001b[0m\n\u001b[0;32m-> 1246\u001b[0;31m             \u001b[0mself\u001b[0m\u001b[0;34m.\u001b[0m\u001b[0m_maybe_update_cacher\u001b[0m\u001b[0;34m(\u001b[0m\u001b[0;34m)\u001b[0m\u001b[0;34m\u001b[0m\u001b[0;34m\u001b[0m\u001b[0m\n\u001b[0m\u001b[1;32m   1247\u001b[0m \u001b[0;34m\u001b[0m\u001b[0m\n\u001b[1;32m   1248\u001b[0m     \u001b[0;32mdef\u001b[0m \u001b[0m_set_with_engine\u001b[0m\u001b[0;34m(\u001b[0m\u001b[0mself\u001b[0m\u001b[0;34m,\u001b[0m \u001b[0mkey\u001b[0m\u001b[0;34m,\u001b[0m \u001b[0mvalue\u001b[0m\u001b[0;34m)\u001b[0m\u001b[0;34m:\u001b[0m\u001b[0;34m\u001b[0m\u001b[0;34m\u001b[0m\u001b[0m\n",
      "\u001b[0;31mKeyboardInterrupt\u001b[0m: "
     ]
    }
   ],
   "source": [
    "# Seleziono le caratteristiche dello stimolo (ci sono diversi static grating - a seconda dell'orientamento, \n",
    "# distanza ecc)\n",
    "\n",
    "cell_loc = experiment.get_cell_specimen_indices([cell_id])[0]\n",
    "#static_gratings.peak.loc[cell_loc]\n",
    "pref_ori = static_gratings.orivals[static_gratings.peak.ori_sg[cell_loc]]\n",
    "pref_sf = static_gratings.sfvals[static_gratings.peak.sf_sg[cell_loc]]\n",
    "pref_phase = static_gratings.phasevals[static_gratings.peak.phase_sg[cell_loc]]\n",
    "print(\"Preferred direction:\", pref_ori)\n",
    "print(\"Preferred temporal frequency:\", pref_sf)\n",
    "print(\"Preferred phase:\", pref_phase)"
   ]
  },
  {
   "cell_type": "code",
   "execution_count": 18,
   "metadata": {
    "scrolled": true
   },
   "outputs": [
    {
     "name": "stdout",
     "output_type": "stream",
     "text": [
      "(48, 175)\n"
     ]
    },
    {
     "data": {
      "text/html": [
       "<div>\n",
       "<style scoped>\n",
       "    .dataframe tbody tr th:only-of-type {\n",
       "        vertical-align: middle;\n",
       "    }\n",
       "\n",
       "    .dataframe tbody tr th {\n",
       "        vertical-align: top;\n",
       "    }\n",
       "\n",
       "    .dataframe thead th {\n",
       "        text-align: right;\n",
       "    }\n",
       "</style>\n",
       "<table border=\"1\" class=\"dataframe\">\n",
       "  <thead>\n",
       "    <tr style=\"text-align: right;\">\n",
       "      <th></th>\n",
       "      <th>orientation</th>\n",
       "      <th>spatial_frequency</th>\n",
       "      <th>phase</th>\n",
       "      <th>start</th>\n",
       "      <th>end</th>\n",
       "    </tr>\n",
       "  </thead>\n",
       "  <tbody>\n",
       "    <tr>\n",
       "      <th>84</th>\n",
       "      <td>150.0</td>\n",
       "      <td>0.04</td>\n",
       "      <td>0.0</td>\n",
       "      <td>1379</td>\n",
       "      <td>1386</td>\n",
       "    </tr>\n",
       "    <tr>\n",
       "      <th>146</th>\n",
       "      <td>150.0</td>\n",
       "      <td>0.04</td>\n",
       "      <td>0.0</td>\n",
       "      <td>1845</td>\n",
       "      <td>1852</td>\n",
       "    </tr>\n",
       "    <tr>\n",
       "      <th>446</th>\n",
       "      <td>150.0</td>\n",
       "      <td>0.04</td>\n",
       "      <td>0.0</td>\n",
       "      <td>4104</td>\n",
       "      <td>4111</td>\n",
       "    </tr>\n",
       "    <tr>\n",
       "      <th>585</th>\n",
       "      <td>150.0</td>\n",
       "      <td>0.04</td>\n",
       "      <td>0.0</td>\n",
       "      <td>5150</td>\n",
       "      <td>5157</td>\n",
       "    </tr>\n",
       "    <tr>\n",
       "      <th>796</th>\n",
       "      <td>150.0</td>\n",
       "      <td>0.04</td>\n",
       "      <td>0.0</td>\n",
       "      <td>6738</td>\n",
       "      <td>6745</td>\n",
       "    </tr>\n",
       "    <tr>\n",
       "      <th>925</th>\n",
       "      <td>150.0</td>\n",
       "      <td>0.04</td>\n",
       "      <td>0.0</td>\n",
       "      <td>7709</td>\n",
       "      <td>7716</td>\n",
       "    </tr>\n",
       "    <tr>\n",
       "      <th>1139</th>\n",
       "      <td>150.0</td>\n",
       "      <td>0.04</td>\n",
       "      <td>0.0</td>\n",
       "      <td>9319</td>\n",
       "      <td>9326</td>\n",
       "    </tr>\n",
       "    <tr>\n",
       "      <th>1260</th>\n",
       "      <td>150.0</td>\n",
       "      <td>0.04</td>\n",
       "      <td>0.0</td>\n",
       "      <td>10230</td>\n",
       "      <td>10237</td>\n",
       "    </tr>\n",
       "    <tr>\n",
       "      <th>1500</th>\n",
       "      <td>150.0</td>\n",
       "      <td>0.04</td>\n",
       "      <td>0.0</td>\n",
       "      <td>12036</td>\n",
       "      <td>12043</td>\n",
       "    </tr>\n",
       "    <tr>\n",
       "      <th>1646</th>\n",
       "      <td>150.0</td>\n",
       "      <td>0.04</td>\n",
       "      <td>0.0</td>\n",
       "      <td>13135</td>\n",
       "      <td>13142</td>\n",
       "    </tr>\n",
       "    <tr>\n",
       "      <th>1699</th>\n",
       "      <td>150.0</td>\n",
       "      <td>0.04</td>\n",
       "      <td>0.0</td>\n",
       "      <td>13534</td>\n",
       "      <td>13541</td>\n",
       "    </tr>\n",
       "    <tr>\n",
       "      <th>1958</th>\n",
       "      <td>150.0</td>\n",
       "      <td>0.04</td>\n",
       "      <td>0.0</td>\n",
       "      <td>55239</td>\n",
       "      <td>55246</td>\n",
       "    </tr>\n",
       "    <tr>\n",
       "      <th>1985</th>\n",
       "      <td>150.0</td>\n",
       "      <td>0.04</td>\n",
       "      <td>0.0</td>\n",
       "      <td>55442</td>\n",
       "      <td>55449</td>\n",
       "    </tr>\n",
       "    <tr>\n",
       "      <th>2146</th>\n",
       "      <td>150.0</td>\n",
       "      <td>0.04</td>\n",
       "      <td>0.0</td>\n",
       "      <td>56654</td>\n",
       "      <td>56661</td>\n",
       "    </tr>\n",
       "    <tr>\n",
       "      <th>2327</th>\n",
       "      <td>150.0</td>\n",
       "      <td>0.04</td>\n",
       "      <td>0.0</td>\n",
       "      <td>58016</td>\n",
       "      <td>58023</td>\n",
       "    </tr>\n",
       "    <tr>\n",
       "      <th>2504</th>\n",
       "      <td>150.0</td>\n",
       "      <td>0.04</td>\n",
       "      <td>0.0</td>\n",
       "      <td>59350</td>\n",
       "      <td>59357</td>\n",
       "    </tr>\n",
       "    <tr>\n",
       "      <th>2827</th>\n",
       "      <td>150.0</td>\n",
       "      <td>0.04</td>\n",
       "      <td>0.0</td>\n",
       "      <td>61781</td>\n",
       "      <td>61788</td>\n",
       "    </tr>\n",
       "    <tr>\n",
       "      <th>2884</th>\n",
       "      <td>150.0</td>\n",
       "      <td>0.04</td>\n",
       "      <td>0.0</td>\n",
       "      <td>62210</td>\n",
       "      <td>62217</td>\n",
       "    </tr>\n",
       "    <tr>\n",
       "      <th>3129</th>\n",
       "      <td>150.0</td>\n",
       "      <td>0.04</td>\n",
       "      <td>0.0</td>\n",
       "      <td>64053</td>\n",
       "      <td>64060</td>\n",
       "    </tr>\n",
       "    <tr>\n",
       "      <th>3227</th>\n",
       "      <td>150.0</td>\n",
       "      <td>0.04</td>\n",
       "      <td>0.0</td>\n",
       "      <td>64791</td>\n",
       "      <td>64798</td>\n",
       "    </tr>\n",
       "    <tr>\n",
       "      <th>3257</th>\n",
       "      <td>150.0</td>\n",
       "      <td>0.04</td>\n",
       "      <td>0.0</td>\n",
       "      <td>65017</td>\n",
       "      <td>65024</td>\n",
       "    </tr>\n",
       "    <tr>\n",
       "      <th>3311</th>\n",
       "      <td>150.0</td>\n",
       "      <td>0.04</td>\n",
       "      <td>0.0</td>\n",
       "      <td>65423</td>\n",
       "      <td>65430</td>\n",
       "    </tr>\n",
       "    <tr>\n",
       "      <th>3380</th>\n",
       "      <td>150.0</td>\n",
       "      <td>0.04</td>\n",
       "      <td>0.0</td>\n",
       "      <td>65942</td>\n",
       "      <td>65949</td>\n",
       "    </tr>\n",
       "    <tr>\n",
       "      <th>3445</th>\n",
       "      <td>150.0</td>\n",
       "      <td>0.04</td>\n",
       "      <td>0.0</td>\n",
       "      <td>66431</td>\n",
       "      <td>66438</td>\n",
       "    </tr>\n",
       "    <tr>\n",
       "      <th>3449</th>\n",
       "      <td>150.0</td>\n",
       "      <td>0.04</td>\n",
       "      <td>0.0</td>\n",
       "      <td>66462</td>\n",
       "      <td>66469</td>\n",
       "    </tr>\n",
       "    <tr>\n",
       "      <th>3450</th>\n",
       "      <td>150.0</td>\n",
       "      <td>0.04</td>\n",
       "      <td>0.0</td>\n",
       "      <td>66469</td>\n",
       "      <td>66476</td>\n",
       "    </tr>\n",
       "    <tr>\n",
       "      <th>3572</th>\n",
       "      <td>150.0</td>\n",
       "      <td>0.04</td>\n",
       "      <td>0.0</td>\n",
       "      <td>67387</td>\n",
       "      <td>67394</td>\n",
       "    </tr>\n",
       "    <tr>\n",
       "      <th>3607</th>\n",
       "      <td>150.0</td>\n",
       "      <td>0.04</td>\n",
       "      <td>0.0</td>\n",
       "      <td>67651</td>\n",
       "      <td>67658</td>\n",
       "    </tr>\n",
       "    <tr>\n",
       "      <th>3685</th>\n",
       "      <td>150.0</td>\n",
       "      <td>0.04</td>\n",
       "      <td>0.0</td>\n",
       "      <td>68238</td>\n",
       "      <td>68245</td>\n",
       "    </tr>\n",
       "    <tr>\n",
       "      <th>3749</th>\n",
       "      <td>150.0</td>\n",
       "      <td>0.04</td>\n",
       "      <td>0.0</td>\n",
       "      <td>68719</td>\n",
       "      <td>68726</td>\n",
       "    </tr>\n",
       "    <tr>\n",
       "      <th>3801</th>\n",
       "      <td>150.0</td>\n",
       "      <td>0.04</td>\n",
       "      <td>0.0</td>\n",
       "      <td>69110</td>\n",
       "      <td>69117</td>\n",
       "    </tr>\n",
       "    <tr>\n",
       "      <th>3824</th>\n",
       "      <td>150.0</td>\n",
       "      <td>0.04</td>\n",
       "      <td>0.0</td>\n",
       "      <td>69284</td>\n",
       "      <td>69291</td>\n",
       "    </tr>\n",
       "    <tr>\n",
       "      <th>3900</th>\n",
       "      <td>150.0</td>\n",
       "      <td>0.04</td>\n",
       "      <td>0.0</td>\n",
       "      <td>97858</td>\n",
       "      <td>97865</td>\n",
       "    </tr>\n",
       "    <tr>\n",
       "      <th>3925</th>\n",
       "      <td>150.0</td>\n",
       "      <td>0.04</td>\n",
       "      <td>0.0</td>\n",
       "      <td>98046</td>\n",
       "      <td>98053</td>\n",
       "    </tr>\n",
       "    <tr>\n",
       "      <th>4084</th>\n",
       "      <td>150.0</td>\n",
       "      <td>0.04</td>\n",
       "      <td>0.0</td>\n",
       "      <td>99242</td>\n",
       "      <td>99249</td>\n",
       "    </tr>\n",
       "    <tr>\n",
       "      <th>4172</th>\n",
       "      <td>150.0</td>\n",
       "      <td>0.04</td>\n",
       "      <td>0.0</td>\n",
       "      <td>99905</td>\n",
       "      <td>99912</td>\n",
       "    </tr>\n",
       "    <tr>\n",
       "      <th>4372</th>\n",
       "      <td>150.0</td>\n",
       "      <td>0.04</td>\n",
       "      <td>0.0</td>\n",
       "      <td>101410</td>\n",
       "      <td>101417</td>\n",
       "    </tr>\n",
       "    <tr>\n",
       "      <th>4413</th>\n",
       "      <td>150.0</td>\n",
       "      <td>0.04</td>\n",
       "      <td>0.0</td>\n",
       "      <td>101718</td>\n",
       "      <td>101725</td>\n",
       "    </tr>\n",
       "    <tr>\n",
       "      <th>4700</th>\n",
       "      <td>150.0</td>\n",
       "      <td>0.04</td>\n",
       "      <td>0.0</td>\n",
       "      <td>103878</td>\n",
       "      <td>103885</td>\n",
       "    </tr>\n",
       "    <tr>\n",
       "      <th>4954</th>\n",
       "      <td>150.0</td>\n",
       "      <td>0.04</td>\n",
       "      <td>0.0</td>\n",
       "      <td>105789</td>\n",
       "      <td>105796</td>\n",
       "    </tr>\n",
       "    <tr>\n",
       "      <th>4999</th>\n",
       "      <td>150.0</td>\n",
       "      <td>0.04</td>\n",
       "      <td>0.0</td>\n",
       "      <td>106128</td>\n",
       "      <td>106135</td>\n",
       "    </tr>\n",
       "    <tr>\n",
       "      <th>5132</th>\n",
       "      <td>150.0</td>\n",
       "      <td>0.04</td>\n",
       "      <td>0.0</td>\n",
       "      <td>107129</td>\n",
       "      <td>107136</td>\n",
       "    </tr>\n",
       "    <tr>\n",
       "      <th>5229</th>\n",
       "      <td>150.0</td>\n",
       "      <td>0.04</td>\n",
       "      <td>0.0</td>\n",
       "      <td>107859</td>\n",
       "      <td>107866</td>\n",
       "    </tr>\n",
       "    <tr>\n",
       "      <th>5460</th>\n",
       "      <td>150.0</td>\n",
       "      <td>0.04</td>\n",
       "      <td>0.0</td>\n",
       "      <td>109597</td>\n",
       "      <td>109604</td>\n",
       "    </tr>\n",
       "    <tr>\n",
       "      <th>5490</th>\n",
       "      <td>150.0</td>\n",
       "      <td>0.04</td>\n",
       "      <td>0.0</td>\n",
       "      <td>109823</td>\n",
       "      <td>109830</td>\n",
       "    </tr>\n",
       "    <tr>\n",
       "      <th>5627</th>\n",
       "      <td>150.0</td>\n",
       "      <td>0.04</td>\n",
       "      <td>0.0</td>\n",
       "      <td>110854</td>\n",
       "      <td>110861</td>\n",
       "    </tr>\n",
       "    <tr>\n",
       "      <th>5832</th>\n",
       "      <td>150.0</td>\n",
       "      <td>0.04</td>\n",
       "      <td>0.0</td>\n",
       "      <td>112396</td>\n",
       "      <td>112403</td>\n",
       "    </tr>\n",
       "    <tr>\n",
       "      <th>5862</th>\n",
       "      <td>150.0</td>\n",
       "      <td>0.04</td>\n",
       "      <td>0.0</td>\n",
       "      <td>112622</td>\n",
       "      <td>112629</td>\n",
       "    </tr>\n",
       "  </tbody>\n",
       "</table>\n",
       "</div>"
      ],
      "text/plain": [
       "      orientation  spatial_frequency  phase   start     end\n",
       "84          150.0               0.04    0.0    1379    1386\n",
       "146         150.0               0.04    0.0    1845    1852\n",
       "446         150.0               0.04    0.0    4104    4111\n",
       "585         150.0               0.04    0.0    5150    5157\n",
       "796         150.0               0.04    0.0    6738    6745\n",
       "925         150.0               0.04    0.0    7709    7716\n",
       "1139        150.0               0.04    0.0    9319    9326\n",
       "1260        150.0               0.04    0.0   10230   10237\n",
       "1500        150.0               0.04    0.0   12036   12043\n",
       "1646        150.0               0.04    0.0   13135   13142\n",
       "1699        150.0               0.04    0.0   13534   13541\n",
       "1958        150.0               0.04    0.0   55239   55246\n",
       "1985        150.0               0.04    0.0   55442   55449\n",
       "2146        150.0               0.04    0.0   56654   56661\n",
       "2327        150.0               0.04    0.0   58016   58023\n",
       "2504        150.0               0.04    0.0   59350   59357\n",
       "2827        150.0               0.04    0.0   61781   61788\n",
       "2884        150.0               0.04    0.0   62210   62217\n",
       "3129        150.0               0.04    0.0   64053   64060\n",
       "3227        150.0               0.04    0.0   64791   64798\n",
       "3257        150.0               0.04    0.0   65017   65024\n",
       "3311        150.0               0.04    0.0   65423   65430\n",
       "3380        150.0               0.04    0.0   65942   65949\n",
       "3445        150.0               0.04    0.0   66431   66438\n",
       "3449        150.0               0.04    0.0   66462   66469\n",
       "3450        150.0               0.04    0.0   66469   66476\n",
       "3572        150.0               0.04    0.0   67387   67394\n",
       "3607        150.0               0.04    0.0   67651   67658\n",
       "3685        150.0               0.04    0.0   68238   68245\n",
       "3749        150.0               0.04    0.0   68719   68726\n",
       "3801        150.0               0.04    0.0   69110   69117\n",
       "3824        150.0               0.04    0.0   69284   69291\n",
       "3900        150.0               0.04    0.0   97858   97865\n",
       "3925        150.0               0.04    0.0   98046   98053\n",
       "4084        150.0               0.04    0.0   99242   99249\n",
       "4172        150.0               0.04    0.0   99905   99912\n",
       "4372        150.0               0.04    0.0  101410  101417\n",
       "4413        150.0               0.04    0.0  101718  101725\n",
       "4700        150.0               0.04    0.0  103878  103885\n",
       "4954        150.0               0.04    0.0  105789  105796\n",
       "4999        150.0               0.04    0.0  106128  106135\n",
       "5132        150.0               0.04    0.0  107129  107136\n",
       "5229        150.0               0.04    0.0  107859  107866\n",
       "5460        150.0               0.04    0.0  109597  109604\n",
       "5490        150.0               0.04    0.0  109823  109830\n",
       "5627        150.0               0.04    0.0  110854  110861\n",
       "5832        150.0               0.04    0.0  112396  112403\n",
       "5862        150.0               0.04    0.0  112622  112629"
      ]
     },
     "execution_count": 18,
     "metadata": {},
     "output_type": "execute_result"
    }
   ],
   "source": [
    "subset = static_gratings.sweep_response[(static_gratings.stim_table.orientation==pref_ori)&\n",
    "                                        (static_gratings.stim_table.spatial_frequency==pref_sf)&\n",
    "                                        (static_gratings.stim_table.phase==pref_phase)]\n",
    "pref_trials = static_gratings.stim_table[(static_gratings.stim_table.orientation==pref_ori)&\n",
    "                                        (static_gratings.stim_table.spatial_frequency==pref_sf)&\n",
    "                                        (static_gratings.stim_table.phase==pref_phase)]\n",
    "print(subset.shape)\n",
    "pref_trials"
   ]
  },
  {
   "cell_type": "code",
   "execution_count": 19,
   "metadata": {},
   "outputs": [],
   "source": [
    "subset = subset.iloc[1:10]"
   ]
  },
  {
   "cell_type": "code",
   "execution_count": 20,
   "metadata": {
    "scrolled": false
   },
   "outputs": [
    {
     "name": "stdout",
     "output_type": "stream",
     "text": [
      "[-0.931   -0.89775 -0.8645  -0.83125 -0.798   -0.76475 -0.7315  -0.69825\n",
      " -0.665   -0.63175 -0.5985  -0.56525 -0.532   -0.49875 -0.4655  -0.43225\n",
      " -0.399   -0.36575 -0.3325  -0.29925 -0.266   -0.23275 -0.1995  -0.16625\n",
      " -0.133   -0.09975 -0.0665  -0.03325  0.       0.03325  0.0665   0.09975\n",
      "  0.133    0.16625  0.1995   0.23275  0.266    0.29925  0.3325   0.36575\n",
      "  0.399    0.43225  0.4655   0.49875  0.532    0.56525  0.5985   0.63175\n",
      "  0.665    0.69825  0.7315   0.76475  0.798    0.83125  0.8645   0.89775\n",
      "  0.931    0.96425  0.9975   1.03075  1.064    1.09725  1.1305 ]\n"
     ]
    },
    {
     "data": {
      "image/png": "[encoded data removed]",
      "text/plain": [
       "<Figure size 576x4320 with 9 Axes>"
      ]
     },
     "metadata": {
      "needs_background": "light"
     },
     "output_type": "display_data"
    }
   ],
   "source": [
    "import numpy as np\n",
    "\n",
    "trial_timestamps = np.arange(-1*static_gratings.interlength, static_gratings.interlength+static_gratings.sweeplength, 1.)/static_gratings.acquisition_rate\n",
    "print(trial_timestamps)\n",
    "\n",
    "plt.figure(figsize=(8,60))\n",
    "\n",
    "for i in range(len(subset)):\n",
    "    plt.subplot(len(pref_trials),1,i+1)\n",
    "    plt.plot(trial_timestamps, subset[str(cell_loc)].iloc[i], color='k', lw=2)\n",
    "    plt.axvspan(0,2,color='red', alpha=0.3)\n",
    "    plt.ylabel(\"DF/F (%)\")\n",
    "    plt.ylim(min(subset[str(cell_loc)].iloc[i])-5, max(subset[str(cell_loc)].iloc[i])+5 ) \n",
    "    #plt.yticks(range(0,700,200))\n",
    "    #plt.text(2.5, 300, str(round(subset_mean['dx'].iloc[i],2))+\" cm/s\")\n",
    "    if i<(len(subset)-1):\n",
    "        plt.xticks([])\n",
    "    else:\n",
    "        plt.xticks([-1,0,1,2,3])\n",
    "        plt.xlabel(\"Time (s)\")"
   ]
  }
 ],
 "metadata": {
  "kernelspec": {
   "display_name": "Python 3 (ipykernel)",
   "language": "python",
   "name": "python3"
  },
  "language_info": {
   "codemirror_mode": {
    "name": "ipython",
    "version": 3
   },
   "file_extension": ".py",
   "mimetype": "text/x-python",
   "name": "python",
   "nbconvert_exporter": "python",
   "pygments_lexer": "ipython3",
   "version": "3.8.12"
  }
 },
 "nbformat": 4,
 "nbformat_minor": 4
}
