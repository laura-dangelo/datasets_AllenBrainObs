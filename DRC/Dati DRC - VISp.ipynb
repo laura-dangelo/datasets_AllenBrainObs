{
 "cells": [
  {
   "cell_type": "code",
   "execution_count": null,
   "id": "ef498f44",
   "metadata": {},
   "outputs": [],
   "source": [
    "import pandas as pd\n",
    "from allensdk.core.brain_observatory_cache import BrainObservatoryCache\n",
    "import allensdk.brain_observatory.stimulus_info as stim_info\n",
    "import pprint\n",
    "\n",
    "boc = BrainObservatoryCache(manifest_file='boc/manifest.json')\n",
    "\n",
    "\n",
    "# Download a list of all targeted areas\n",
    "targeted_structures = boc.get_all_targeted_structures()\n",
    "print(\"all targeted structures: \" + str(targeted_structures)+ \"\\n\")\n",
    "# Download experiment containers for VISp experiments: (targeted_structures=['VISp'])\n",
    "\n",
    "# Download a list of all imaging depths\n",
    "depths = boc.get_all_imaging_depths()\n",
    "print(\"all imaging depths: \" + str(depths) + \"\\n\")\n",
    "\n",
    "# Download a list of all cre driver lines \n",
    "cre_lines = boc.get_all_cre_lines()\n",
    "print(\"all cre lines:\\n\" + str(cre_lines) )"
   ]
  },
  {
   "cell_type": "markdown",
   "id": "aa2751a9",
   "metadata": {},
   "source": [
    "## VISal"
   ]
  },
  {
   "cell_type": "code",
   "execution_count": null,
   "id": "c6a5efb4",
   "metadata": {},
   "outputs": [],
   "source": [
    "depths = []\n",
    "for exp in boc.get_experiment_containers(targeted_structures = ['VISal']):\n",
    "    depths.append(exp['imaging_depth'])\n",
    "depths = set(depths)\n",
    "depths"
   ]
  },
  {
   "cell_type": "code",
   "execution_count": null,
   "id": "4e2fb471",
   "metadata": {},
   "outputs": [],
   "source": [
    "experiment_containers_df = pd.DataFrame(columns = ['id', 'imaging_depth', 'targeted_structure',\n",
    "                                 'cre_line','reporter_line','donor_name',\n",
    "                                 'specimen_name','tags','failed'])"
   ]
  },
  {
   "cell_type": "code",
   "execution_count": null,
   "id": "07904f5f",
   "metadata": {},
   "outputs": [],
   "source": [
    "experiment_df = pd.DataFrame(columns = ['id', 'imaging_depth', 'targeted_structure',\n",
    "                                        'cre_line', 'reporter_line', 'acquisition_age_days',\n",
    "                                        'experiment_container_id', 'session_type', 'donor_name',\n",
    "                                        'specimen_name', 'fail_eye_tracking'])"
   ]
  },
  {
   "cell_type": "code",
   "execution_count": null,
   "id": "b49e5e42",
   "metadata": {},
   "outputs": [],
   "source": [
    "traces_df_dict = {\"experiment_id\" : [], \"traces\" : []}"
   ]
  },
  {
   "cell_type": "code",
   "execution_count": null,
   "id": "eebc43e0",
   "metadata": {
    "scrolled": true
   },
   "outputs": [],
   "source": [
    "for dep in depths:\n",
    "    experiment_containers = boc.get_experiment_containers(targeted_structures = ['VISal'],\n",
    "                                                     imaging_depths = [dep])\n",
    "\n",
    "    if len(experiment_containers) > 0 :\n",
    "        trunc = min(2, len(experiment_containers))\n",
    "        experiment_containers_df2 = pd.DataFrame(experiment_containers[0:trunc], \n",
    "                                             columns =['id', 'imaging_depth', 'targeted_structure',\n",
    "                                                       'cre_line','reporter_line','donor_name',\n",
    "                                                       'specimen_name','tags','failed'])\n",
    "        experiment_containers_df = experiment_containers_df.append(experiment_containers_df2)\n",
    "        \n",
    "        for exp_cont in range(0,trunc):\n",
    "            experiment_container_id = experiment_containers[exp_cont]['id']\n",
    "            exp = boc.get_ophys_experiments(experiment_container_ids=[experiment_container_id])\n",
    "            \n",
    "            experiment_df2 = pd.DataFrame(exp,\n",
    "                                          columns = ['id', 'imaging_depth', 'targeted_structure',\n",
    "                                        'cre_line', 'reporter_line', 'acquisition_age_days',\n",
    "                                        'experiment_container_id', 'session_type', 'donor_name',\n",
    "                                        'specimen_name', 'fail_eye_tracking'])\n",
    "            experiment_df = experiment_df.append(experiment_df2)\n",
    "            \n",
    "            # each experiment has a different session\n",
    "            for stim in range(0, len(exp)):   \n",
    "                experiment_id = exp[stim]['id']\n",
    "                session = exp[stim]['session_type']\n",
    "\n",
    "                traces_df_dict[\"experiment_id\"].append(experiment_id)\n",
    "                try:\n",
    "                    experiment = boc.get_ophys_experiment_data(experiment_id) \n",
    "                    experiment_cells_id = experiment.get_cell_specimen_ids()\n",
    "                    \n",
    "                    traces_df = pd.DataFrame(experiment.get_dff_traces()[1],\n",
    "                                            columns = experiment.get_dff_traces()[0],\n",
    "                                            index = experiment_cells_id )\n",
    "                    traces_df_dict[\"traces\"].append(traces_df)\n",
    "                except:\n",
    "                    traces_df_dict[\"traces\"].append(\"error\")\n",
    "                print(\"stimulus \" + session + \" n \" + str(stim) + \"\\n\")\n",
    "                \n",
    "        print(\"experiment container n \" + str(exp_cont) + \"\\n\")\n",
    "    print(\"depth \" + str(dep) + \"\\n\")"
   ]
  },
  {
   "cell_type": "code",
   "execution_count": null,
   "id": "32cb134a",
   "metadata": {},
   "outputs": [],
   "source": [
    "errors_id = []\n",
    "errors_n = []\n",
    "for i in range(0,len(traces_df_dict[\"traces\"])):\n",
    "    if isinstance(traces_df_dict[\"traces\"][i], pd.DataFrame):\n",
    "        print(traces_df_dict[\"traces\"][i].shape)\n",
    "    else:\n",
    "        print(\"element \" + str(i) + \" is empty (id \" + str(traces_df_dict[\"experiment_id\"][i]) + \")\")\n",
    "        errors_id.append(traces_df_dict[\"experiment_id\"][i])\n",
    "        errors_n.append(i)"
   ]
  },
  {
   "cell_type": "code",
   "execution_count": null,
   "id": "b6001ccb",
   "metadata": {},
   "outputs": [],
   "source": [
    "print(errors_id)\n",
    "print(errors_n)"
   ]
  },
  {
   "cell_type": "code",
   "execution_count": null,
   "id": "feac0461",
   "metadata": {},
   "outputs": [],
   "source": [
    "experiment_df = experiment_df.loc[~experiment_df['id'].isin(errors_id)]"
   ]
  },
  {
   "cell_type": "code",
   "execution_count": null,
   "id": "c71d0828",
   "metadata": {},
   "outputs": [],
   "source": [
    "experiment_containers_df.to_csv('VISal_experiment_containers_df.txt', \n",
    "                                index=None, sep=' ', mode='a')"
   ]
  },
  {
   "cell_type": "code",
   "execution_count": null,
   "id": "787bea19",
   "metadata": {},
   "outputs": [],
   "source": [
    "experiment_df.to_csv('VISal_experiment_df.txt', \n",
    "                      index=None, sep=' ', mode='a')"
   ]
  },
  {
   "cell_type": "code",
   "execution_count": null,
   "id": "1680201c",
   "metadata": {},
   "outputs": [],
   "source": [
    "for i in set(range(len(traces_df_dict[\"traces\"]))).difference(set(errors_n)):\n",
    "    trace_df_name = 'VISal_' + str(traces_df_dict[\"experiment_id\"][i]) + '.txt'\n",
    "    traces_df_dict[\"traces\"][i].to_csv(trace_df_name, \n",
    "                                index=None, sep=' ', mode='a')"
   ]
  }
 ],
 "metadata": {
  "kernelspec": {
   "display_name": "Python 3 (ipykernel)",
   "language": "python",
   "name": "python3"
  },
  "language_info": {
   "codemirror_mode": {
    "name": "ipython",
    "version": 3
   },
   "file_extension": ".py",
   "mimetype": "text/x-python",
   "name": "python",
   "nbconvert_exporter": "python",
   "pygments_lexer": "ipython3",
   "version": "3.8.12"
  }
 },
 "nbformat": 4,
 "nbformat_minor": 5
}
