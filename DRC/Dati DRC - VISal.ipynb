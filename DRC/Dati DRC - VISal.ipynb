{
 "cells": [
  {
   "cell_type": "code",
   "execution_count": 1,
   "id": "ef498f44",
   "metadata": {},
   "outputs": [
    {
     "name": "stdout",
     "output_type": "stream",
     "text": [
      "all targeted structures: ['VISal', 'VISam', 'VISl', 'VISp', 'VISpm', 'VISrl']\n",
      "\n",
      "all imaging depths: [175, 185, 195, 200, 205, 225, 250, 265, 275, 276, 285, 300, 320, 325, 335, 350, 365, 375, 390, 400, 550, 570, 625]\n",
      "\n",
      "all cre lines:\n",
      "['Cux2-CreERT2', 'Emx1-IRES-Cre', 'Fezf2-CreER', 'Nr5a1-Cre', 'Ntsr1-Cre_GN220', 'Pvalb-IRES-Cre', 'Rbp4-Cre_KL100', 'Rorb-IRES2-Cre', 'Scnn1a-Tg3-Cre', 'Slc17a7-IRES2-Cre', 'Sst-IRES-Cre', 'Tlx3-Cre_PL56', 'Vip-IRES-Cre']\n"
     ]
    }
   ],
   "source": [
    "import pandas as pd\n",
    "from allensdk.core.brain_observatory_cache import BrainObservatoryCache\n",
    "import allensdk.brain_observatory.stimulus_info as stim_info\n",
    "import pprint\n",
    "\n",
    "boc = BrainObservatoryCache(manifest_file='boc/manifest.json')\n",
    "\n",
    "\n",
    "# Download a list of all targeted areas\n",
    "targeted_structures = boc.get_all_targeted_structures()\n",
    "print(\"all targeted structures: \" + str(targeted_structures)+ \"\\n\")\n",
    "# Download experiment containers for VISp experiments: (targeted_structures=['VISp'])\n",
    "\n",
    "# Download a list of all imaging depths\n",
    "depths = boc.get_all_imaging_depths()\n",
    "print(\"all imaging depths: \" + str(depths) + \"\\n\")\n",
    "\n",
    "# Download a list of all cre driver lines \n",
    "cre_lines = boc.get_all_cre_lines()\n",
    "print(\"all cre lines:\\n\" + str(cre_lines) )"
   ]
  },
  {
   "cell_type": "markdown",
   "id": "aa2751a9",
   "metadata": {},
   "source": [
    "## VISal"
   ]
  },
  {
   "cell_type": "code",
   "execution_count": 2,
   "id": "c6a5efb4",
   "metadata": {},
   "outputs": [
    {
     "data": {
      "text/plain": [
       "{175, 265, 275, 276, 300, 350, 365, 375}"
      ]
     },
     "execution_count": 2,
     "metadata": {},
     "output_type": "execute_result"
    }
   ],
   "source": [
    "depths = []\n",
    "for exp in boc.get_experiment_containers(targeted_structures = ['VISal']):\n",
    "    depths.append(exp['imaging_depth'])\n",
    "depths = set(depths)\n",
    "depths"
   ]
  },
  {
   "cell_type": "code",
   "execution_count": 3,
   "id": "4e2fb471",
   "metadata": {},
   "outputs": [],
   "source": [
    "experiment_containers_df = pd.DataFrame(columns = ['id', 'imaging_depth', 'targeted_structure',\n",
    "                                 'cre_line','reporter_line','donor_name',\n",
    "                                 'specimen_name','tags','failed'])"
   ]
  },
  {
   "cell_type": "code",
   "execution_count": 4,
   "id": "07904f5f",
   "metadata": {},
   "outputs": [],
   "source": [
    "experiment_df = pd.DataFrame(columns = ['id', 'imaging_depth', 'targeted_structure',\n",
    "                                        'cre_line', 'reporter_line', 'acquisition_age_days',\n",
    "                                        'experiment_container_id', 'session_type', 'donor_name',\n",
    "                                        'specimen_name', 'fail_eye_tracking'])"
   ]
  },
  {
   "cell_type": "code",
   "execution_count": 5,
   "id": "b49e5e42",
   "metadata": {},
   "outputs": [],
   "source": [
    "traces_df_dict = {\"experiment_id\" : [], \"traces\" : []}"
   ]
  },
  {
   "cell_type": "code",
   "execution_count": null,
   "id": "c7752501",
   "metadata": {},
   "outputs": [],
   "source": [
    "errors_id = []"
   ]
  },
  {
   "cell_type": "code",
   "execution_count": null,
   "id": "eebc43e0",
   "metadata": {
    "scrolled": true
   },
   "outputs": [],
   "source": [
    "for dep in depths:\n",
    "    experiment_containers = boc.get_experiment_containers(targeted_structures = ['VISal'],\n",
    "                                                     imaging_depths = [dep])\n",
    "\n",
    "    if len(experiment_containers) > 0 :\n",
    "        trunc = min(2, len(experiment_containers))\n",
    "        experiment_containers_df2 = pd.DataFrame(experiment_containers[0:trunc], \n",
    "                                             columns =['id', 'imaging_depth', 'targeted_structure',\n",
    "                                                       'cre_line','reporter_line','donor_name',\n",
    "                                                       'specimen_name','tags','failed'])\n",
    "        experiment_containers_df = experiment_containers_df.append(experiment_containers_df2)\n",
    "        \n",
    "        for exp_cont in range(0,trunc):\n",
    "            experiment_container_id = experiment_containers[exp_cont]['id']\n",
    "            exp = boc.get_ophys_experiments(experiment_container_ids=[experiment_container_id])\n",
    "            \n",
    "            experiment_df2 = pd.DataFrame(exp,\n",
    "                                          columns = ['id', 'imaging_depth', 'targeted_structure',\n",
    "                                        'cre_line', 'reporter_line', 'acquisition_age_days',\n",
    "                                        'experiment_container_id', 'session_type', 'donor_name',\n",
    "                                        'specimen_name', 'fail_eye_tracking'])\n",
    "            experiment_df = experiment_df.append(experiment_df2)\n",
    "            \n",
    "            # each experiment has a different session\n",
    "            for stim in range(0, len(exp)):   \n",
    "                experiment_id = exp[stim]['id']\n",
    "                session = exp[stim]['session_type']\n",
    "\n",
    "                traces_df_dict[\"experiment_id\"].append(experiment_id)\n",
    "                try:\n",
    "                    experiment = boc.get_ophys_experiment_data(experiment_id) \n",
    "                    experiment_cells_id = experiment.get_cell_specimen_ids()\n",
    "                    \n",
    "                    traces_df = pd.DataFrame(experiment.get_dff_traces()[1],\n",
    "                                            columns = experiment.get_dff_traces()[0],\n",
    "                                            index = experiment_cells_id )\n",
    "                    traces_df_dict[\"traces\"].append(traces_df)\n",
    "                except:\n",
    "                     errors_id.append(experiment_container_id)               \n",
    "        print(\"experiment container n \" + str(exp_cont) + \"\\n\")\n",
    "    print(\"depth \" + str(dep) + \"\\n\")"
   ]
  },
  {
   "cell_type": "code",
   "execution_count": null,
   "id": "c0216375",
   "metadata": {},
   "outputs": [],
   "source": [
    "errors_id"
   ]
  },
  {
   "cell_type": "code",
   "execution_count": null,
   "id": "11a329f1",
   "metadata": {},
   "outputs": [],
   "source": [
    "experiment_df = experiment_df.loc[~experiment_df['id'].isin(errors_id)]"
   ]
  },
  {
   "cell_type": "code",
   "execution_count": null,
   "id": "3fef3772",
   "metadata": {},
   "outputs": [],
   "source": [
    "experiment_containers_df.to_csv('VISal_experiment_containers_df.txt', \n",
    "                                index=None, sep=' ', mode='a')"
   ]
  },
  {
   "cell_type": "code",
   "execution_count": null,
   "id": "8b47585c",
   "metadata": {},
   "outputs": [],
   "source": [
    "experiment_df.to_csv('VISal_experiment_df.txt', \n",
    "                      index=None, sep=' ', mode='a')"
   ]
  },
  {
   "cell_type": "code",
   "execution_count": null,
   "id": "ed4580ba",
   "metadata": {},
   "outputs": [],
   "source": [
    "for i in range(len(traces_df_dict[\"traces\"])):\n",
    "    trace_df_name = 'VISal_' + str(traces_df_dict[\"experiment_id\"][i]) + '.txt'\n",
    "    traces_df_dict[\"traces\"][i].to_csv(trace_df_name, \n",
    "                                index=None, sep=' ', mode='a')"
   ]
  }
 ],
 "metadata": {
  "kernelspec": {
   "display_name": "Python 3 (ipykernel)",
   "language": "python",
   "name": "python3"
  },
  "language_info": {
   "codemirror_mode": {
    "name": "ipython",
    "version": 3
   },
   "file_extension": ".py",
   "mimetype": "text/x-python",
   "name": "python",
   "nbconvert_exporter": "python",
   "pygments_lexer": "ipython3",
   "version": "3.8.12"
  }
 },
 "nbformat": 4,
 "nbformat_minor": 5
}
