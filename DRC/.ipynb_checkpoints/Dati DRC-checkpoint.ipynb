{
 "cells": [
  {
   "cell_type": "code",
   "execution_count": 1,
   "id": "ef498f44",
   "metadata": {},
   "outputs": [
    {
     "name": "stdout",
     "output_type": "stream",
     "text": [
      "all targeted structures: ['VISal', 'VISam', 'VISl', 'VISp', 'VISpm', 'VISrl']\n",
      "\n",
      "all imaging depths: [175, 185, 195, 200, 205, 225, 250, 265, 275, 276, 285, 300, 320, 325, 335, 350, 365, 375, 390, 400, 550, 570, 625]\n",
      "\n",
      "all cre lines:\n",
      "['Cux2-CreERT2', 'Emx1-IRES-Cre', 'Fezf2-CreER', 'Nr5a1-Cre', 'Ntsr1-Cre_GN220', 'Pvalb-IRES-Cre', 'Rbp4-Cre_KL100', 'Rorb-IRES2-Cre', 'Scnn1a-Tg3-Cre', 'Slc17a7-IRES2-Cre', 'Sst-IRES-Cre', 'Tlx3-Cre_PL56', 'Vip-IRES-Cre']\n"
     ]
    }
   ],
   "source": [
    "import pandas as pd\n",
    "from allensdk.core.brain_observatory_cache import BrainObservatoryCache\n",
    "import allensdk.brain_observatory.stimulus_info as stim_info\n",
    "import pprint\n",
    "\n",
    "boc = BrainObservatoryCache(manifest_file='boc/manifest.json')\n",
    "\n",
    "\n",
    "# Download a list of all targeted areas\n",
    "targeted_structures = boc.get_all_targeted_structures()\n",
    "print(\"all targeted structures: \" + str(targeted_structures)+ \"\\n\")\n",
    "# Download experiment containers for VISp experiments: (targeted_structures=['VISp'])\n",
    "\n",
    "# Download a list of all imaging depths\n",
    "depths = boc.get_all_imaging_depths()\n",
    "print(\"all imaging depths: \" + str(depths) + \"\\n\")\n",
    "\n",
    "# Download a list of all cre driver lines \n",
    "cre_lines = boc.get_all_cre_lines()\n",
    "print(\"all cre lines:\\n\" + str(cre_lines) )"
   ]
  },
  {
   "cell_type": "markdown",
   "id": "aa2751a9",
   "metadata": {},
   "source": [
    "## VISal"
   ]
  },
  {
   "cell_type": "code",
   "execution_count": 2,
   "id": "c6a5efb4",
   "metadata": {},
   "outputs": [
    {
     "data": {
      "text/plain": [
       "{175, 265, 275, 276, 300, 350, 365, 375}"
      ]
     },
     "execution_count": 2,
     "metadata": {},
     "output_type": "execute_result"
    }
   ],
   "source": [
    "depths = []\n",
    "for exp in boc.get_experiment_containers(targeted_structures = ['VISal']):\n",
    "    depths.append(exp['imaging_depth'])\n",
    "depths = set(depths)\n",
    "depths"
   ]
  },
  {
   "cell_type": "code",
   "execution_count": 60,
   "id": "6a279139",
   "metadata": {},
   "outputs": [],
   "source": [
    "data_session_A = []\n",
    "data_session_B = []\n",
    "data_session_C = []\n",
    "data_session_C2 = []"
   ]
  },
  {
   "cell_type": "code",
   "execution_count": null,
   "id": "eebc43e0",
   "metadata": {},
   "outputs": [],
   "source": [
    "for dep in depths:\n",
    "    experiment_containers = boc.get_experiment_containers(targeted_structures = ['VISal'],\n",
    "                                                     imaging_depths = [dep])\n",
    "    if len(experiment_containers) > 0 :\n",
    "        trunc = min(5, len(experiment_containers))\n",
    "        for exp_cont in range(0,trunc):\n",
    "            experiment_container_id = experiment_containers[exp_cont]['id']\n",
    "            #experiments = boc.get_ophys_experiments(experiment_container_ids=[experiment_container_id])    \n",
    "            exp = boc.get_ophys_experiments(experiment_container_ids=[experiment_container_id])\n",
    "\n",
    "            # Find the experiment with the static static gratings stimulus\n",
    "            for stim in range(0, len(exp)):\n",
    "                experiment = boc.get_ophys_experiment_data(exp[stim]['id']) \n",
    "                session = str(experiment.get_metadata()['session_type'])\n",
    "                experiment_id = experiment.get_metadata()['ophys_experiment_id']\n",
    "\n",
    "                experiment_cells_id = experiment.get_cell_specimen_ids()\n",
    "                # Download cells and convert to DataFrame\n",
    "                cells = boc.get_cell_specimens()\n",
    "                cells = pd.DataFrame.from_records(cells)\n",
    "                experiment_cells = cells[cells['cell_specimen_id'].isin(experiment_cells_id)]\n",
    "\n",
    "                for cellula in range(0,5):\n",
    "                    words = [str(x) for x in experiment_cells[['cell_specimen_id','area','donor_full_genotype','imaging_depth','specimen_id']].iloc[cellula]]\n",
    "                    words[2] = words[2].split('/')[0]\n",
    "                    words.append( str(session) )\n",
    "                    name2 = \"__\".join(words)\n",
    "                    name2 = \".\".join([str(name2),'csv'])\n",
    "                    name = \"\".join(['data_poisson/', name2])\n",
    "                    print(name)\n",
    "\n",
    "                    cell_id = experiment_cells.iloc[cellula].cell_specimen_id\n",
    "                    time, trace = experiment.get_dff_traces(cell_specimen_ids=[cell_id])\n",
    "                    df = pd.DataFrame(trace[0])\n",
    "\n",
    "                    df.to_csv(name, index = False)\n",
    "    print(dep)"
   ]
  },
  {
   "cell_type": "code",
   "execution_count": 32,
   "id": "558239e7",
   "metadata": {
    "scrolled": true
   },
   "outputs": [],
   "source": [
    "experiment_containers = boc.get_experiment_containers(targeted_structures = ['VISal'],\n",
    "                                                     imaging_depths = [175])\n",
    "experiment_container_id = experiment_containers[0]['id']\n",
    "#experiments = boc.get_ophys_experiments(experiment_container_ids=[experiment_container_id])    \n",
    "exp = boc.get_ophys_experiments(experiment_container_ids=[experiment_container_id])"
   ]
  },
  {
   "cell_type": "code",
   "execution_count": 34,
   "id": "1cbc406c",
   "metadata": {},
   "outputs": [
    {
     "name": "stderr",
     "output_type": "stream",
     "text": [
      "2022-05-14 18:55:19,909 allensdk.api.api.retrieve_file_over_http INFO     Downloading URL: http://api.brain-map.org/api/v2/well_known_file_download/516802565\n"
     ]
    }
   ],
   "source": [
    "experiment = boc.get_ophys_experiment_data(exp[0]['id']) "
   ]
  },
  {
   "cell_type": "code",
   "execution_count": 40,
   "id": "3a03a6af",
   "metadata": {},
   "outputs": [],
   "source": [
    "session = str(experiment.get_metadata()['session_type'])\n",
    "experiment_id = experiment.get_metadata()['ophys_experiment_id']\n",
    "experiment_cells_id = experiment.get_cell_specimen_ids()"
   ]
  },
  {
   "cell_type": "code",
   "execution_count": 57,
   "id": "d460abfe",
   "metadata": {},
   "outputs": [
    {
     "data": {
      "text/plain": [
       "'three_session_C'"
      ]
     },
     "execution_count": 57,
     "metadata": {},
     "output_type": "execute_result"
    }
   ],
   "source": [
    "session"
   ]
  },
  {
   "cell_type": "code",
   "execution_count": 56,
   "id": "a1870187",
   "metadata": {},
   "outputs": [
    {
     "data": {
      "text/plain": [
       "array([[0.06143039, 0.00372054, 0.11772133, ..., 0.10175377, 0.05513636,\n",
       "        0.05918726],\n",
       "       [0.8692127 , 0.7545401 , 0.59823674, ..., 0.07887363, 0.03617362,\n",
       "        0.09336224],\n",
       "       [0.12031903, 0.1528563 , 0.2173901 , ..., 0.10084223, 0.14033513,\n",
       "        0.14465633],\n",
       "       ...,\n",
       "       [0.22278045, 0.13560405, 0.10340755, ..., 0.05996512, 0.07642451,\n",
       "        0.13765614],\n",
       "       [0.12638757, 0.11050358, 0.22664668, ..., 0.09065556, 0.09618511,\n",
       "        0.04698145],\n",
       "       [0.13573228, 0.07638828, 0.08190621, ..., 0.08134713, 0.04218999,\n",
       "        0.08373006]], dtype=float32)"
      ]
     },
     "execution_count": 56,
     "metadata": {},
     "output_type": "execute_result"
    }
   ],
   "source": [
    "experiment.get_dff_traces()[1]"
   ]
  },
  {
   "cell_type": "code",
   "execution_count": 61,
   "id": "d966e60f",
   "metadata": {},
   "outputs": [],
   "source": [
    "if session == 'three_session_C':\n",
    "    data_session_C.append(experiment.get_dff_traces()[1])"
   ]
  },
  {
   "cell_type": "code",
   "execution_count": null,
   "id": "e12959cd",
   "metadata": {},
   "outputs": [],
   "source": []
  },
  {
   "cell_type": "code",
   "execution_count": null,
   "id": "db7c9843",
   "metadata": {},
   "outputs": [],
   "source": []
  }
 ],
 "metadata": {
  "kernelspec": {
   "display_name": "Python 3 (ipykernel)",
   "language": "python",
   "name": "python3"
  },
  "language_info": {
   "codemirror_mode": {
    "name": "ipython",
    "version": 3
   },
   "file_extension": ".py",
   "mimetype": "text/x-python",
   "name": "python",
   "nbconvert_exporter": "python",
   "pygments_lexer": "ipython3",
   "version": "3.8.12"
  }
 },
 "nbformat": 4,
 "nbformat_minor": 5
}
