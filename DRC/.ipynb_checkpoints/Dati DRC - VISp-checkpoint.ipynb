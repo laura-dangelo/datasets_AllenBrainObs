{
 "cells": [
  {
   "cell_type": "code",
   "execution_count": 1,
   "id": "ef498f44",
   "metadata": {},
   "outputs": [
    {
     "name": "stdout",
     "output_type": "stream",
     "text": [
      "all targeted structures: ['VISal', 'VISam', 'VISl', 'VISp', 'VISpm', 'VISrl']\n",
      "\n",
      "all imaging depths: [175, 185, 195, 200, 205, 225, 250, 265, 275, 276, 285, 300, 320, 325, 335, 350, 365, 375, 390, 400, 550, 570, 625]\n",
      "\n",
      "all cre lines:\n",
      "['Cux2-CreERT2', 'Emx1-IRES-Cre', 'Fezf2-CreER', 'Nr5a1-Cre', 'Ntsr1-Cre_GN220', 'Pvalb-IRES-Cre', 'Rbp4-Cre_KL100', 'Rorb-IRES2-Cre', 'Scnn1a-Tg3-Cre', 'Slc17a7-IRES2-Cre', 'Sst-IRES-Cre', 'Tlx3-Cre_PL56', 'Vip-IRES-Cre']\n"
     ]
    }
   ],
   "source": [
    "import pandas as pd\n",
    "from allensdk.core.brain_observatory_cache import BrainObservatoryCache\n",
    "import allensdk.brain_observatory.stimulus_info as stim_info\n",
    "import pprint\n",
    "\n",
    "boc = BrainObservatoryCache(manifest_file='boc/manifest.json')\n",
    "\n",
    "# Download a list of all targeted areas\n",
    "targeted_structures = boc.get_all_targeted_structures()\n",
    "print(\"all targeted structures: \" + str(targeted_structures)+ \"\\n\")\n",
    "# Download experiment containers for VISp experiments: (targeted_structures=['VISp'])\n",
    "\n",
    "# Download a list of all imaging depths\n",
    "depths = boc.get_all_imaging_depths()\n",
    "print(\"all imaging depths: \" + str(depths) + \"\\n\")\n",
    "\n",
    "# Download a list of all cre driver lines \n",
    "cre_lines = boc.get_all_cre_lines()\n",
    "print(\"all cre lines:\\n\" + str(cre_lines) )"
   ]
  },
  {
   "cell_type": "markdown",
   "id": "aa2751a9",
   "metadata": {},
   "source": [
    "## VISal"
   ]
  },
  {
   "cell_type": "code",
   "execution_count": 2,
   "id": "c6a5efb4",
   "metadata": {},
   "outputs": [
    {
     "data": {
      "text/plain": [
       "{175, 265, 275, 276, 300, 350, 365, 375}"
      ]
     },
     "execution_count": 2,
     "metadata": {},
     "output_type": "execute_result"
    }
   ],
   "source": [
    "depths = []\n",
    "for exp in boc.get_experiment_containers(targeted_structures = ['VISal']):\n",
    "    depths.append(exp['imaging_depth'])\n",
    "depths = set(depths)\n",
    "depths"
   ]
  },
  {
   "cell_type": "code",
   "execution_count": 3,
   "id": "0556a10c",
   "metadata": {
    "scrolled": true
   },
   "outputs": [
    {
     "data": {
      "text/plain": [
       "{'Cux2-CreERT2',\n",
       " 'Emx1-IRES-Cre',\n",
       " 'Nr5a1-Cre',\n",
       " 'Rbp4-Cre_KL100',\n",
       " 'Rorb-IRES2-Cre',\n",
       " 'Slc17a7-IRES2-Cre',\n",
       " 'Sst-IRES-Cre'}"
      ]
     },
     "execution_count": 3,
     "metadata": {},
     "output_type": "execute_result"
    }
   ],
   "source": [
    "cre_lines = []\n",
    "for exp in boc.get_experiment_containers(targeted_structures = ['VISal']):\n",
    "    cre_lines.append(exp['cre_line'])\n",
    "cre_lines = set(cre_lines)\n",
    "cre_lines"
   ]
  },
  {
   "cell_type": "code",
   "execution_count": null,
   "id": "4e2fb471",
   "metadata": {},
   "outputs": [],
   "source": [
    "experiment_containers_df = pd.DataFrame(columns = ['id', 'imaging_depth', 'targeted_structure',\n",
    "                                 'cre_line','reporter_line','donor_name',\n",
    "                                 'specimen_name','tags','failed'])"
   ]
  },
  {
   "cell_type": "code",
   "execution_count": null,
   "id": "07904f5f",
   "metadata": {},
   "outputs": [],
   "source": [
    "experiment_df = pd.DataFrame(columns = ['id', 'imaging_depth', 'targeted_structure',\n",
    "                                        'cre_line', 'reporter_line', 'acquisition_age_days',\n",
    "                                        'experiment_container_id', 'session_type', 'donor_name',\n",
    "                                        'specimen_name', 'fail_eye_tracking'])"
   ]
  },
  {
   "cell_type": "code",
   "execution_count": null,
   "id": "b49e5e42",
   "metadata": {},
   "outputs": [],
   "source": [
    "traces_df_dict = {\"experiment_id\" : [], \"traces\" : [], \"stim_table\" : []}"
   ]
  },
  {
   "cell_type": "code",
   "execution_count": null,
   "id": "c7752501",
   "metadata": {},
   "outputs": [],
   "source": [
    "errors_id = []"
   ]
  },
  {
   "cell_type": "code",
   "execution_count": null,
   "id": "eebc43e0",
   "metadata": {
    "scrolled": true
   },
   "outputs": [],
   "source": [
    "for dep in depths:\n",
    "    for cre in cre_lines:\n",
    "        experiment_containers = boc.get_experiment_containers(targeted_structures = ['VISal'],\n",
    "                                                         imaging_depths = [dep], \n",
    "                                                         cre_lines = [cre])\n",
    "\n",
    "        if len(experiment_containers) > 0 :\n",
    "            trunc = min(2, len(experiment_containers))\n",
    "            experiment_containers_df2 = pd.DataFrame(experiment_containers[0:trunc], \n",
    "                                                 columns =['id', 'imaging_depth', 'targeted_structure',\n",
    "                                                           'cre_line','reporter_line','donor_name',\n",
    "                                                           'specimen_name','tags','failed'])\n",
    "            experiment_containers_df = experiment_containers_df.append(experiment_containers_df2)\n",
    "\n",
    "            for exp_cont in range(0,trunc):\n",
    "                experiment_container_id = experiment_containers[exp_cont]['id']\n",
    "                exp = boc.get_ophys_experiments(experiment_container_ids=[experiment_container_id])\n",
    "\n",
    "                experiment_df2 = pd.DataFrame(exp,\n",
    "                                              columns = ['id', 'imaging_depth', 'targeted_structure',\n",
    "                                            'cre_line', 'reporter_line', 'acquisition_age_days',\n",
    "                                            'experiment_container_id', 'session_type', 'donor_name',\n",
    "                                            'specimen_name', 'fail_eye_tracking'])\n",
    "                experiment_df = experiment_df.append(experiment_df2)\n",
    "\n",
    "                 each experiment has a different session\n",
    "                for stim in range(0, len(exp)):   \n",
    "                    experiment_id = exp[stim]['id']\n",
    "                    session = exp[stim]['session_type']\n",
    "\n",
    "                    traces_df_dict[\"experiment_id\"].append(experiment_id)\n",
    "                    try:\n",
    "                        experiment = boc.get_ophys_experiment_data(experiment_id) \n",
    "                        experiment_cells_id = experiment.get_cell_specimen_ids()\n",
    "                        n_cells = min(50, len(experiment_cells_id))\n",
    "\n",
    "                        traces_df = pd.DataFrame(experiment.get_dff_traces()[1][0:n_cells],\n",
    "                                                columns = experiment.get_dff_traces()[0],\n",
    "                                                index = experiment_cells_id[0:n_cells] )\n",
    "                        traces_df_dict[\"traces\"].append(traces_df)\n",
    "                    except:\n",
    "                         errors_id.append(experiment_container_id)               \n",
    "            print(\"experiment container n \" + str(exp_cont) + \"\\n\")\n",
    "        print(\"cre line:  \" + str(cre) + \"\\n\")\n",
    "    print(\"depth: \" + str(dep) + \"\\n\")"
   ]
  },
  {
   "cell_type": "code",
   "execution_count": null,
   "id": "c0216375",
   "metadata": {},
   "outputs": [],
   "source": [
    "errors_id"
   ]
  },
  {
   "cell_type": "code",
   "execution_count": null,
   "id": "11a329f1",
   "metadata": {},
   "outputs": [],
   "source": [
    "experiment_df = experiment_df.loc[~experiment_df['id'].isin(errors_id)]"
   ]
  },
  {
   "cell_type": "code",
   "execution_count": null,
   "id": "3fef3772",
   "metadata": {},
   "outputs": [],
   "source": [
    "experiment_containers_df.to_csv('VISal_experiment_containers_df.txt', \n",
    "                                index=None, sep=' ', mode='a')"
   ]
  },
  {
   "cell_type": "code",
   "execution_count": null,
   "id": "8b47585c",
   "metadata": {},
   "outputs": [],
   "source": [
    "experiment_df.to_csv('VISal_experiment_df.txt', \n",
    "                      index=None, sep=' ', mode='a')"
   ]
  },
  {
   "cell_type": "code",
   "execution_count": null,
   "id": "ed4580ba",
   "metadata": {},
   "outputs": [],
   "source": [
    "for i in range(len(traces_df_dict[\"traces\"])):\n",
    "    trace_df_name = str(traces_df_dict[\"experiment_id\"][i]) + '.txt'\n",
    "    traces_df_dict[\"traces\"][i].to_csv(trace_df_name, \n",
    "                                index=None, sep=' ', mode='a')"
   ]
  },
  {
   "cell_type": "code",
   "execution_count": null,
   "id": "282240c2",
   "metadata": {},
   "outputs": [],
   "source": [
    "### fine codice su tutto"
   ]
  },
  {
   "cell_type": "code",
   "execution_count": 4,
   "id": "d6340fd6",
   "metadata": {},
   "outputs": [
    {
     "data": {
      "text/plain": [
       "[{'id': 501839084,\n",
       "  'imaging_depth': 175,\n",
       "  'targeted_structure': 'VISal',\n",
       "  'cre_line': 'Cux2-CreERT2',\n",
       "  'reporter_line': 'Ai93(TITL-GCaMP6f)',\n",
       "  'acquisition_age_days': 108,\n",
       "  'experiment_container_id': 511510715,\n",
       "  'session_type': 'three_session_C',\n",
       "  'donor_name': '222426',\n",
       "  'specimen_name': 'Cux2-CreERT2;Camk2a-tTA;Ai93-222426',\n",
       "  'fail_eye_tracking': True},\n",
       " {'id': 501876401,\n",
       "  'imaging_depth': 175,\n",
       "  'targeted_structure': 'VISal',\n",
       "  'cre_line': 'Cux2-CreERT2',\n",
       "  'reporter_line': 'Ai93(TITL-GCaMP6f)',\n",
       "  'acquisition_age_days': 109,\n",
       "  'experiment_container_id': 511510715,\n",
       "  'session_type': 'three_session_A',\n",
       "  'donor_name': '222426',\n",
       "  'specimen_name': 'Cux2-CreERT2;Camk2a-tTA;Ai93-222426',\n",
       "  'fail_eye_tracking': True},\n",
       " {'id': 501929146,\n",
       "  'imaging_depth': 175,\n",
       "  'targeted_structure': 'VISal',\n",
       "  'cre_line': 'Cux2-CreERT2',\n",
       "  'reporter_line': 'Ai93(TITL-GCaMP6f)',\n",
       "  'acquisition_age_days': 110,\n",
       "  'experiment_container_id': 511510715,\n",
       "  'session_type': 'three_session_B',\n",
       "  'donor_name': '222426',\n",
       "  'specimen_name': 'Cux2-CreERT2;Camk2a-tTA;Ai93-222426',\n",
       "  'fail_eye_tracking': True}]"
      ]
     },
     "execution_count": 4,
     "metadata": {},
     "output_type": "execute_result"
    }
   ],
   "source": [
    "experiment_containers = boc.get_experiment_containers(targeted_structures = ['VISal'],\n",
    "                        imaging_depths = [175], \n",
    "                        cre_lines = ['Cux2-CreERT2'])\n",
    "\n",
    "experiment_container_id = experiment_containers[0]['id']\n",
    "exp = boc.get_ophys_experiments(experiment_container_ids=[experiment_container_id])\n",
    "exp"
   ]
  },
  {
   "cell_type": "code",
   "execution_count": 5,
   "id": "8b02bb6f",
   "metadata": {},
   "outputs": [
    {
     "name": "stdout",
     "output_type": "stream",
     "text": [
      "three_session_C\n"
     ]
    }
   ],
   "source": [
    "experiment_id = exp[0]['id']\n",
    "session = exp[0]['session_type']\n",
    "print(session)\n",
    "\n",
    "experiment = boc.get_ophys_experiment_data(experiment_id) "
   ]
  },
  {
   "cell_type": "code",
   "execution_count": null,
   "id": "1265b916",
   "metadata": {},
   "outputs": [],
   "source": [
    "#experiment_cells_id = experiment.get_cell_specimen_ids()\n",
    "#n_cells = min(3, len(experiment_cells_id))"
   ]
  },
  {
   "cell_type": "code",
   "execution_count": null,
   "id": "5b509452",
   "metadata": {},
   "outputs": [],
   "source": [
    "#traces_df = pd.DataFrame(experiment.get_dff_traces()[1][0:n_cells],\n",
    "#                         columns = experiment.get_dff_traces()[0],\n",
    "#                         index = experiment_cells_id[0:n_cells] )\n",
    "#traces_df"
   ]
  },
  {
   "cell_type": "code",
   "execution_count": 22,
   "id": "05a536af",
   "metadata": {},
   "outputs": [
    {
     "name": "stdout",
     "output_type": "stream",
     "text": [
      "      frame   start     end\n",
      "0         0     745     752\n",
      "1         1     753     760\n",
      "2         2     760     767\n",
      "3         3     768     775\n",
      "4         4     775     782\n",
      "...     ...     ...     ...\n",
      "8875   8875  105490  105497\n",
      "8876   8876  105497  105504\n",
      "8877   8877  105505  105512\n",
      "8878   8878  105512  105519\n",
      "8879   8879  105520  105527\n",
      "\n",
      "[8880 rows x 3 columns]\n",
      "      frame  start    end  repeat\n",
      "0         0  31453  31453       0\n",
      "1         1  31454  31455       0\n",
      "2         2  31455  31456       0\n",
      "3         3  31456  31457       0\n",
      "4         4  31457  31458       0\n",
      "...     ...    ...    ...     ...\n",
      "8995    895  40480  40481       9\n",
      "8996    896  40481  40482       9\n",
      "8997    897  40482  40483       9\n",
      "8998    898  40483  40484       9\n",
      "8999    899  40484  40485       9\n",
      "\n",
      "[9000 rows x 4 columns]\n",
      "      frame  start    end  repeat\n",
      "0         0  63966  63967       0\n",
      "1         1  63967  63968       0\n",
      "2         2  63968  63969       0\n",
      "3         3  63969  63970       0\n",
      "4         4  63970  63971       0\n",
      "...     ...    ...    ...     ...\n",
      "8995    895  72991  72992       9\n",
      "8996    896  72992  72993       9\n",
      "8997    897  72993  72994       9\n",
      "8998    898  72994  72995       9\n",
      "8999    899  72995  72996       9\n",
      "\n",
      "[9000 rows x 4 columns]\n",
      "   start    end\n",
      "0  22572  31452\n",
      "1  73146  82027\n"
     ]
    }
   ],
   "source": [
    "stim_add = pd.Series(list('n'*len(experiment.get_dff_traces()[0])),\n",
    "                    index = experiment.get_dff_traces()[0])\n",
    "stim_list = experiment.list_stimuli()\n",
    "for s in range(len(stim_list)):\n",
    "    stim_table = experiment.get_stimulus_table(stim_list[s])\n",
    "    for i in range(stim_table.shape[0]):\n",
    "        stim_add.iloc[stim_table.at[i,'start']:(stim_table.at[i,'end']+1)] = stim_list[s]"
   ]
  },
  {
   "cell_type": "code",
   "execution_count": 24,
   "id": "a0221626",
   "metadata": {},
   "outputs": [],
   "source": [
    "stim_dict = {'stimulus':[stim_add.iloc[0]], \n",
    "             'start':[0], \n",
    "             'end':[],\n",
    "             'time_start':[stim_add.index[0]], \n",
    "             'time_end':[] }"
   ]
  },
  {
   "cell_type": "code",
   "execution_count": 35,
   "id": "12737e3d",
   "metadata": {},
   "outputs": [],
   "source": [
    "ind = 0\n",
    "for i in range(len(stim_add)-1):\n",
    "    if (stim_add.iloc[i+1]!=stim_add.iloc[i]):\n",
    "        stim_dict['end'].append(i)\n",
    "        stim_dict['time_end'].append(stim_add.index[i])\n",
    "        stim_dict['start'].append(i+1)\n",
    "        stim_dict['time_start'].append(stim_add.index[i+1])\n",
    "        stim_dict['stimulus'].append(stim_add.iloc[i+1])\n",
    "        ind = ind+1\n",
    "stim_dict['end'].append(i+1)\n",
    "stim_dict['time_end'].append(stim_add.index[i+1]) \n",
    "        "
   ]
  },
  {
   "cell_type": "code",
   "execution_count": 36,
   "id": "47095e9a",
   "metadata": {},
   "outputs": [
    {
     "data": {
      "text/html": [
       "<div>\n",
       "<style scoped>\n",
       "    .dataframe tbody tr th:only-of-type {\n",
       "        vertical-align: middle;\n",
       "    }\n",
       "\n",
       "    .dataframe tbody tr th {\n",
       "        vertical-align: top;\n",
       "    }\n",
       "\n",
       "    .dataframe thead th {\n",
       "        text-align: right;\n",
       "    }\n",
       "</style>\n",
       "<table border=\"1\" class=\"dataframe\">\n",
       "  <thead>\n",
       "    <tr style=\"text-align: right;\">\n",
       "      <th></th>\n",
       "      <th>stimulus</th>\n",
       "      <th>start</th>\n",
       "      <th>end</th>\n",
       "      <th>time_start</th>\n",
       "      <th>time_end</th>\n",
       "    </tr>\n",
       "  </thead>\n",
       "  <tbody>\n",
       "    <tr>\n",
       "      <th>0</th>\n",
       "      <td>n</td>\n",
       "      <td>0</td>\n",
       "      <td>744</td>\n",
       "      <td>5.39947</td>\n",
       "      <td>30.13514</td>\n",
       "    </tr>\n",
       "    <tr>\n",
       "      <th>1</th>\n",
       "      <td>locally_sparse_noise</td>\n",
       "      <td>745</td>\n",
       "      <td>22422</td>\n",
       "      <td>30.16839</td>\n",
       "      <td>750.87419</td>\n",
       "    </tr>\n",
       "    <tr>\n",
       "      <th>2</th>\n",
       "      <td>n</td>\n",
       "      <td>22423</td>\n",
       "      <td>22571</td>\n",
       "      <td>750.90743</td>\n",
       "      <td>755.82812</td>\n",
       "    </tr>\n",
       "    <tr>\n",
       "      <th>3</th>\n",
       "      <td>spontaneous</td>\n",
       "      <td>22572</td>\n",
       "      <td>31452</td>\n",
       "      <td>755.86137</td>\n",
       "      <td>1051.10409</td>\n",
       "    </tr>\n",
       "    <tr>\n",
       "      <th>4</th>\n",
       "      <td>natural_movie_one</td>\n",
       "      <td>31453</td>\n",
       "      <td>38611</td>\n",
       "      <td>1051.13734</td>\n",
       "      <td>1289.12890</td>\n",
       "    </tr>\n",
       "    <tr>\n",
       "      <th>5</th>\n",
       "      <td>n</td>\n",
       "      <td>38612</td>\n",
       "      <td>38612</td>\n",
       "      <td>1289.16215</td>\n",
       "      <td>1289.16215</td>\n",
       "    </tr>\n",
       "    <tr>\n",
       "      <th>6</th>\n",
       "      <td>natural_movie_one</td>\n",
       "      <td>38613</td>\n",
       "      <td>40485</td>\n",
       "      <td>1289.19540</td>\n",
       "      <td>1351.43656</td>\n",
       "    </tr>\n",
       "    <tr>\n",
       "      <th>7</th>\n",
       "      <td>n</td>\n",
       "      <td>40486</td>\n",
       "      <td>41387</td>\n",
       "      <td>1351.46981</td>\n",
       "      <td>1381.42674</td>\n",
       "    </tr>\n",
       "    <tr>\n",
       "      <th>8</th>\n",
       "      <td>locally_sparse_noise</td>\n",
       "      <td>41388</td>\n",
       "      <td>63063</td>\n",
       "      <td>1381.45999</td>\n",
       "      <td>2102.12993</td>\n",
       "    </tr>\n",
       "    <tr>\n",
       "      <th>9</th>\n",
       "      <td>n</td>\n",
       "      <td>63064</td>\n",
       "      <td>63965</td>\n",
       "      <td>2102.16318</td>\n",
       "      <td>2132.12077</td>\n",
       "    </tr>\n",
       "    <tr>\n",
       "      <th>10</th>\n",
       "      <td>natural_movie_two</td>\n",
       "      <td>63966</td>\n",
       "      <td>72996</td>\n",
       "      <td>2132.15402</td>\n",
       "      <td>2432.39636</td>\n",
       "    </tr>\n",
       "    <tr>\n",
       "      <th>11</th>\n",
       "      <td>n</td>\n",
       "      <td>72997</td>\n",
       "      <td>73145</td>\n",
       "      <td>2432.42961</td>\n",
       "      <td>2437.35055</td>\n",
       "    </tr>\n",
       "    <tr>\n",
       "      <th>12</th>\n",
       "      <td>spontaneous</td>\n",
       "      <td>73146</td>\n",
       "      <td>82027</td>\n",
       "      <td>2437.38380</td>\n",
       "      <td>2732.67455</td>\n",
       "    </tr>\n",
       "    <tr>\n",
       "      <th>13</th>\n",
       "      <td>locally_sparse_noise</td>\n",
       "      <td>82028</td>\n",
       "      <td>105527</td>\n",
       "      <td>2732.70780</td>\n",
       "      <td>3514.05440</td>\n",
       "    </tr>\n",
       "    <tr>\n",
       "      <th>14</th>\n",
       "      <td>n</td>\n",
       "      <td>105528</td>\n",
       "      <td>744</td>\n",
       "      <td>3514.08765</td>\n",
       "      <td>30.13514</td>\n",
       "    </tr>\n",
       "    <tr>\n",
       "      <th>15</th>\n",
       "      <td>locally_sparse_noise</td>\n",
       "      <td>745</td>\n",
       "      <td>22422</td>\n",
       "      <td>30.16839</td>\n",
       "      <td>750.87419</td>\n",
       "    </tr>\n",
       "    <tr>\n",
       "      <th>16</th>\n",
       "      <td>n</td>\n",
       "      <td>22423</td>\n",
       "      <td>22571</td>\n",
       "      <td>750.90743</td>\n",
       "      <td>755.82812</td>\n",
       "    </tr>\n",
       "    <tr>\n",
       "      <th>17</th>\n",
       "      <td>spontaneous</td>\n",
       "      <td>22572</td>\n",
       "      <td>31452</td>\n",
       "      <td>755.86137</td>\n",
       "      <td>1051.10409</td>\n",
       "    </tr>\n",
       "    <tr>\n",
       "      <th>18</th>\n",
       "      <td>natural_movie_one</td>\n",
       "      <td>31453</td>\n",
       "      <td>38611</td>\n",
       "      <td>1051.13734</td>\n",
       "      <td>1289.12890</td>\n",
       "    </tr>\n",
       "    <tr>\n",
       "      <th>19</th>\n",
       "      <td>n</td>\n",
       "      <td>38612</td>\n",
       "      <td>38612</td>\n",
       "      <td>1289.16215</td>\n",
       "      <td>1289.16215</td>\n",
       "    </tr>\n",
       "    <tr>\n",
       "      <th>20</th>\n",
       "      <td>natural_movie_one</td>\n",
       "      <td>38613</td>\n",
       "      <td>40485</td>\n",
       "      <td>1289.19540</td>\n",
       "      <td>1351.43656</td>\n",
       "    </tr>\n",
       "    <tr>\n",
       "      <th>21</th>\n",
       "      <td>n</td>\n",
       "      <td>40486</td>\n",
       "      <td>41387</td>\n",
       "      <td>1351.46981</td>\n",
       "      <td>1381.42674</td>\n",
       "    </tr>\n",
       "    <tr>\n",
       "      <th>22</th>\n",
       "      <td>locally_sparse_noise</td>\n",
       "      <td>41388</td>\n",
       "      <td>63063</td>\n",
       "      <td>1381.45999</td>\n",
       "      <td>2102.12993</td>\n",
       "    </tr>\n",
       "    <tr>\n",
       "      <th>23</th>\n",
       "      <td>n</td>\n",
       "      <td>63064</td>\n",
       "      <td>63965</td>\n",
       "      <td>2102.16318</td>\n",
       "      <td>2132.12077</td>\n",
       "    </tr>\n",
       "    <tr>\n",
       "      <th>24</th>\n",
       "      <td>natural_movie_two</td>\n",
       "      <td>63966</td>\n",
       "      <td>72996</td>\n",
       "      <td>2132.15402</td>\n",
       "      <td>2432.39636</td>\n",
       "    </tr>\n",
       "    <tr>\n",
       "      <th>25</th>\n",
       "      <td>n</td>\n",
       "      <td>72997</td>\n",
       "      <td>73145</td>\n",
       "      <td>2432.42961</td>\n",
       "      <td>2437.35055</td>\n",
       "    </tr>\n",
       "    <tr>\n",
       "      <th>26</th>\n",
       "      <td>spontaneous</td>\n",
       "      <td>73146</td>\n",
       "      <td>82027</td>\n",
       "      <td>2437.38380</td>\n",
       "      <td>2732.67455</td>\n",
       "    </tr>\n",
       "    <tr>\n",
       "      <th>27</th>\n",
       "      <td>locally_sparse_noise</td>\n",
       "      <td>82028</td>\n",
       "      <td>105527</td>\n",
       "      <td>2732.70780</td>\n",
       "      <td>3514.05440</td>\n",
       "    </tr>\n",
       "    <tr>\n",
       "      <th>28</th>\n",
       "      <td>n</td>\n",
       "      <td>105528</td>\n",
       "      <td>105752</td>\n",
       "      <td>3514.08765</td>\n",
       "      <td>3521.53577</td>\n",
       "    </tr>\n",
       "  </tbody>\n",
       "</table>\n",
       "</div>"
      ],
      "text/plain": [
       "                stimulus   start     end  time_start    time_end\n",
       "0                      n       0     744     5.39947    30.13514\n",
       "1   locally_sparse_noise     745   22422    30.16839   750.87419\n",
       "2                      n   22423   22571   750.90743   755.82812\n",
       "3            spontaneous   22572   31452   755.86137  1051.10409\n",
       "4      natural_movie_one   31453   38611  1051.13734  1289.12890\n",
       "5                      n   38612   38612  1289.16215  1289.16215\n",
       "6      natural_movie_one   38613   40485  1289.19540  1351.43656\n",
       "7                      n   40486   41387  1351.46981  1381.42674\n",
       "8   locally_sparse_noise   41388   63063  1381.45999  2102.12993\n",
       "9                      n   63064   63965  2102.16318  2132.12077\n",
       "10     natural_movie_two   63966   72996  2132.15402  2432.39636\n",
       "11                     n   72997   73145  2432.42961  2437.35055\n",
       "12           spontaneous   73146   82027  2437.38380  2732.67455\n",
       "13  locally_sparse_noise   82028  105527  2732.70780  3514.05440\n",
       "14                     n  105528     744  3514.08765    30.13514\n",
       "15  locally_sparse_noise     745   22422    30.16839   750.87419\n",
       "16                     n   22423   22571   750.90743   755.82812\n",
       "17           spontaneous   22572   31452   755.86137  1051.10409\n",
       "18     natural_movie_one   31453   38611  1051.13734  1289.12890\n",
       "19                     n   38612   38612  1289.16215  1289.16215\n",
       "20     natural_movie_one   38613   40485  1289.19540  1351.43656\n",
       "21                     n   40486   41387  1351.46981  1381.42674\n",
       "22  locally_sparse_noise   41388   63063  1381.45999  2102.12993\n",
       "23                     n   63064   63965  2102.16318  2132.12077\n",
       "24     natural_movie_two   63966   72996  2132.15402  2432.39636\n",
       "25                     n   72997   73145  2432.42961  2437.35055\n",
       "26           spontaneous   73146   82027  2437.38380  2732.67455\n",
       "27  locally_sparse_noise   82028  105527  2732.70780  3514.05440\n",
       "28                     n  105528  105752  3514.08765  3521.53577"
      ]
     },
     "execution_count": 36,
     "metadata": {},
     "output_type": "execute_result"
    }
   ],
   "source": [
    "pd.DataFrame(stim_dict)"
   ]
  },
  {
   "cell_type": "code",
   "execution_count": null,
   "id": "7784989b",
   "metadata": {},
   "outputs": [],
   "source": [
    "ind"
   ]
  }
 ],
 "metadata": {
  "kernelspec": {
   "display_name": "Python 3 (ipykernel)",
   "language": "python",
   "name": "python3"
  },
  "language_info": {
   "codemirror_mode": {
    "name": "ipython",
    "version": 3
   },
   "file_extension": ".py",
   "mimetype": "text/x-python",
   "name": "python",
   "nbconvert_exporter": "python",
   "pygments_lexer": "ipython3",
   "version": "3.8.12"
  }
 },
 "nbformat": 4,
 "nbformat_minor": 5
}
