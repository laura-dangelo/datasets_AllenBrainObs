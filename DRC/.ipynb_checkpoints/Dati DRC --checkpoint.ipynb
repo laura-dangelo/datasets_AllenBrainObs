{
 "cells": [
  {
   "cell_type": "code",
   "execution_count": null,
   "id": "ef498f44",
   "metadata": {},
   "outputs": [],
   "source": [
    "import pandas as pd\n",
    "from allensdk.core.brain_observatory_cache import BrainObservatoryCache\n",
    "import allensdk.brain_observatory.stimulus_info as stim_info\n",
    "import pprint\n",
    "\n",
    "boc = BrainObservatoryCache(manifest_file='boc/manifest.json')\n",
    "\n",
    "# Download a list of all targeted areas\n",
    "targeted_structures = boc.get_all_targeted_structures()\n",
    "print(\"all targeted structures: \" + str(targeted_structures)+ \"\\n\")\n",
    "# Download experiment containers for VISp experiments: (targeted_structures=['VISp'])\n",
    "\n",
    "# Download a list of all imaging depths\n",
    "depths = boc.get_all_imaging_depths()\n",
    "print(\"all imaging depths: \" + str(depths) + \"\\n\")\n",
    "\n",
    "# Download a list of all cre driver lines \n",
    "cre_lines = boc.get_all_cre_lines()\n",
    "print(\"all cre lines:\\n\" + str(cre_lines) )"
   ]
  },
  {
   "cell_type": "markdown",
   "id": "aa2751a9",
   "metadata": {},
   "source": [
    "## VISal"
   ]
  },
  {
   "cell_type": "code",
   "execution_count": null,
   "id": "c6a5efb4",
   "metadata": {},
   "outputs": [],
   "source": [
    "depths = []\n",
    "for exp in boc.get_experiment_containers(targeted_structures = ['VISal']):\n",
    "    depths.append(exp['imaging_depth'])\n",
    "depths = set(depths)\n",
    "depths"
   ]
  },
  {
   "cell_type": "code",
   "execution_count": null,
   "id": "0556a10c",
   "metadata": {
    "scrolled": true
   },
   "outputs": [],
   "source": [
    "cre_lines = []\n",
    "for exp in boc.get_experiment_containers(targeted_structures = ['VISal']):\n",
    "    cre_lines.append(exp['cre_line'])\n",
    "cre_lines = set(cre_lines)\n",
    "cre_lines"
   ]
  },
  {
   "cell_type": "code",
   "execution_count": null,
   "id": "4e2fb471",
   "metadata": {},
   "outputs": [],
   "source": [
    "experiment_containers_df = pd.DataFrame(columns = ['id', 'imaging_depth', 'targeted_structure',\n",
    "                                 'cre_line','reporter_line','donor_name',\n",
    "                                 'specimen_name','tags','failed'])"
   ]
  },
  {
   "cell_type": "code",
   "execution_count": null,
   "id": "07904f5f",
   "metadata": {},
   "outputs": [],
   "source": [
    "experiment_df = pd.DataFrame(columns = ['id', 'imaging_depth', 'targeted_structure',\n",
    "                                        'cre_line', 'reporter_line', 'acquisition_age_days',\n",
    "                                        'experiment_container_id', 'session_type', 'donor_name',\n",
    "                                        'specimen_name', 'fail_eye_tracking'])"
   ]
  },
  {
   "cell_type": "code",
   "execution_count": null,
   "id": "b49e5e42",
   "metadata": {},
   "outputs": [],
   "source": [
    "traces_df_dict = {\"experiment_id\" : [], \"traces\" : []}"
   ]
  },
  {
   "cell_type": "code",
   "execution_count": null,
   "id": "c7752501",
   "metadata": {},
   "outputs": [],
   "source": [
    "errors_id = []"
   ]
  },
  {
   "cell_type": "code",
   "execution_count": null,
   "id": "eebc43e0",
   "metadata": {
    "scrolled": true
   },
   "outputs": [],
   "source": [
    "for dep in depths:\n",
    "    for cre in cre_lines:\n",
    "        experiment_containers = boc.get_experiment_containers(targeted_structures = ['VISal'],\n",
    "                                                         imaging_depths = [dep], \n",
    "                                                         cre_lines = [cre])\n",
    "\n",
    "        if len(experiment_containers) > 0 :\n",
    "            trunc = min(2, len(experiment_containers))\n",
    "            experiment_containers_df2 = pd.DataFrame(experiment_containers[0:trunc], \n",
    "                                                 columns =['id', 'imaging_depth', 'targeted_structure',\n",
    "                                                           'cre_line','reporter_line','donor_name',\n",
    "                                                           'specimen_name','tags','failed'])\n",
    "            experiment_containers_df = experiment_containers_df.append(experiment_containers_df2)\n",
    "\n",
    "            for exp_cont in range(0,trunc):\n",
    "                experiment_container_id = experiment_containers[exp_cont]['id']\n",
    "                exp = boc.get_ophys_experiments(experiment_container_ids=[experiment_container_id])\n",
    "\n",
    "                experiment_df2 = pd.DataFrame(exp,\n",
    "                                              columns = ['id', 'imaging_depth', 'targeted_structure',\n",
    "                                            'cre_line', 'reporter_line', 'acquisition_age_days',\n",
    "                                            'experiment_container_id', 'session_type', 'donor_name',\n",
    "                                            'specimen_name', 'fail_eye_tracking'])\n",
    "                experiment_df = experiment_df.append(experiment_df2)\n",
    "\n",
    "                 each experiment has a different session\n",
    "                for stim in range(0, len(exp)):   \n",
    "                    experiment_id = exp[stim]['id']\n",
    "                    session = exp[stim]['session_type']\n",
    "\n",
    "                    traces_df_dict[\"experiment_id\"].append(experiment_id)\n",
    "                    try:\n",
    "                        experiment = boc.get_ophys_experiment_data(experiment_id) \n",
    "                        experiment_cells_id = experiment.get_cell_specimen_ids()\n",
    "                        n_cells = min(50, len(experiment_cells_id))\n",
    "\n",
    "                        traces_df = pd.DataFrame(experiment.get_dff_traces()[1][0:n_cells],\n",
    "                                                columns = experiment.get_dff_traces()[0],\n",
    "                                                index = experiment_cells_id[0:n_cells] )\n",
    "                        traces_df_dict[\"traces\"].append(traces_df)\n",
    "                    except:\n",
    "                         errors_id.append(experiment_container_id)               \n",
    "            print(\"experiment container n \" + str(exp_cont) + \"\\n\")\n",
    "        print(\"cre line:  \" + str(cre) + \"\\n\")\n",
    "    print(\"depth: \" + str(dep) + \"\\n\")"
   ]
  },
  {
   "cell_type": "code",
   "execution_count": null,
   "id": "c0216375",
   "metadata": {},
   "outputs": [],
   "source": [
    "errors_id"
   ]
  },
  {
   "cell_type": "code",
   "execution_count": null,
   "id": "11a329f1",
   "metadata": {},
   "outputs": [],
   "source": [
    "experiment_df = experiment_df.loc[~experiment_df['id'].isin(errors_id)]"
   ]
  },
  {
   "cell_type": "code",
   "execution_count": null,
   "id": "3fef3772",
   "metadata": {},
   "outputs": [],
   "source": [
    "experiment_containers_df.to_csv('VISal_experiment_containers_df.txt', \n",
    "                                index=None, sep=' ', mode='a')"
   ]
  },
  {
   "cell_type": "code",
   "execution_count": null,
   "id": "8b47585c",
   "metadata": {},
   "outputs": [],
   "source": [
    "experiment_df.to_csv('VISal_experiment_df.txt', \n",
    "                      index=None, sep=' ', mode='a')"
   ]
  },
  {
   "cell_type": "code",
   "execution_count": null,
   "id": "ed4580ba",
   "metadata": {},
   "outputs": [],
   "source": [
    "for i in range(len(traces_df_dict[\"traces\"])):\n",
    "    trace_df_name = 'VISal_' + str(traces_df_dict[\"experiment_id\"][i]) + '.txt'\n",
    "    traces_df_dict[\"traces\"][i].to_csv(trace_df_name, \n",
    "                                index=None, sep=' ', mode='a')"
   ]
  },
  {
   "cell_type": "code",
   "execution_count": null,
   "id": "d6340fd6",
   "metadata": {},
   "outputs": [],
   "source": [
    "experiment_containers = boc.get_experiment_containers(targeted_structures = ['VISal'],\n",
    "                        imaging_depths = [175], \n",
    "                        cre_lines = ['Cux2-CreERT2'])\n",
    "\n",
    "experiment_container_id = experiment_containers[0]['id']\n",
    "exp = boc.get_ophys_experiments(experiment_container_ids=[experiment_container_id])\n",
    "\n",
    "experiment_id = exp[0]['id']\n",
    "session = exp[0]['session_type']\n",
    "\n",
    "experiment = boc.get_ophys_experiment_data(experiment_id) \n"
   ]
  },
  {
   "cell_type": "code",
   "execution_count": null,
   "id": "1265b916",
   "metadata": {},
   "outputs": [],
   "source": [
    "experiment_cells_id = experiment.get_cell_specimen_ids()\n",
    "n_cells = min(5, len(experiment_cells_id))"
   ]
  },
  {
   "cell_type": "code",
   "execution_count": null,
   "id": "5b509452",
   "metadata": {},
   "outputs": [],
   "source": [
    "traces_df = pd.DataFrame(experiment.get_dff_traces()[1][0:n_cells],\n",
    "                         columns = experiment.get_dff_traces()[0],\n",
    "                         index = experiment_cells_id[0:n_cells] )\n",
    "traces_df"
   ]
  },
  {
   "cell_type": "code",
   "execution_count": null,
   "id": "05a536af",
   "metadata": {},
   "outputs": [],
   "source": [
    "stim_add = pd.Series(list('n'*len(experiment.get_dff_traces()[0])),\n",
    "                    index = experiment.get_dff_traces()[0])\n",
    "stim_list = experiment.list_stimuli()\n",
    "for s in range(len(stim_list)):\n",
    "    stim_table = experiment.get_stimulus_table(stim_list[s])\n",
    "    for i in range(stim_table.shape[0]):\n",
    "        stim_add[stim_table['start'][i]:stim_table['end'][i]+1] = stim_list[s]\n",
    "stim_add[stim_add=='n'] = 'spontaneous'"
   ]
  },
  {
   "cell_type": "code",
   "execution_count": null,
   "id": "39acf26e",
   "metadata": {},
   "outputs": [],
   "source": []
  }
 ],
 "metadata": {
  "kernelspec": {
   "display_name": "Python 3 (ipykernel)",
   "language": "python",
   "name": "python3"
  },
  "language_info": {
   "codemirror_mode": {
    "name": "ipython",
    "version": 3
   },
   "file_extension": ".py",
   "mimetype": "text/x-python",
   "name": "python",
   "nbconvert_exporter": "python",
   "pygments_lexer": "ipython3",
   "version": "3.8.12"
  }
 },
 "nbformat": 4,
 "nbformat_minor": 5
}
