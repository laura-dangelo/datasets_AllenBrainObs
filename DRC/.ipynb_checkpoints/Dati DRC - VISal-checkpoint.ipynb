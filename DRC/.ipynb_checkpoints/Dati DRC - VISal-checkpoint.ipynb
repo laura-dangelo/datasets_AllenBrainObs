{
 "cells": [
  {
   "cell_type": "code",
   "execution_count": 1,
   "id": "ef498f44",
   "metadata": {},
   "outputs": [
    {
     "name": "stdout",
     "output_type": "stream",
     "text": [
      "all targeted structures: ['VISal', 'VISam', 'VISl', 'VISp', 'VISpm', 'VISrl']\n",
      "\n",
      "all imaging depths: [175, 185, 195, 200, 205, 225, 250, 265, 275, 276, 285, 300, 320, 325, 335, 350, 365, 375, 390, 400, 550, 570, 625]\n",
      "\n",
      "all cre lines:\n",
      "['Cux2-CreERT2', 'Emx1-IRES-Cre', 'Fezf2-CreER', 'Nr5a1-Cre', 'Ntsr1-Cre_GN220', 'Pvalb-IRES-Cre', 'Rbp4-Cre_KL100', 'Rorb-IRES2-Cre', 'Scnn1a-Tg3-Cre', 'Slc17a7-IRES2-Cre', 'Sst-IRES-Cre', 'Tlx3-Cre_PL56', 'Vip-IRES-Cre']\n"
     ]
    }
   ],
   "source": [
    "import pandas as pd\n",
    "from allensdk.core.brain_observatory_cache import BrainObservatoryCache\n",
    "import allensdk.brain_observatory.stimulus_info as stim_info\n",
    "import pprint\n",
    "\n",
    "boc = BrainObservatoryCache(manifest_file='boc/manifest.json')\n",
    "\n",
    "\n",
    "# Download a list of all targeted areas\n",
    "targeted_structures = boc.get_all_targeted_structures()\n",
    "print(\"all targeted structures: \" + str(targeted_structures)+ \"\\n\")\n",
    "# Download experiment containers for VISp experiments: (targeted_structures=['VISp'])\n",
    "\n",
    "# Download a list of all imaging depths\n",
    "depths = boc.get_all_imaging_depths()\n",
    "print(\"all imaging depths: \" + str(depths) + \"\\n\")\n",
    "\n",
    "# Download a list of all cre driver lines \n",
    "cre_lines = boc.get_all_cre_lines()\n",
    "print(\"all cre lines:\\n\" + str(cre_lines) )"
   ]
  },
  {
   "cell_type": "markdown",
   "id": "aa2751a9",
   "metadata": {},
   "source": [
    "## VISal"
   ]
  },
  {
   "cell_type": "code",
   "execution_count": 2,
   "id": "c6a5efb4",
   "metadata": {},
   "outputs": [
    {
     "data": {
      "text/plain": [
       "{175, 265, 275, 276, 300, 350, 365, 375}"
      ]
     },
     "execution_count": 2,
     "metadata": {},
     "output_type": "execute_result"
    }
   ],
   "source": [
    "depths = []\n",
    "for exp in boc.get_experiment_containers(targeted_structures = ['VISal']):\n",
    "    depths.append(exp['imaging_depth'])\n",
    "depths = set(depths)\n",
    "depths"
   ]
  },
  {
   "cell_type": "code",
   "execution_count": 3,
   "id": "4e2fb471",
   "metadata": {},
   "outputs": [],
   "source": [
    "experiment_containers_df = pd.DataFrame(columns = ['id', 'imaging_depth', 'targeted_structure',\n",
    "                                 'cre_line','reporter_line','donor_name',\n",
    "                                 'specimen_name','tags','failed'])"
   ]
  },
  {
   "cell_type": "code",
   "execution_count": 4,
   "id": "07904f5f",
   "metadata": {},
   "outputs": [],
   "source": [
    "experiment_df = pd.DataFrame(columns = ['id', 'imaging_depth', 'targeted_structure',\n",
    "                                        'cre_line', 'reporter_line', 'acquisition_age_days',\n",
    "                                        'experiment_container_id', 'session_type', 'donor_name',\n",
    "                                        'specimen_name', 'fail_eye_tracking'])"
   ]
  },
  {
   "cell_type": "code",
   "execution_count": 5,
   "id": "b49e5e42",
   "metadata": {},
   "outputs": [],
   "source": [
    "traces_df_dict = {\"experiment_id\" : [], \"traces\" : []}"
   ]
  },
  {
   "cell_type": "code",
   "execution_count": 6,
   "id": "eebc43e0",
   "metadata": {
    "scrolled": true
   },
   "outputs": [
    {
     "name": "stdout",
     "output_type": "stream",
     "text": [
      "stimulus three_session_A n 0\n",
      "\n",
      "stimulus three_session_B n 1\n",
      "\n",
      "stimulus three_session_C2 n 2\n",
      "\n",
      "experiment container n 0\n",
      "\n",
      "depth 265\n",
      "\n",
      "stimulus three_session_B n 0\n",
      "\n",
      "stimulus three_session_C2 n 1\n",
      "\n",
      "stimulus three_session_A n 2\n",
      "\n",
      "experiment container n 0\n",
      "\n",
      "depth 300\n",
      "\n",
      "stimulus three_session_B n 0\n",
      "\n",
      "stimulus three_session_C2 n 1\n",
      "\n",
      "stimulus three_session_A n 2\n",
      "\n",
      "experiment container n 0\n",
      "\n",
      "depth 365\n",
      "\n",
      "stimulus three_session_C n 0\n",
      "\n",
      "stimulus three_session_A n 1\n",
      "\n",
      "stimulus three_session_B n 2\n",
      "\n",
      "stimulus three_session_C n 0\n",
      "\n",
      "stimulus three_session_A n 1\n",
      "\n",
      "stimulus three_session_B n 2\n",
      "\n",
      "experiment container n 1\n",
      "\n",
      "depth 175\n",
      "\n",
      "stimulus three_session_C2 n 0\n",
      "\n",
      "stimulus three_session_B n 1\n",
      "\n",
      "stimulus three_session_A n 2\n",
      "\n",
      "stimulus three_session_A n 0\n",
      "\n",
      "stimulus three_session_B n 1\n",
      "\n",
      "stimulus three_session_C n 2\n",
      "\n",
      "experiment container n 1\n",
      "\n",
      "depth 275\n",
      "\n"
     ]
    },
    {
     "name": "stderr",
     "output_type": "stream",
     "text": [
      "2022-06-02 13:47:32,717 allensdk.api.api.retrieve_file_over_http INFO     Downloading URL: http://api.brain-map.org/api/v2/well_known_file_download/638204977\n"
     ]
    },
    {
     "name": "stdout",
     "output_type": "stream",
     "text": [
      "stimulus three_session_A n 0\n",
      "\n"
     ]
    },
    {
     "name": "stderr",
     "output_type": "stream",
     "text": [
      "2022-06-02 13:49:31,332 allensdk.api.api.retrieve_file_over_http INFO     Downloading URL: http://api.brain-map.org/api/v2/well_known_file_download/638808202\n"
     ]
    },
    {
     "name": "stdout",
     "output_type": "stream",
     "text": [
      "stimulus three_session_C2 n 1\n",
      "\n"
     ]
    },
    {
     "name": "stderr",
     "output_type": "stream",
     "text": [
      "2022-06-02 13:50:59,352 allensdk.api.api.retrieve_file_over_http INFO     Downloading URL: http://api.brain-map.org/api/v2/well_known_file_download/638276716\n"
     ]
    },
    {
     "name": "stdout",
     "output_type": "stream",
     "text": [
      "stimulus three_session_B n 2\n",
      "\n",
      "experiment container n 0\n",
      "\n",
      "depth 276\n",
      "\n"
     ]
    },
    {
     "name": "stderr",
     "output_type": "stream",
     "text": [
      "2022-06-02 13:52:20,407 allensdk.api.api.retrieve_file_over_http INFO     Downloading URL: http://api.brain-map.org/api/v2/well_known_file_download/585056137\n"
     ]
    },
    {
     "name": "stdout",
     "output_type": "stream",
     "text": [
      "stimulus three_session_A n 0\n",
      "\n"
     ]
    },
    {
     "name": "stderr",
     "output_type": "stream",
     "text": [
      "2022-06-02 13:53:33,518 allensdk.api.api.retrieve_file_over_http INFO     Downloading URL: http://api.brain-map.org/api/v2/well_known_file_download/587179961\n"
     ]
    },
    {
     "name": "stdout",
     "output_type": "stream",
     "text": [
      "stimulus three_session_B n 1\n",
      "\n"
     ]
    },
    {
     "name": "stderr",
     "output_type": "stream",
     "text": [
      "2022-06-02 13:54:07,208 allensdk.api.api.retrieve_file_over_http INFO     Downloading URL: http://api.brain-map.org/api/v2/well_known_file_download/587727303\n"
     ]
    },
    {
     "name": "stdout",
     "output_type": "stream",
     "text": [
      "stimulus three_session_C2 n 2\n",
      "\n"
     ]
    },
    {
     "name": "stderr",
     "output_type": "stream",
     "text": [
      "2022-06-02 13:54:37,978 allensdk.api.api.retrieve_file_over_http INFO     Downloading URL: http://api.brain-map.org/api/v2/well_known_file_download/572495446\n"
     ]
    },
    {
     "name": "stdout",
     "output_type": "stream",
     "text": [
      "stimulus three_session_C2 n 0\n",
      "\n"
     ]
    },
    {
     "name": "stderr",
     "output_type": "stream",
     "text": [
      "2022-06-02 13:55:05,119 allensdk.api.api.retrieve_file_over_http INFO     Downloading URL: http://api.brain-map.org/api/v2/well_known_file_download/572901989\n"
     ]
    },
    {
     "name": "stdout",
     "output_type": "stream",
     "text": [
      "stimulus three_session_A n 1\n",
      "\n"
     ]
    },
    {
     "name": "stderr",
     "output_type": "stream",
     "text": [
      "2022-06-02 13:56:08,638 allensdk.api.api.retrieve_file_over_http INFO     Downloading URL: http://api.brain-map.org/api/v2/well_known_file_download/572563676\n"
     ]
    },
    {
     "name": "stdout",
     "output_type": "stream",
     "text": [
      "stimulus three_session_B n 2\n",
      "\n",
      "experiment container n 1\n",
      "\n",
      "depth 375\n",
      "\n"
     ]
    },
    {
     "name": "stderr",
     "output_type": "stream",
     "text": [
      "2022-06-02 13:56:37,193 allensdk.api.api.retrieve_file_over_http INFO     Downloading URL: http://api.brain-map.org/api/v2/well_known_file_download/687483578\n"
     ]
    },
    {
     "name": "stdout",
     "output_type": "stream",
     "text": [
      "stimulus three_session_B n 0\n",
      "\n"
     ]
    },
    {
     "name": "stderr",
     "output_type": "stream",
     "text": [
      "2022-06-02 13:57:13,267 allensdk.api.api.retrieve_file_over_http INFO     Downloading URL: http://api.brain-map.org/api/v2/well_known_file_download/691226565\n"
     ]
    },
    {
     "name": "stdout",
     "output_type": "stream",
     "text": [
      "stimulus three_session_C2 n 1\n",
      "\n"
     ]
    },
    {
     "name": "stderr",
     "output_type": "stream",
     "text": [
      "2022-06-02 13:57:43,225 allensdk.api.api.retrieve_file_over_http INFO     Downloading URL: http://api.brain-map.org/api/v2/well_known_file_download/686314201\n"
     ]
    },
    {
     "name": "stdout",
     "output_type": "stream",
     "text": [
      "stimulus three_session_A n 2\n",
      "\n"
     ]
    },
    {
     "name": "stderr",
     "output_type": "stream",
     "text": [
      "2022-06-02 13:58:55,025 allensdk.api.api.retrieve_file_over_http INFO     Downloading URL: http://api.brain-map.org/api/v2/well_known_file_download/638873357\n"
     ]
    },
    {
     "name": "stdout",
     "output_type": "stream",
     "text": [
      "stimulus three_session_A n 0\n",
      "\n"
     ]
    },
    {
     "name": "stderr",
     "output_type": "stream",
     "text": [
      "2022-06-02 14:00:00,072 allensdk.api.api.retrieve_file_over_http INFO     Downloading URL: http://api.brain-map.org/api/v2/well_known_file_download/638128342\n"
     ]
    },
    {
     "name": "stdout",
     "output_type": "stream",
     "text": [
      "stimulus three_session_C2 n 1\n",
      "\n"
     ]
    },
    {
     "name": "stderr",
     "output_type": "stream",
     "text": [
      "2022-06-02 14:00:25,489 allensdk.api.api.retrieve_file_over_http INFO     Downloading URL: http://api.brain-map.org/api/v2/well_known_file_download/637838529\n"
     ]
    },
    {
     "name": "stdout",
     "output_type": "stream",
     "text": [
      "stimulus three_session_B n 2\n",
      "\n",
      "experiment container n 1\n",
      "\n",
      "depth 350\n",
      "\n"
     ]
    }
   ],
   "source": [
    "for dep in depths:\n",
    "    experiment_containers = boc.get_experiment_containers(targeted_structures = ['VISal'],\n",
    "                                                     imaging_depths = [dep])\n",
    "\n",
    "    if len(experiment_containers) > 0 :\n",
    "        trunc = min(2, len(experiment_containers))\n",
    "        experiment_containers_df2 = pd.DataFrame(experiment_containers[0:trunc], \n",
    "                                             columns =['id', 'imaging_depth', 'targeted_structure',\n",
    "                                                       'cre_line','reporter_line','donor_name',\n",
    "                                                       'specimen_name','tags','failed'])\n",
    "        experiment_containers_df = experiment_containers_df.append(experiment_containers_df2)\n",
    "        \n",
    "        for exp_cont in range(0,trunc):\n",
    "            experiment_container_id = experiment_containers[exp_cont]['id']\n",
    "            exp = boc.get_ophys_experiments(experiment_container_ids=[experiment_container_id])\n",
    "            \n",
    "            experiment_df2 = pd.DataFrame(exp,\n",
    "                                          columns = ['id', 'imaging_depth', 'targeted_structure',\n",
    "                                        'cre_line', 'reporter_line', 'acquisition_age_days',\n",
    "                                        'experiment_container_id', 'session_type', 'donor_name',\n",
    "                                        'specimen_name', 'fail_eye_tracking'])\n",
    "            experiment_df = experiment_df.append(experiment_df2)\n",
    "            \n",
    "            # each experiment has a different session\n",
    "            for stim in range(0, len(exp)):   \n",
    "                experiment_id = exp[stim]['id']\n",
    "                session = exp[stim]['session_type']\n",
    "\n",
    "                traces_df_dict[\"experiment_id\"].append(experiment_id)\n",
    "                try:\n",
    "                    experiment = boc.get_ophys_experiment_data(experiment_id) \n",
    "                    experiment_cells_id = experiment.get_cell_specimen_ids()\n",
    "                    \n",
    "                    traces_df = pd.DataFrame(experiment.get_dff_traces()[1],\n",
    "                                            columns = experiment.get_dff_traces()[0],\n",
    "                                            index = experiment_cells_id )\n",
    "                    traces_df_dict[\"traces\"].append(traces_df)\n",
    "                except:\n",
    "                    traces_df_dict[\"traces\"].append(\"error\")\n",
    "                print(\"stimulus \" + session + \" n \" + str(stim) + \"\\n\")\n",
    "                \n",
    "        print(\"experiment container n \" + str(exp_cont) + \"\\n\")\n",
    "    print(\"depth \" + str(dep) + \"\\n\")"
   ]
  },
  {
   "cell_type": "code",
   "execution_count": 51,
   "id": "ebb0310e",
   "metadata": {},
   "outputs": [
    {
     "name": "stdout",
     "output_type": "stream",
     "text": [
      "(254, 115728)\n",
      "(242, 114115)\n",
      "(235, 124330)\n",
      "(36, 113830)\n",
      "(34, 124028)\n",
      "(66, 115446)\n",
      "(102, 114101)\n",
      "(108, 124326)\n",
      "(129, 115726)\n",
      "(165, 105753)\n",
      "element 10 is empty (id 501876401)\n",
      "(172, 113852)\n",
      "(86, 105729)\n",
      "(76, 115469)\n",
      "(89, 113874)\n",
      "(14, 124034)\n",
      "(18, 113831)\n",
      "(22, 115459)\n",
      "(240, 115477)\n",
      "(169, 113853)\n",
      "(165, 105735)\n",
      "(155, 119020)\n",
      "(159, 127884)\n",
      "(147, 117500)\n",
      "(21, 115723)\n",
      "(16, 114113)\n",
      "(17, 124334)\n",
      "(7, 124370)\n",
      "(7, 115748)\n",
      "(7, 114143)\n",
      "(31, 113863)\n",
      "(20, 124061)\n",
      "(33, 115489)\n",
      "(7, 115490)\n",
      "(4, 124069)\n",
      "(5, 113867)\n"
     ]
    }
   ],
   "source": [
    "errors_id = []\n",
    "for i in range(0,len(traces_df_dict[\"traces\"])):\n",
    "    if isinstance(traces_df_dict[\"traces\"][i], pd.DataFrame):\n",
    "        print(traces_df_dict[\"traces\"][i].shape)\n",
    "    else:\n",
    "        print(\"element \" + str(i) + \" is empty (id \" + str(traces_df_dict[\"experiment_id\"][i]) + \")\")\n",
    "        errors_id.append(traces_df_dict[\"experiment_id\"][i])"
   ]
  },
  {
   "cell_type": "code",
   "execution_count": 52,
   "id": "08a24ead",
   "metadata": {},
   "outputs": [
    {
     "data": {
      "text/plain": [
       "[501876401]"
      ]
     },
     "execution_count": 52,
     "metadata": {},
     "output_type": "execute_result"
    }
   ],
   "source": [
    "errors_id"
   ]
  },
  {
   "cell_type": "code",
   "execution_count": 57,
   "id": "6805453f",
   "metadata": {},
   "outputs": [],
   "source": [
    "experiment_df = experiment_df.loc[~experiment_df['id'].isin(errors_id)]"
   ]
  }
 ],
 "metadata": {
  "kernelspec": {
   "display_name": "Python 3 (ipykernel)",
   "language": "python",
   "name": "python3"
  },
  "language_info": {
   "codemirror_mode": {
    "name": "ipython",
    "version": 3
   },
   "file_extension": ".py",
   "mimetype": "text/x-python",
   "name": "python",
   "nbconvert_exporter": "python",
   "pygments_lexer": "ipython3",
   "version": "3.8.12"
  }
 },
 "nbformat": 4,
 "nbformat_minor": 5
}
