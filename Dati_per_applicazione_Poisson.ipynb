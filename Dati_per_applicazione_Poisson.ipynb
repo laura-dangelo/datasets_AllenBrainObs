{
 "cells": [
  {
   "cell_type": "markdown",
   "metadata": {},
   "source": [
    "- trovare un experiment container di interesse\n",
    "- estrarre esperimento di interesse\n",
    "- estrarre cellule per l'esperimento scelto\n",
    "- fluorescence trace per una determinata cellula\n",
    "- tentativo (non funziona!) di vedere la fluorescenza insieme all'istante dello stimolo"
   ]
  },
  {
   "cell_type": "markdown",
   "metadata": {},
   "source": [
    "## Experiment Container\n",
    "Un Experiment Container contiene esperimenti con **uguale** :\n",
    "- cre_line\n",
    "- imaging_depth\n",
    "- targeted_structure\n",
    "\n",
    "Bisogna definire questi tre per scegliere l'esperimento di interesse\n",
    "\n",
    "All'interno del container gli esperimenti hanno **diverso**:\n",
    "- stimolo\n",
    "- experiment_id, cell_id\n",
    "- ..."
   ]
  },
  {
   "cell_type": "code",
   "execution_count": null,
   "metadata": {},
   "outputs": [],
   "source": [
    "from allensdk.core.brain_observatory_cache import BrainObservatoryCache\n",
    "import pprint\n",
    "\n",
    "boc = BrainObservatoryCache(manifest_file='boc/manifest.json')\n",
    "\n",
    "\n",
    "# Download a list of all targeted areas\n",
    "targeted_structures = boc.get_all_targeted_structures()\n",
    "print(\"all targeted structures: \" + str(targeted_structures)+ \"\\n\")\n",
    "# Download experiment containers for VISp experiments: (targeted_structures=['VISp'])\n",
    "\n",
    "# Download a list of all imaging depths\n",
    "depths = boc.get_all_imaging_depths()\n",
    "print(\"all imaging depths: \" + str(depths) + \"\\n\")\n",
    "\n",
    "# Download a list of all cre driver lines \n",
    "cre_lines = boc.get_all_cre_lines()\n",
    "print(\"all cre lines:\\n\" + str(cre_lines) )"
   ]
  },
  {
   "cell_type": "code",
   "execution_count": null,
   "metadata": {},
   "outputs": [],
   "source": [
    "depp = [ 300 ]"
   ]
  },
  {
   "cell_type": "code",
   "execution_count": null,
   "metadata": {
    "scrolled": false
   },
   "outputs": [],
   "source": [
    "import pandas as pd\n",
    "import allensdk.brain_observatory.stimulus_info as stim_info\n",
    "\n",
    "for dep in depp:\n",
    "    experiment_containers = boc.get_experiment_containers(targeted_structures = ['VISal'],\n",
    "                                                     imaging_depths = [dep])\n",
    "    if len(experiment_containers) > 0 :\n",
    "        trunc = min(2, len(experiment_containers))\n",
    "        for exp_cont in range(0,trunc):\n",
    "            experiment_container_id = experiment_containers[exp_cont]['id']\n",
    "            experiments = boc.get_ophys_experiments(experiment_container_ids=[experiment_container_id])    \n",
    "            exp = boc.get_ophys_experiments(experiment_container_ids=[experiment_container_id])\n",
    "\n",
    "            # Find the experiment with the static static gratings stimulus\n",
    "            for stim in range(0, len(exp)):\n",
    "                experiment = boc.get_ophys_experiment_data(exp[stim]['id']) \n",
    "                session = str(experiment.get_metadata()['session_type'])\n",
    "                experiment_id = experiment.get_metadata()['ophys_experiment_id']\n",
    "\n",
    "                experiment_cells_id = experiment.get_cell_specimen_ids()\n",
    "                # Download cells and convert to DataFrame\n",
    "                cells = boc.get_cell_specimens()\n",
    "                cells = pd.DataFrame.from_records(cells)\n",
    "                experiment_cells = cells[cells['cell_specimen_id'].isin(experiment_cells_id)]\n",
    "\n",
    "                for cellula in range(0,5):\n",
    "                    words = [str(x) for x in experiment_cells[['cell_specimen_id','area','donor_full_genotype','imaging_depth','specimen_id']].iloc[cellula]]\n",
    "                    words[2] = words[2].split('/')[0]\n",
    "                    words.append( str(session) )\n",
    "                    name2 = \"__\".join(words)\n",
    "                    name2 = \".\".join([str(name2),'csv'])\n",
    "                    name = \"\".join(['data_poisson/', name2])\n",
    "                    print(name)\n",
    "\n",
    "                    cell_id = experiment_cells.iloc[cellula].cell_specimen_id\n",
    "                    time, trace = experiment.get_dff_traces(cell_specimen_ids=[cell_id])\n",
    "                    df = pd.DataFrame(trace[0])\n",
    "\n",
    "                    df.to_csv(name, index = False)\n",
    "    print(dep)"
   ]
  },
  {
   "cell_type": "code",
   "execution_count": null,
   "metadata": {},
   "outputs": [],
   "source": [
    "import pandas as pd\n",
    "import allensdk.brain_observatory.stimulus_info as stim_info\n",
    "depths = boc.get_all_imaging_depths()\n",
    "\n",
    "for depth in depths:\n",
    "    experiment_containers = boc.get_experiment_containers(targeted_structures = ['VISp'],\n",
    "                                                     imaging_depths = [depth])\n",
    "\n",
    "    for exp_cont in range(0,5):\n",
    "        experiment_container_id = experiment_containers[exp_cont]['id']\n",
    "        experiments = boc.get_ophys_experiments(experiment_container_ids=[experiment_container_id])    \n",
    "        exp = boc.get_ophys_experiments(experiment_container_ids=[experiment_container_id])\n",
    "\n",
    "        # Find the experiment with the static static gratings stimulus\n",
    "        for stim in range(0, len(exp)):\n",
    "            experiment = boc.get_ophys_experiment_data(exp[stim]['id']) \n",
    "            session = str(experiment.get_metadata()['session_type'])\n",
    "            experiment_id = experiment.get_metadata()['ophys_experiment_id']\n",
    "\n",
    "            experiment_cells_id = experiment.get_cell_specimen_ids()\n",
    "            # Download cells and convert to DataFrame\n",
    "            cells = boc.get_cell_specimens()\n",
    "            cells = pd.DataFrame.from_records(cells)\n",
    "            experiment_cells = cells[cells['cell_specimen_id'].isin(experiment_cells_id)]\n",
    "\n",
    "            for cellula in range(0,5):\n",
    "                words = [str(x) for x in experiment_cells[['cell_specimen_id','area','donor_full_genotype','imaging_depth','specimen_id']].iloc[cellula]]\n",
    "                words[2] = words[2].split('/')[0]\n",
    "                words.append( str(session) )\n",
    "                name2 = \"__\".join(words)\n",
    "                name2 = \".\".join([str(name2),'csv'])\n",
    "                name = \"\".join(['data_poisson/', name2])\n",
    "                print(name)\n",
    "\n",
    "                cell_id = experiment_cells.iloc[cellula].cell_specimen_id\n",
    "                time, trace = experiment.get_dff_traces(cell_specimen_ids=[cell_id])\n",
    "                df = pd.DataFrame(trace[0])\n",
    "\n",
    "                df.to_csv(name, index = False)\n",
    "\n",
    "\n"
   ]
  },
  {
   "cell_type": "code",
   "execution_count": null,
   "metadata": {},
   "outputs": [],
   "source": [
    "experiment_containers = boc.get_experiment_containers(targeted_structures = ['VISam'],\n",
    "                                                     imaging_depths = [175],\n",
    "                                                     cre_lines = ['Emx1-IRES-Cre'])\n",
    "len(experiment_containers)"
   ]
  },
  {
   "cell_type": "code",
   "execution_count": null,
   "metadata": {},
   "outputs": [],
   "source": [
    "import pandas as pd\n",
    "import allensdk.brain_observatory.stimulus_info as stim_info\n",
    "\n",
    "exp_cont = 0\n",
    "experiment_container_id = experiment_containers[exp_cont]['id']\n",
    "experiments = boc.get_ophys_experiments(experiment_container_ids=[experiment_container_id])    \n",
    "exp = boc.get_ophys_experiments(experiment_container_ids=[experiment_container_id])\n",
    "exp"
   ]
  },
  {
   "cell_type": "code",
   "execution_count": null,
   "metadata": {},
   "outputs": [],
   "source": [
    "experiment = boc.get_ophys_experiment_data(exp[2]['id']) \n",
    "session = str(experiment.get_metadata()['session_type'])\n",
    "experiment_id = experiment.get_metadata()['ophys_experiment_id']\n",
    "   \n",
    "experiment_cells_id = experiment.get_cell_specimen_ids()\n",
    "# Download cells and convert to DataFrame\n",
    "cells = boc.get_cell_specimens()\n",
    "cells = pd.DataFrame.from_records(cells)\n",
    "experiment_cells = cells[cells['cell_specimen_id'].isin(experiment_cells_id)]"
   ]
  },
  {
   "cell_type": "code",
   "execution_count": null,
   "metadata": {},
   "outputs": [],
   "source": [
    "for cellula in range(0,6):\n",
    "        words = [str(x) for x in experiment_cells[['cell_specimen_id','area','donor_full_genotype','imaging_depth','specimen_id']].iloc[cellula]]\n",
    "        words[2] = words[2].split('/')[0]\n",
    "        words.append( str(session) )\n",
    "        name2 = \"__\".join(words)\n",
    "        name2 = \".\".join([str(name2),'csv'])\n",
    "        name = \"\".join(['data_poisson/', name2])\n",
    "        print(name)\n",
    "\n",
    "        cell_id = experiment_cells.iloc[cellula].cell_specimen_id\n",
    "        time, trace = experiment.get_dff_traces(cell_specimen_ids=[cell_id])\n",
    "        df = pd.DataFrame(trace[0])\n",
    "\n",
    "        df.to_csv(name, index = False)"
   ]
  },
  {
   "cell_type": "code",
   "execution_count": null,
   "metadata": {},
   "outputs": [],
   "source": [
    "# Find the experiment with the static static gratings stimulus\n",
    "for stim in range(0, len(exp)):\n",
    "    experiment = boc.get_ophys_experiment_data(exp[stim]['id']) \n",
    "    session = str(experiment.get_metadata()['session_type'])\n",
    "    experiment_id = experiment.get_metadata()['ophys_experiment_id']\n",
    "    \n",
    "    experiment_cells_id = experiment.get_cell_specimen_ids()\n",
    "    # Download cells and convert to DataFrame\n",
    "    cells = boc.get_cell_specimens()\n",
    "    cells = pd.DataFrame.from_records(cells)\n",
    "    experiment_cells = cells[cells['cell_specimen_id'].isin(experiment_cells_id)]\n",
    "        \n",
    "    for cellula in range(0,8):\n",
    "        words = [str(x) for x in experiment_cells[['cell_specimen_id','area','donor_full_genotype','imaging_depth','specimen_id']].iloc[cellula]]\n",
    "        words[2] = words[2].split('/')[0]\n",
    "        words.append( str(session) )\n",
    "        name2 = \"__\".join(words)\n",
    "        name2 = \".\".join([str(name2),'csv'])\n",
    "        name = \"\".join(['data_poisson/', name2])\n",
    "        print(name)\n",
    "\n",
    "        cell_id = experiment_cells.iloc[cellula].cell_specimen_id\n",
    "        time, trace = experiment.get_dff_traces(cell_specimen_ids=[cell_id])\n",
    "        df = pd.DataFrame(trace[0])\n",
    "\n",
    "        df.to_csv(name, index = False)"
   ]
  },
  {
   "cell_type": "code",
   "execution_count": null,
   "metadata": {},
   "outputs": [],
   "source": [
    "stim = 0\n",
    "experiment = boc.get_ophys_experiment_data(exp[stim]['id']) "
   ]
  },
  {
   "cell_type": "code",
   "execution_count": null,
   "metadata": {},
   "outputs": [],
   "source": [
    "session = str(experiment.get_metadata()['session_type'])\n",
    "experiment_id = experiment.get_metadata()['ophys_experiment_id']\n",
    "        \n",
    "experiment_cells_id = experiment.get_cell_specimen_ids()\n",
    "experiment_cells_id"
   ]
  },
  {
   "cell_type": "code",
   "execution_count": null,
   "metadata": {},
   "outputs": [],
   "source": [
    "experiment_cells.iloc[1].cell_specimen_id"
   ]
  },
  {
   "cell_type": "code",
   "execution_count": null,
   "metadata": {},
   "outputs": [],
   "source": [
    "# Download cells and convert to DataFrame\n",
    "cells = boc.get_cell_specimens()\n",
    "cells = pd.DataFrame.from_records(cells)\n",
    "experiment_cells = cells[cells['cell_specimen_id'].isin(experiment_cells_id)]\n",
    "\n",
    "#### prendi sempre la cellula n° 0 ####\n",
    "words = [str(x) for x in experiment_cells[['cell_specimen_id','area','donor_full_genotype','imaging_depth','specimen_id']].iloc[10]]\n",
    "words[2] = words[2].split('/')[0]\n",
    "words.append( str(session) )\n",
    "name2 = \"__\".join(words)\n",
    "name2 = \".\".join([str(name2),'csv'])\n",
    "name = \"\".join(['data_poisson/', name2])\n",
    "print(name)\n",
    "        \n",
    "cell_id = experiment_cells.iloc[10].cell_specimen_id\n",
    "print(cell_id)\n",
    "time, trace = experiment.get_dff_traces(cell_specimen_ids=[cell_id])\n",
    "df = pd.DataFrame(trace[0])\n",
    "#df.to_csv(name, index = False)"
   ]
  },
  {
   "cell_type": "markdown",
   "metadata": {},
   "source": [
    "## Find Experiment\n",
    "Scelgo un Experiment Container a caso tra questi. Scelgo il primo: contiene 3 esperimenti"
   ]
  },
  {
   "cell_type": "code",
   "execution_count": null,
   "metadata": {
    "scrolled": false
   },
   "outputs": [],
   "source": [
    "experiment_container_id = experiment_containers[0]['id']\n",
    "experiments = boc.get_ophys_experiments(experiment_container_ids=[experiment_container_id])\n",
    "\n",
    "experiments"
   ]
  },
  {
   "cell_type": "markdown",
   "metadata": {},
   "source": [
    "Scelgo l'esperimento con stimolo: **static gratings**"
   ]
  },
  {
   "cell_type": "code",
   "execution_count": null,
   "metadata": {},
   "outputs": [],
   "source": [
    "import allensdk.brain_observatory.stimulus_info as stim_info\n",
    "\n",
    "# Find the experiment with the static static gratings stimulus\n",
    "exp = boc.get_ophys_experiments(experiment_container_ids=[experiment_container_id]#, \n",
    "                                #stimuli=[stim_info.STATIC_GRATINGS]\n",
    "                               )\n",
    "#print(\"Experiment with static gratings:\")\n",
    "pprint.pprint(exp)"
   ]
  },
  {
   "cell_type": "markdown",
   "metadata": {},
   "source": [
    "## Download experiment\n",
    "Download the NWB file for this experiment."
   ]
  },
  {
   "cell_type": "code",
   "execution_count": null,
   "metadata": {},
   "outputs": [],
   "source": [
    "exp = boc.get_ophys_experiments(experiment_container_ids=[experiment_container_id])\n",
    "experiment = boc.get_ophys_experiment_data(exp[0]['id']) \n",
    "\n",
    "# print out the metadata available in the NWB file\n",
    "#pprint.pprint(experiment.get_metadata())\n",
    "session = str(experiment.get_metadata()['session_type'])"
   ]
  },
  {
   "cell_type": "code",
   "execution_count": null,
   "metadata": {},
   "outputs": [],
   "source": [
    "experiment_id = experiment.get_metadata()['ophys_experiment_id']"
   ]
  },
  {
   "cell_type": "code",
   "execution_count": null,
   "metadata": {
    "scrolled": true
   },
   "outputs": [],
   "source": [
    "# ID delle cellule per questo esperimento\n",
    "experiment_cells_id = experiment.get_cell_specimen_ids()\n",
    "len(experiment_cells_id)"
   ]
  },
  {
   "cell_type": "code",
   "execution_count": null,
   "metadata": {},
   "outputs": [],
   "source": [
    "import pandas as pd\n",
    "\n",
    "# Download cells and convert to DataFrame\n",
    "cells = boc.get_cell_specimens()\n",
    "cells = pd.DataFrame.from_records(cells)"
   ]
  },
  {
   "cell_type": "code",
   "execution_count": null,
   "metadata": {},
   "outputs": [],
   "source": [
    "experiment_cells = cells[cells['cell_specimen_id'].isin(experiment_cells_id)]"
   ]
  },
  {
   "cell_type": "code",
   "execution_count": null,
   "metadata": {},
   "outputs": [],
   "source": [
    "#### prendi sempre la cellula n° 0 ####\n",
    "words = [str(x) for x in experiment_cells[['cell_specimen_id','area','donor_full_genotype','imaging_depth','specimen_id']].iloc[0]]\n",
    "words[2] = words[2].split('/')[0]\n",
    "words.append( str(session) )\n",
    "name2 = \"__\".join(words)\n",
    "name2 = \".\".join([str(name2),'csv'])\n",
    "name = \"\".join(['data_poisson/', name2])\n",
    "name"
   ]
  },
  {
   "cell_type": "code",
   "execution_count": null,
   "metadata": {
    "scrolled": true
   },
   "outputs": [],
   "source": [
    "cell_id = experiment_cells_id[0]\n",
    "time, trace = experiment.get_dff_traces(cell_specimen_ids=[cell_id])"
   ]
  },
  {
   "cell_type": "code",
   "execution_count": null,
   "metadata": {},
   "outputs": [],
   "source": [
    "df = pd.DataFrame(trace[0])\n",
    "\n",
    "df.to_csv(name, index = False)"
   ]
  }
 ],
 "metadata": {
  "kernelspec": {
   "display_name": "Python 3 (ipykernel)",
   "language": "python",
   "name": "python3"
  },
  "language_info": {
   "codemirror_mode": {
    "name": "ipython",
    "version": 3
   },
   "file_extension": ".py",
   "mimetype": "text/x-python",
   "name": "python",
   "nbconvert_exporter": "python",
   "pygments_lexer": "ipython3",
   "version": "3.8.12"
  }
 },
 "nbformat": 4,
 "nbformat_minor": 4
}
