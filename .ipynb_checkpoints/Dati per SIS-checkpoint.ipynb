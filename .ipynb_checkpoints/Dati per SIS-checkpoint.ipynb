{
 "cells": [
  {
   "cell_type": "markdown",
   "metadata": {},
   "source": [
    "- trovare un experiment container di interesse\n",
    "- estrarre esperimento di interesse\n",
    "- estrarre cellule per l'esperimento scelto\n",
    "- fluorescence trace per una determinata cellula\n",
    "- tentativo (non funziona!) di vedere la fluorescenza insieme all'istante dello stimolo"
   ]
  },
  {
   "cell_type": "markdown",
   "metadata": {},
   "source": [
    "## Experiment Container\n",
    "Un Experiment Container contiene esperimenti con **uguale** :\n",
    "- cre_line\n",
    "- imaging_depth\n",
    "- targeted_structure\n",
    "\n",
    "Bisogna definire questi tre per scegliere l'esperimento di interesse\n",
    "\n",
    "All'interno del container gli esperimenti hanno **diverso**:\n",
    "- stimolo\n",
    "- experiment_id, cell_id\n",
    "- ..."
   ]
  },
  {
   "cell_type": "code",
   "execution_count": 1,
   "metadata": {},
   "outputs": [
    {
     "name": "stdout",
     "output_type": "stream",
     "text": [
      "all targeted structures: [u'VISal', u'VISam', u'VISl', u'VISp', u'VISpm', u'VISrl']\n",
      "\n",
      "all imaging depths: [175, 185, 195, 200, 205, 225, 250, 265, 275, 276, 285, 300, 320, 325, 335, 350, 365, 375, 390, 400, 550, 570, 625]\n",
      "\n",
      "all cre lines:\n",
      "[u'Cux2-CreERT2', u'Emx1-IRES-Cre', u'Fezf2-CreER', u'Nr5a1-Cre', u'Ntsr1-Cre_GN220', u'Pvalb-IRES-Cre', u'Rbp4-Cre_KL100', u'Rorb-IRES2-Cre', u'Scnn1a-Tg3-Cre', u'Slc17a7-IRES2-Cre', u'Sst-IRES-Cre', u'Tlx3-Cre_PL56', u'Vip-IRES-Cre']\n"
     ]
    }
   ],
   "source": [
    "from allensdk.core.brain_observatory_cache import BrainObservatoryCache\n",
    "import pprint\n",
    "\n",
    "boc = BrainObservatoryCache(manifest_file='boc/manifest.json')\n",
    "\n",
    "\n",
    "# Download a list of all targeted areas\n",
    "targeted_structures = boc.get_all_targeted_structures()\n",
    "print(\"all targeted structures: \" + str(targeted_structures)+ \"\\n\")\n",
    "# Download experiment containers for VISp experiments: (targeted_structures=['VISp'])\n",
    "\n",
    "# Download a list of all imaging depths\n",
    "depths = boc.get_all_imaging_depths()\n",
    "print(\"all imaging depths: \" + str(depths) + \"\\n\")\n",
    "\n",
    "# Download a list of all cre driver lines \n",
    "cre_lines = boc.get_all_cre_lines()\n",
    "print(\"all cre lines:\\n\" + str(cre_lines) )"
   ]
  },
  {
   "cell_type": "code",
   "execution_count": 2,
   "metadata": {
    "scrolled": false
   },
   "outputs": [
    {
     "name": "stdout",
     "output_type": "stream",
     "text": [
      "Numero di Experiment Containers con queste tre caratteristiche: 29\n"
     ]
    },
    {
     "data": {
      "text/plain": [
       "{'cre_line': u'Cux2-CreERT2',\n",
       " 'donor_name': u'222424',\n",
       " 'failed': False,\n",
       " 'id': 511507650,\n",
       " 'imaging_depth': 175,\n",
       " 'reporter_line': u'Ai93(TITL-GCaMP6f)',\n",
       " 'specimen_name': u'Cux2-CreERT2;Camk2a-tTA;Ai93-222424',\n",
       " 'tags': [],\n",
       " 'targeted_structure': u'VISp'}"
      ]
     },
     "execution_count": 2,
     "metadata": {},
     "output_type": "execute_result"
    }
   ],
   "source": [
    "experiment_containers = boc.get_experiment_containers(targeted_structures=['VISp'],\n",
    "                                                     imaging_depths=[175]\n",
    "                                                     )\n",
    "print(\"Numero di Experiment Containers con queste tre caratteristiche: %d\" % len(experiment_containers))\n",
    "experiment_containers[7]"
   ]
  },
  {
   "cell_type": "markdown",
   "metadata": {},
   "source": [
    "## Find Experiment\n",
    "Scelgo un Experiment Container a caso tra questi. Scelgo il primo: contiene 3 esperimenti"
   ]
  },
  {
   "cell_type": "code",
   "execution_count": 3,
   "metadata": {
    "scrolled": false
   },
   "outputs": [
    {
     "data": {
      "text/plain": [
       "[{'acquisition_age_days': 107,\n",
       "  'cre_line': u'Cux2-CreERT2',\n",
       "  'donor_name': u'222424',\n",
       "  'experiment_container_id': 511507650,\n",
       "  'fail_eye_tracking': True,\n",
       "  'id': 501794235,\n",
       "  'imaging_depth': 175,\n",
       "  'reporter_line': u'Ai93(TITL-GCaMP6f)',\n",
       "  'session_type': u'three_session_B',\n",
       "  'specimen_name': u'Cux2-CreERT2;Camk2a-tTA;Ai93-222424',\n",
       "  'targeted_structure': u'VISp'},\n",
       " {'acquisition_age_days': 94,\n",
       "  'cre_line': u'Cux2-CreERT2',\n",
       "  'donor_name': u'222424',\n",
       "  'experiment_container_id': 511507650,\n",
       "  'fail_eye_tracking': False,\n",
       "  'id': 500855614,\n",
       "  'imaging_depth': 175,\n",
       "  'reporter_line': u'Ai93(TITL-GCaMP6f)',\n",
       "  'session_type': u'three_session_C',\n",
       "  'specimen_name': u'Cux2-CreERT2;Camk2a-tTA;Ai93-222424',\n",
       "  'targeted_structure': u'VISp'},\n",
       " {'acquisition_age_days': 111,\n",
       "  'cre_line': u'Cux2-CreERT2',\n",
       "  'donor_name': u'222424',\n",
       "  'experiment_container_id': 511507650,\n",
       "  'fail_eye_tracking': True,\n",
       "  'id': 502115959,\n",
       "  'imaging_depth': 175,\n",
       "  'reporter_line': u'Ai93(TITL-GCaMP6f)',\n",
       "  'session_type': u'three_session_A',\n",
       "  'specimen_name': u'Cux2-CreERT2;Camk2a-tTA;Ai93-222424',\n",
       "  'targeted_structure': u'VISp'}]"
      ]
     },
     "execution_count": 3,
     "metadata": {},
     "output_type": "execute_result"
    }
   ],
   "source": [
    "experiment_container_id = experiment_containers[7]['id']\n",
    "experiments = boc.get_ophys_experiments(experiment_container_ids=[experiment_container_id])\n",
    "\n",
    "experiments"
   ]
  },
  {
   "cell_type": "markdown",
   "metadata": {},
   "source": [
    "Scelgo l'esperimento con stimolo: **static gratings**"
   ]
  },
  {
   "cell_type": "code",
   "execution_count": 4,
   "metadata": {},
   "outputs": [
    {
     "name": "stdout",
     "output_type": "stream",
     "text": [
      "Experiment with static gratings:\n",
      "[{'acquisition_age_days': 107,\n",
      "  'cre_line': u'Cux2-CreERT2',\n",
      "  'donor_name': u'222424',\n",
      "  'experiment_container_id': 511507650,\n",
      "  'fail_eye_tracking': True,\n",
      "  'id': 501794235,\n",
      "  'imaging_depth': 175,\n",
      "  'reporter_line': u'Ai93(TITL-GCaMP6f)',\n",
      "  'session_type': u'three_session_B',\n",
      "  'specimen_name': u'Cux2-CreERT2;Camk2a-tTA;Ai93-222424',\n",
      "  'targeted_structure': u'VISp'}]\n"
     ]
    }
   ],
   "source": [
    "import allensdk.brain_observatory.stimulus_info as stim_info\n",
    "\n",
    "# Find the experiment with the static static gratings stimulus\n",
    "exp = boc.get_ophys_experiments(experiment_container_ids=[experiment_container_id], \n",
    "                                stimuli=[stim_info.STATIC_GRATINGS])\n",
    "print(\"Experiment with static gratings:\")\n",
    "pprint.pprint(exp)\n"
   ]
  },
  {
   "cell_type": "markdown",
   "metadata": {},
   "source": [
    "## Download experiment\n",
    "Download the NWB file for this experiment."
   ]
  },
  {
   "cell_type": "code",
   "execution_count": 5,
   "metadata": {},
   "outputs": [
    {
     "name": "stdout",
     "output_type": "stream",
     "text": [
      "{'age_days': 108,\n",
      " 'cre_line': u'Cux2-CreERT2/wt',\n",
      " 'device': u'Nikon A1R-MP multiphoton microscope',\n",
      " 'device_name': u'CAM2P.2',\n",
      " 'excitation_lambda': u'910 nanometers',\n",
      " 'experiment_container_id': 511507650,\n",
      " 'fov': u'400x400 microns (512 x 512 pixels)',\n",
      " 'genotype': u'Cux2-CreERT2/wt;Camk2a-tTA/wt;Ai93(TITL-GCaMP6f)/Ai93(TITL-GCaMP6f)',\n",
      " 'imaging_depth_um': 175,\n",
      " 'indicator': u'GCaMP6f',\n",
      " 'ophys_experiment_id': 501794235,\n",
      " 'pipeline_version': u'3.0',\n",
      " 'session_start_time': datetime.datetime(2016, 2, 8, 14, 9, 15),\n",
      " 'session_type': u'three_session_B',\n",
      " 'sex': u'male',\n",
      " 'specimen_name': u'Cux2-CreERT2;Camk2a-tTA;Ai93-222424',\n",
      " 'targeted_structure': u'VISp'}\n",
      "\n",
      " stimuli available in this file:\n",
      "[u'natural_movie_one', u'natural_scenes', u'spontaneous', u'static_gratings']\n"
     ]
    },
    {
     "name": "stderr",
     "output_type": "stream",
     "text": [
      "/home/laura/anaconda2/lib/python2.7/site-packages/allensdk/core/brain_observatory_nwb_data_set.py:742: H5pyDeprecationWarning: dataset.value has been deprecated. Use dataset[()] instead.\n",
      "  v = f[disk_key].value\n"
     ]
    }
   ],
   "source": [
    "experiment = boc.get_ophys_experiment_data(exp[0]['id']) \n",
    "\n",
    "# print out the metadata available in the NWB file\n",
    "pprint.pprint(experiment.get_metadata())\n",
    "\n",
    "print(\"\\n stimuli available in this file:\")\n",
    "print(experiment.list_stimuli())"
   ]
  },
  {
   "cell_type": "code",
   "execution_count": 6,
   "metadata": {},
   "outputs": [],
   "source": [
    "experiment_id = experiment.get_metadata()['ophys_experiment_id']"
   ]
  },
  {
   "cell_type": "code",
   "execution_count": 7,
   "metadata": {},
   "outputs": [
    {
     "name": "stderr",
     "output_type": "stream",
     "text": [
      "/home/laura/anaconda2/lib/python2.7/site-packages/allensdk/core/brain_observatory_nwb_data_set.py:476: H5pyDeprecationWarning: dataset.value has been deprecated. Use dataset[()] instead.\n",
      "  'ImageSegmentation']['cell_specimen_ids'].value\n"
     ]
    },
    {
     "data": {
      "text/plain": [
       "152"
      ]
     },
     "execution_count": 7,
     "metadata": {},
     "output_type": "execute_result"
    }
   ],
   "source": [
    "# ID delle cellule per questo esperimento\n",
    "experiment_cells_id = experiment.get_cell_specimen_ids()\n",
    "len(experiment_cells_id)"
   ]
  },
  {
   "cell_type": "code",
   "execution_count": 8,
   "metadata": {},
   "outputs": [
    {
     "data": {
      "text/plain": [
       "array([517406581, 517408498, 517406727, 517407808, 517407323, 517408212,\n",
       "       517408541, 587435328, 517407051, 587435150, 517406884, 517407328,\n",
       "       517407093, 517407082, 517407087, 517407759, 517407663, 517408506,\n",
       "       517407752, 517406704, 517406367, 517406472, 517407135, 517407740,\n",
       "       587435394, 517407279, 517407098, 517407286, 517407058, 517407268,\n",
       "       517407273, 587436119, 517406901, 587436126, 587436108, 587435978,\n",
       "       587435839, 587436091, 517408468, 517408192, 517406415, 517408618,\n",
       "       517408588, 517408621, 517406379, 587436020, 517407298, 587436084,\n",
       "       587436134, 517407517, 517408108, 517406438, 517407066, 587435308,\n",
       "       517408079, 517407837, 517408274, 517407118, 517406697, 517408564,\n",
       "       517406644, 517406651, 517407303, 517407113, 517406660, 517407816,\n",
       "       517407892, 517407830, 517407824, 517407352, 517408516, 517408034,\n",
       "       517406761, 587436144, 517407292, 517408478, 517408473, 517406693,\n",
       "       517406496, 517406609, 517406818, 517408265, 517406689, 517406595,\n",
       "       517408066, 517408071, 517406586, 517407654, 517408552, 517406575,\n",
       "       517407628, 587435785, 517406428, 587435676, 517406769, 517408585,\n",
       "       517406754, 517408120, 517406447, 517406732, 517408130, 587436099,\n",
       "       517406776, 517407261, 517406784, 517406740, 517407682, 517407677,\n",
       "       517408061, 517408054, 517407646, 517406553, 517407673, 517407318,\n",
       "       517406566, 587435182, 517406791, 517408111, 517406455, 517408571,\n",
       "       517406810, 517408114, 517408582, 517408591, 517406463, 587435269,\n",
       "       517407313, 517407074, 517408556, 517406826, 517407692, 517408485,\n",
       "       587435990, 517407687, 517407747, 517408493, 517408536, 517407442,\n",
       "       517406523, 517408532, 517408578, 517408574, 587435695, 517407431,\n",
       "       517408235, 517407255, 517406400, 517408597, 517408560, 517407851,\n",
       "       587435955, 587435949])"
      ]
     },
     "execution_count": 8,
     "metadata": {},
     "output_type": "execute_result"
    }
   ],
   "source": [
    "experiment_cells_id"
   ]
  },
  {
   "cell_type": "code",
   "execution_count": 9,
   "metadata": {},
   "outputs": [
    {
     "name": "stdout",
     "output_type": "stream",
     "text": [
      "total cells: 63251\n"
     ]
    }
   ],
   "source": [
    "import pandas as pd\n",
    "\n",
    "# Download cells and convert to DataFrame\n",
    "cells = boc.get_cell_specimens()\n",
    "cells = pd.DataFrame.from_records(cells)\n",
    "print(\"total cells: %d\" % len(cells))"
   ]
  },
  {
   "cell_type": "code",
   "execution_count": 10,
   "metadata": {},
   "outputs": [
    {
     "data": {
      "text/plain": [
       "(152, 60)"
      ]
     },
     "execution_count": 10,
     "metadata": {},
     "output_type": "execute_result"
    }
   ],
   "source": [
    "experiment_cells = cells[cells['cell_specimen_id'].isin(experiment_cells_id)]\n",
    "experiment_cells.shape"
   ]
  },
  {
   "cell_type": "code",
   "execution_count": 11,
   "metadata": {},
   "outputs": [
    {
     "data": {
      "text/html": [
       "<div>\n",
       "<style scoped>\n",
       "    .dataframe tbody tr th:only-of-type {\n",
       "        vertical-align: middle;\n",
       "    }\n",
       "\n",
       "    .dataframe tbody tr th {\n",
       "        vertical-align: top;\n",
       "    }\n",
       "\n",
       "    .dataframe thead th {\n",
       "        text-align: right;\n",
       "    }\n",
       "</style>\n",
       "<table border=\"1\" class=\"dataframe\">\n",
       "  <thead>\n",
       "    <tr style=\"text-align: right;\">\n",
       "      <th></th>\n",
       "      <th>all_stim</th>\n",
       "      <th>area</th>\n",
       "      <th>cell_specimen_id</th>\n",
       "      <th>donor_full_genotype</th>\n",
       "      <th>dsi_dg</th>\n",
       "      <th>experiment_container_id</th>\n",
       "      <th>failed_experiment_container</th>\n",
       "      <th>g_dsi_dg</th>\n",
       "      <th>g_osi_dg</th>\n",
       "      <th>g_osi_sg</th>\n",
       "      <th>...</th>\n",
       "      <th>specimen_id</th>\n",
       "      <th>tfdi_dg</th>\n",
       "      <th>time_to_peak_ns</th>\n",
       "      <th>time_to_peak_sg</th>\n",
       "      <th>tld1_id</th>\n",
       "      <th>tld1_name</th>\n",
       "      <th>tld2_id</th>\n",
       "      <th>tld2_name</th>\n",
       "      <th>tlr1_id</th>\n",
       "      <th>tlr1_name</th>\n",
       "    </tr>\n",
       "  </thead>\n",
       "  <tbody>\n",
       "    <tr>\n",
       "      <th>549</th>\n",
       "      <td>False</td>\n",
       "      <td>VISp</td>\n",
       "      <td>517406367</td>\n",
       "      <td>Cux2-CreERT2/wt;Camk2a-tTA/wt;Ai93(TITL-GCaMP6...</td>\n",
       "      <td>NaN</td>\n",
       "      <td>511507650</td>\n",
       "      <td>False</td>\n",
       "      <td>NaN</td>\n",
       "      <td>NaN</td>\n",
       "      <td>0.683686</td>\n",
       "      <td>...</td>\n",
       "      <td>495727026</td>\n",
       "      <td>NaN</td>\n",
       "      <td>0.26600</td>\n",
       "      <td>0.33250</td>\n",
       "      <td>177839004</td>\n",
       "      <td>Cux2-CreERT2</td>\n",
       "      <td>177837320.0</td>\n",
       "      <td>Camk2a-tTA</td>\n",
       "      <td>265943423</td>\n",
       "      <td>Ai93(TITL-GCaMP6f)</td>\n",
       "    </tr>\n",
       "    <tr>\n",
       "      <th>550</th>\n",
       "      <td>False</td>\n",
       "      <td>VISp</td>\n",
       "      <td>517406379</td>\n",
       "      <td>Cux2-CreERT2/wt;Camk2a-tTA/wt;Ai93(TITL-GCaMP6...</td>\n",
       "      <td>NaN</td>\n",
       "      <td>511507650</td>\n",
       "      <td>False</td>\n",
       "      <td>NaN</td>\n",
       "      <td>NaN</td>\n",
       "      <td>0.788170</td>\n",
       "      <td>...</td>\n",
       "      <td>495727026</td>\n",
       "      <td>NaN</td>\n",
       "      <td>0.29925</td>\n",
       "      <td>0.29925</td>\n",
       "      <td>177839004</td>\n",
       "      <td>Cux2-CreERT2</td>\n",
       "      <td>177837320.0</td>\n",
       "      <td>Camk2a-tTA</td>\n",
       "      <td>265943423</td>\n",
       "      <td>Ai93(TITL-GCaMP6f)</td>\n",
       "    </tr>\n",
       "    <tr>\n",
       "      <th>552</th>\n",
       "      <td>False</td>\n",
       "      <td>VISp</td>\n",
       "      <td>517406400</td>\n",
       "      <td>Cux2-CreERT2/wt;Camk2a-tTA/wt;Ai93(TITL-GCaMP6...</td>\n",
       "      <td>NaN</td>\n",
       "      <td>511507650</td>\n",
       "      <td>False</td>\n",
       "      <td>NaN</td>\n",
       "      <td>NaN</td>\n",
       "      <td>0.498305</td>\n",
       "      <td>...</td>\n",
       "      <td>495727026</td>\n",
       "      <td>NaN</td>\n",
       "      <td>0.26600</td>\n",
       "      <td>0.36575</td>\n",
       "      <td>177839004</td>\n",
       "      <td>Cux2-CreERT2</td>\n",
       "      <td>177837320.0</td>\n",
       "      <td>Camk2a-tTA</td>\n",
       "      <td>265943423</td>\n",
       "      <td>Ai93(TITL-GCaMP6f)</td>\n",
       "    </tr>\n",
       "    <tr>\n",
       "      <th>556</th>\n",
       "      <td>False</td>\n",
       "      <td>VISp</td>\n",
       "      <td>517406415</td>\n",
       "      <td>Cux2-CreERT2/wt;Camk2a-tTA/wt;Ai93(TITL-GCaMP6...</td>\n",
       "      <td>NaN</td>\n",
       "      <td>511507650</td>\n",
       "      <td>False</td>\n",
       "      <td>NaN</td>\n",
       "      <td>NaN</td>\n",
       "      <td>0.718710</td>\n",
       "      <td>...</td>\n",
       "      <td>495727026</td>\n",
       "      <td>NaN</td>\n",
       "      <td>0.29925</td>\n",
       "      <td>0.23275</td>\n",
       "      <td>177839004</td>\n",
       "      <td>Cux2-CreERT2</td>\n",
       "      <td>177837320.0</td>\n",
       "      <td>Camk2a-tTA</td>\n",
       "      <td>265943423</td>\n",
       "      <td>Ai93(TITL-GCaMP6f)</td>\n",
       "    </tr>\n",
       "    <tr>\n",
       "      <th>558</th>\n",
       "      <td>False</td>\n",
       "      <td>VISp</td>\n",
       "      <td>517406428</td>\n",
       "      <td>Cux2-CreERT2/wt;Camk2a-tTA/wt;Ai93(TITL-GCaMP6...</td>\n",
       "      <td>NaN</td>\n",
       "      <td>511507650</td>\n",
       "      <td>False</td>\n",
       "      <td>NaN</td>\n",
       "      <td>NaN</td>\n",
       "      <td>0.808569</td>\n",
       "      <td>...</td>\n",
       "      <td>495727026</td>\n",
       "      <td>NaN</td>\n",
       "      <td>0.29925</td>\n",
       "      <td>0.26600</td>\n",
       "      <td>177839004</td>\n",
       "      <td>Cux2-CreERT2</td>\n",
       "      <td>177837320.0</td>\n",
       "      <td>Camk2a-tTA</td>\n",
       "      <td>265943423</td>\n",
       "      <td>Ai93(TITL-GCaMP6f)</td>\n",
       "    </tr>\n",
       "  </tbody>\n",
       "</table>\n",
       "<p>5 rows × 60 columns</p>\n",
       "</div>"
      ],
      "text/plain": [
       "     all_stim  area  cell_specimen_id  \\\n",
       "549     False  VISp         517406367   \n",
       "550     False  VISp         517406379   \n",
       "552     False  VISp         517406400   \n",
       "556     False  VISp         517406415   \n",
       "558     False  VISp         517406428   \n",
       "\n",
       "                                   donor_full_genotype  dsi_dg  \\\n",
       "549  Cux2-CreERT2/wt;Camk2a-tTA/wt;Ai93(TITL-GCaMP6...     NaN   \n",
       "550  Cux2-CreERT2/wt;Camk2a-tTA/wt;Ai93(TITL-GCaMP6...     NaN   \n",
       "552  Cux2-CreERT2/wt;Camk2a-tTA/wt;Ai93(TITL-GCaMP6...     NaN   \n",
       "556  Cux2-CreERT2/wt;Camk2a-tTA/wt;Ai93(TITL-GCaMP6...     NaN   \n",
       "558  Cux2-CreERT2/wt;Camk2a-tTA/wt;Ai93(TITL-GCaMP6...     NaN   \n",
       "\n",
       "     experiment_container_id  failed_experiment_container  g_dsi_dg  g_osi_dg  \\\n",
       "549                511507650                        False       NaN       NaN   \n",
       "550                511507650                        False       NaN       NaN   \n",
       "552                511507650                        False       NaN       NaN   \n",
       "556                511507650                        False       NaN       NaN   \n",
       "558                511507650                        False       NaN       NaN   \n",
       "\n",
       "     g_osi_sg  ...  specimen_id  tfdi_dg  time_to_peak_ns  time_to_peak_sg  \\\n",
       "549  0.683686  ...    495727026      NaN          0.26600          0.33250   \n",
       "550  0.788170  ...    495727026      NaN          0.29925          0.29925   \n",
       "552  0.498305  ...    495727026      NaN          0.26600          0.36575   \n",
       "556  0.718710  ...    495727026      NaN          0.29925          0.23275   \n",
       "558  0.808569  ...    495727026      NaN          0.29925          0.26600   \n",
       "\n",
       "       tld1_id     tld1_name      tld2_id   tld2_name    tlr1_id  \\\n",
       "549  177839004  Cux2-CreERT2  177837320.0  Camk2a-tTA  265943423   \n",
       "550  177839004  Cux2-CreERT2  177837320.0  Camk2a-tTA  265943423   \n",
       "552  177839004  Cux2-CreERT2  177837320.0  Camk2a-tTA  265943423   \n",
       "556  177839004  Cux2-CreERT2  177837320.0  Camk2a-tTA  265943423   \n",
       "558  177839004  Cux2-CreERT2  177837320.0  Camk2a-tTA  265943423   \n",
       "\n",
       "              tlr1_name  \n",
       "549  Ai93(TITL-GCaMP6f)  \n",
       "550  Ai93(TITL-GCaMP6f)  \n",
       "552  Ai93(TITL-GCaMP6f)  \n",
       "556  Ai93(TITL-GCaMP6f)  \n",
       "558  Ai93(TITL-GCaMP6f)  \n",
       "\n",
       "[5 rows x 60 columns]"
      ]
     },
     "execution_count": 11,
     "metadata": {},
     "output_type": "execute_result"
    }
   ],
   "source": [
    "experiment_cells.head()"
   ]
  },
  {
   "cell_type": "markdown",
   "metadata": {},
   "source": [
    "## Fluorescence for a cell of the experiment"
   ]
  },
  {
   "cell_type": "code",
   "execution_count": 39,
   "metadata": {
    "scrolled": true
   },
   "outputs": [
    {
     "data": {
      "image/png": "[encoded data removed]",
      "text/plain": [
       "<Figure size 1008x288 with 1 Axes>"
      ]
     },
     "metadata": {
      "needs_background": "light"
     },
     "output_type": "display_data"
    }
   ],
   "source": [
    "cell_id = experiment_cells_id[20]\n",
    "time, trace = experiment.get_dff_traces(cell_specimen_ids=[cell_id])\n",
    "from matplotlib import pyplot as plt\n",
    "%matplotlib inline\n",
    "\n",
    "plt.figure(figsize=(14,4))\n",
    "plt.title(\"DFF Trace cell1\")\n",
    "plt.plot(time, trace[0])\n",
    "plt.show()"
   ]
  },
  {
   "cell_type": "code",
   "execution_count": 40,
   "metadata": {},
   "outputs": [
    {
     "data": {
      "text/plain": [
       "517406367"
      ]
     },
     "execution_count": 40,
     "metadata": {},
     "output_type": "execute_result"
    }
   ],
   "source": [
    "cell_id = experiment_cells_id[20]\n",
    "cell_id"
   ]
  },
  {
   "cell_type": "code",
   "execution_count": 14,
   "metadata": {},
   "outputs": [
    {
     "data": {
      "text/plain": [
       "113850"
      ]
     },
     "execution_count": 14,
     "metadata": {},
     "output_type": "execute_result"
    }
   ],
   "source": [
    "trace[0]\n",
    "len(trace[0])"
   ]
  },
  {
   "cell_type": "code",
   "execution_count": 41,
   "metadata": {},
   "outputs": [],
   "source": [
    "df = pd.DataFrame(trace[0])\n",
    "df.to_csv('cellula_517406367_dep175.csv',index=False)"
   ]
  },
  {
   "cell_type": "code",
   "execution_count": null,
   "metadata": {},
   "outputs": [],
   "source": [
    "from allensdk.brain_observatory.static_gratings import StaticGratings\n",
    "data_set = boc.get_ophys_experiment_data(experiment_id)\n",
    "static_gratings = StaticGratings(data_set)\n",
    "static_gratings"
   ]
  },
  {
   "cell_type": "markdown",
   "metadata": {},
   "source": [
    "### Stimulus time and fluorescence trace"
   ]
  },
  {
   "cell_type": "code",
   "execution_count": null,
   "metadata": {},
   "outputs": [],
   "source": [
    "from allensdk.brain_observatory.static_gratings import StaticGratings\n",
    "data_set = boc.get_ophys_experiment_data(experiment_id)\n",
    "static_gratings = StaticGratings(data_set)\n",
    "static_gratings.timestamps"
   ]
  },
  {
   "cell_type": "code",
   "execution_count": null,
   "metadata": {},
   "outputs": [],
   "source": [
    "# Seleziono le caratteristiche dello stimolo (ci sono diversi static grating - a seconda dell'orientamento, \n",
    "# distanza ecc)\n",
    "\n",
    "cell_loc = experiment.get_cell_specimen_indices([cell_id])[0]\n",
    "#static_gratings.peak.loc[cell_loc]\n",
    "pref_ori = static_gratings.orivals[static_gratings.peak.ori_sg[cell_loc]]\n",
    "pref_sf = static_gratings.sfvals[static_gratings.peak.sf_sg[cell_loc]]\n",
    "pref_phase = static_gratings.phasevals[static_gratings.peak.phase_sg[cell_loc]]\n",
    "print(\"Preferred direction:\", pref_ori)\n",
    "print(\"Preferred temporal frequency:\", pref_sf)\n",
    "print(\"Preferred phase:\", pref_phase)"
   ]
  },
  {
   "cell_type": "code",
   "execution_count": null,
   "metadata": {
    "scrolled": true
   },
   "outputs": [],
   "source": [
    "subset = static_gratings.sweep_response[(static_gratings.stim_table.orientation==pref_ori)&\n",
    "                                        (static_gratings.stim_table.spatial_frequency==pref_sf)&\n",
    "                                        (static_gratings.stim_table.phase==pref_phase)]\n",
    "pref_trials = static_gratings.stim_table[(static_gratings.stim_table.orientation==pref_ori)&\n",
    "                                        (static_gratings.stim_table.spatial_frequency==pref_sf)&\n",
    "                                        (static_gratings.stim_table.phase==pref_phase)]\n",
    "print(subset.shape)\n",
    "pref_trials"
   ]
  },
  {
   "cell_type": "code",
   "execution_count": null,
   "metadata": {},
   "outputs": [],
   "source": [
    "subset = subset.iloc[1:10]"
   ]
  },
  {
   "cell_type": "code",
   "execution_count": null,
   "metadata": {
    "scrolled": false
   },
   "outputs": [],
   "source": [
    "import numpy as np\n",
    "\n",
    "trial_timestamps = np.arange(-1*static_gratings.interlength, static_gratings.interlength+static_gratings.sweeplength, 1.)/static_gratings.acquisition_rate\n",
    "print(trial_timestamps)\n",
    "\n",
    "plt.figure(figsize=(8,60))\n",
    "\n",
    "for i in range(len(subset)):\n",
    "    plt.subplot(len(pref_trials),1,i+1)\n",
    "    plt.plot(trial_timestamps, subset[str(cell_loc)].iloc[i], color='k', lw=2)\n",
    "    plt.axvspan(0,2,color='red', alpha=0.3)\n",
    "    plt.ylabel(\"DF/F (%)\")\n",
    "    plt.ylim(min(subset[str(cell_loc)].iloc[i])-5, max(subset[str(cell_loc)].iloc[i])+5 ) \n",
    "    #plt.yticks(range(0,700,200))\n",
    "    #plt.text(2.5, 300, str(round(subset_mean['dx'].iloc[i],2))+\" cm/s\")\n",
    "    if i<(len(subset)-1):\n",
    "        plt.xticks([])\n",
    "    else:\n",
    "        plt.xticks([-1,0,1,2,3])\n",
    "        plt.xlabel(\"Time (s)\")"
   ]
  }
 ],
 "metadata": {
  "kernelspec": {
   "display_name": "Python 2",
   "language": "python",
   "name": "python2"
  },
  "language_info": {
   "codemirror_mode": {
    "name": "ipython",
    "version": 2
   },
   "file_extension": ".py",
   "mimetype": "text/x-python",
   "name": "python",
   "nbconvert_exporter": "python",
   "pygments_lexer": "ipython2",
   "version": "2.7.16"
  }
 },
 "nbformat": 4,
 "nbformat_minor": 4
}
