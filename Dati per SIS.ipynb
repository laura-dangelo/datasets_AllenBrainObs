{
 "cells": [
  {
   "cell_type": "markdown",
   "metadata": {},
   "source": [
    "- trovare un experiment container di interesse\n",
    "- estrarre esperimento di interesse\n",
    "- estrarre cellule per l'esperimento scelto\n",
    "- fluorescence trace per una determinata cellula\n",
    "- tentativo (non funziona!) di vedere la fluorescenza insieme all'istante dello stimolo"
   ]
  },
  {
   "cell_type": "markdown",
   "metadata": {},
   "source": [
    "## Experiment Container\n",
    "Un Experiment Container contiene esperimenti con **uguale** :\n",
    "- cre_line\n",
    "- imaging_depth\n",
    "- targeted_structure\n",
    "\n",
    "Bisogna definire questi tre per scegliere l'esperimento di interesse\n",
    "\n",
    "All'interno del container gli esperimenti hanno **diverso**:\n",
    "- stimolo\n",
    "- experiment_id, cell_id\n",
    "- ..."
   ]
  },
  {
   "cell_type": "code",
   "execution_count": 1,
   "metadata": {},
   "outputs": [
    {
     "name": "stdout",
     "output_type": "stream",
     "text": [
      "all targeted structures: [u'VISal', u'VISam', u'VISl', u'VISp', u'VISpm', u'VISrl']\n",
      "\n",
      "all imaging depths: [175, 185, 195, 200, 205, 225, 250, 265, 275, 276, 285, 300, 320, 325, 335, 350, 365, 375, 390, 400, 550, 570, 625]\n",
      "\n",
      "all cre lines:\n",
      "[u'Cux2-CreERT2', u'Emx1-IRES-Cre', u'Fezf2-CreER', u'Nr5a1-Cre', u'Ntsr1-Cre_GN220', u'Pvalb-IRES-Cre', u'Rbp4-Cre_KL100', u'Rorb-IRES2-Cre', u'Scnn1a-Tg3-Cre', u'Slc17a7-IRES2-Cre', u'Sst-IRES-Cre', u'Tlx3-Cre_PL56', u'Vip-IRES-Cre']\n"
     ]
    }
   ],
   "source": [
    "from allensdk.core.brain_observatory_cache import BrainObservatoryCache\n",
    "import pprint\n",
    "\n",
    "boc = BrainObservatoryCache(manifest_file='boc/manifest.json')\n",
    "\n",
    "\n",
    "# Download a list of all targeted areas\n",
    "targeted_structures = boc.get_all_targeted_structures()\n",
    "print(\"all targeted structures: \" + str(targeted_structures)+ \"\\n\")\n",
    "# Download experiment containers for VISp experiments: (targeted_structures=['VISp'])\n",
    "\n",
    "# Download a list of all imaging depths\n",
    "depths = boc.get_all_imaging_depths()\n",
    "print(\"all imaging depths: \" + str(depths) + \"\\n\")\n",
    "\n",
    "# Download a list of all cre driver lines \n",
    "cre_lines = boc.get_all_cre_lines()\n",
    "print(\"all cre lines:\\n\" + str(cre_lines) )"
   ]
  },
  {
   "cell_type": "code",
   "execution_count": 2,
   "metadata": {
    "scrolled": false
   },
   "outputs": [
    {
     "name": "stdout",
     "output_type": "stream",
     "text": [
      "Numero di Experiment Containers con queste tre caratteristiche: 15\n"
     ]
    },
    {
     "data": {
      "text/plain": [
       "{'cre_line': u'Scnn1a-Tg3-Cre',\n",
       " 'donor_name': u'230570',\n",
       " 'failed': False,\n",
       " 'id': 511510911,\n",
       " 'imaging_depth': 350,\n",
       " 'reporter_line': u'Ai93(TITL-GCaMP6f)',\n",
       " 'specimen_name': u'Scnn1a-Tg3-Cre;Camk2a-tTA;Ai93-230570',\n",
       " 'tags': [],\n",
       " 'targeted_structure': u'VISp'}"
      ]
     },
     "execution_count": 2,
     "metadata": {},
     "output_type": "execute_result"
    }
   ],
   "source": [
    "experiment_containers = boc.get_experiment_containers(targeted_structures=['VISp'],\n",
    "                                                     imaging_depths=[350]\n",
    "                                                     )\n",
    "print(\"Numero di Experiment Containers con queste tre caratteristiche: %d\" % len(experiment_containers))\n",
    "experiment_containers[0]"
   ]
  },
  {
   "cell_type": "markdown",
   "metadata": {},
   "source": [
    "## Find Experiment\n",
    "Scelgo un Experiment Container a caso tra questi. Scelgo il primo: contiene 3 esperimenti"
   ]
  },
  {
   "cell_type": "code",
   "execution_count": 3,
   "metadata": {
    "scrolled": false
   },
   "outputs": [
    {
     "data": {
      "text/plain": [
       "[{'acquisition_age_days': 85,\n",
       "  'cre_line': u'Scnn1a-Tg3-Cre',\n",
       "  'donor_name': u'230570',\n",
       "  'experiment_container_id': 511510911,\n",
       "  'fail_eye_tracking': True,\n",
       "  'id': 508596945,\n",
       "  'imaging_depth': 350,\n",
       "  'reporter_line': u'Ai93(TITL-GCaMP6f)',\n",
       "  'session_type': u'three_session_B',\n",
       "  'specimen_name': u'Scnn1a-Tg3-Cre;Camk2a-tTA;Ai93-230570',\n",
       "  'targeted_structure': u'VISp'},\n",
       " {'acquisition_age_days': 84,\n",
       "  'cre_line': u'Scnn1a-Tg3-Cre',\n",
       "  'donor_name': u'230570',\n",
       "  'experiment_container_id': 511510911,\n",
       "  'fail_eye_tracking': True,\n",
       "  'id': 508356957,\n",
       "  'imaging_depth': 350,\n",
       "  'reporter_line': u'Ai93(TITL-GCaMP6f)',\n",
       "  'session_type': u'three_session_A',\n",
       "  'specimen_name': u'Scnn1a-Tg3-Cre;Camk2a-tTA;Ai93-230570',\n",
       "  'targeted_structure': u'VISp'},\n",
       " {'acquisition_age_days': 77,\n",
       "  'cre_line': u'Scnn1a-Tg3-Cre',\n",
       "  'donor_name': u'230570',\n",
       "  'experiment_container_id': 511510911,\n",
       "  'fail_eye_tracking': True,\n",
       "  'id': 506353473,\n",
       "  'imaging_depth': 350,\n",
       "  'reporter_line': u'Ai93(TITL-GCaMP6f)',\n",
       "  'session_type': u'three_session_C',\n",
       "  'specimen_name': u'Scnn1a-Tg3-Cre;Camk2a-tTA;Ai93-230570',\n",
       "  'targeted_structure': u'VISp'}]"
      ]
     },
     "execution_count": 3,
     "metadata": {},
     "output_type": "execute_result"
    }
   ],
   "source": [
    "experiment_container_id = experiment_containers[0]['id']\n",
    "experiments = boc.get_ophys_experiments(experiment_container_ids=[experiment_container_id])\n",
    "\n",
    "experiments"
   ]
  },
  {
   "cell_type": "markdown",
   "metadata": {},
   "source": [
    "Scelgo l'esperimento con stimolo: **static gratings**"
   ]
  },
  {
   "cell_type": "code",
   "execution_count": 4,
   "metadata": {},
   "outputs": [
    {
     "name": "stdout",
     "output_type": "stream",
     "text": [
      "Experiment with static gratings:\n",
      "[{'acquisition_age_days': 85,\n",
      "  'cre_line': u'Scnn1a-Tg3-Cre',\n",
      "  'donor_name': u'230570',\n",
      "  'experiment_container_id': 511510911,\n",
      "  'fail_eye_tracking': True,\n",
      "  'id': 508596945,\n",
      "  'imaging_depth': 350,\n",
      "  'reporter_line': u'Ai93(TITL-GCaMP6f)',\n",
      "  'session_type': u'three_session_B',\n",
      "  'specimen_name': u'Scnn1a-Tg3-Cre;Camk2a-tTA;Ai93-230570',\n",
      "  'targeted_structure': u'VISp'}]\n"
     ]
    }
   ],
   "source": [
    "import allensdk.brain_observatory.stimulus_info as stim_info\n",
    "\n",
    "# Find the experiment with the static static gratings stimulus\n",
    "exp = boc.get_ophys_experiments(experiment_container_ids=[experiment_container_id], \n",
    "                                stimuli=[stim_info.STATIC_GRATINGS])\n",
    "print(\"Experiment with static gratings:\")\n",
    "pprint.pprint(exp)\n"
   ]
  },
  {
   "cell_type": "markdown",
   "metadata": {},
   "source": [
    "## Download experiment\n",
    "Download the NWB file for this experiment."
   ]
  },
  {
   "cell_type": "code",
   "execution_count": 5,
   "metadata": {},
   "outputs": [
    {
     "name": "stdout",
     "output_type": "stream",
     "text": [
      "{'age_days': 86,\n",
      " 'cre_line': u'Scnn1a-Tg3-Cre/wt',\n",
      " 'device': u'Nikon A1R-MP multiphoton microscope',\n",
      " 'device_name': u'CAM2P.2',\n",
      " 'excitation_lambda': u'910 nanometers',\n",
      " 'experiment_container_id': 511510911,\n",
      " 'fov': u'400x400 microns (512 x 512 pixels)',\n",
      " 'genotype': u'Scnn1a-Tg3-Cre/wt;Camk2a-tTA/wt;Ai93(TITL-GCaMP6f)/Ai93(TITL-GCaMP6f)',\n",
      " 'imaging_depth_um': 350,\n",
      " 'indicator': u'GCaMP6f',\n",
      " 'ophys_experiment_id': 508596945,\n",
      " 'pipeline_version': u'3.0',\n",
      " 'session_start_time': datetime.datetime(2016, 3, 17, 15, 5, 33),\n",
      " 'session_type': u'three_session_B',\n",
      " 'sex': u'female',\n",
      " 'specimen_name': u'Scnn1a-Tg3-Cre;Camk2a-tTA;Ai93-230570',\n",
      " 'targeted_structure': u'VISp'}\n",
      "\n",
      " stimuli available in this file:\n",
      "[u'natural_movie_one', u'natural_scenes', u'spontaneous', u'static_gratings']\n"
     ]
    },
    {
     "name": "stderr",
     "output_type": "stream",
     "text": [
      "/home/laura/anaconda2/lib/python2.7/site-packages/allensdk/core/brain_observatory_nwb_data_set.py:742: H5pyDeprecationWarning: dataset.value has been deprecated. Use dataset[()] instead.\n",
      "  v = f[disk_key].value\n"
     ]
    }
   ],
   "source": [
    "experiment = boc.get_ophys_experiment_data(exp[0]['id']) \n",
    "\n",
    "# print out the metadata available in the NWB file\n",
    "pprint.pprint(experiment.get_metadata())\n",
    "\n",
    "print(\"\\n stimuli available in this file:\")\n",
    "print(experiment.list_stimuli())"
   ]
  },
  {
   "cell_type": "code",
   "execution_count": 6,
   "metadata": {},
   "outputs": [],
   "source": [
    "experiment_id = experiment.get_metadata()['ophys_experiment_id']"
   ]
  },
  {
   "cell_type": "code",
   "execution_count": 7,
   "metadata": {},
   "outputs": [
    {
     "name": "stderr",
     "output_type": "stream",
     "text": [
      "/home/laura/anaconda2/lib/python2.7/site-packages/allensdk/core/brain_observatory_nwb_data_set.py:476: H5pyDeprecationWarning: dataset.value has been deprecated. Use dataset[()] instead.\n",
      "  'ImageSegmentation']['cell_specimen_ids'].value\n"
     ]
    },
    {
     "data": {
      "text/plain": [
       "183"
      ]
     },
     "execution_count": 7,
     "metadata": {},
     "output_type": "execute_result"
    }
   ],
   "source": [
    "# ID delle cellule per questo esperimento\n",
    "experiment_cells_id = experiment.get_cell_specimen_ids()\n",
    "len(experiment_cells_id)"
   ]
  },
  {
   "cell_type": "code",
   "execution_count": 8,
   "metadata": {},
   "outputs": [
    {
     "data": {
      "text/plain": [
       "array([517444316, 517445254, 517444296, 517446687, 589174785, 517446863,\n",
       "       517442255, 517442156, 589175052, 589162904, 517444211, 589175071,\n",
       "       517443637, 517443732, 517443682, 517444182, 517445386, 517442471,\n",
       "       589173145, 589166693, 517446173, 517446882, 517444717, 517443211,\n",
       "       517443227, 589173628, 517442176, 517447100, 517446872, 589174747,\n",
       "       517444642, 589174704, 517444634, 517446135, 517442240, 517444614,\n",
       "       517443244, 589162423, 517442248, 517446650, 517443067, 589162968,\n",
       "       589174806, 517443264, 589174833, 517443181, 517446816, 517444678,\n",
       "       517444694, 517446042, 517444618, 517442553, 517442893, 517444301,\n",
       "       517444291, 589168322, 517444286, 517446591, 589168244, 517443559,\n",
       "       517443571, 517442413, 517446665, 517442573, 517445201, 589165477,\n",
       "       517444604, 517444413, 517446798, 517445621, 517447126, 517446807,\n",
       "       517446833, 517442265, 517443284, 589174318, 517445349, 517445369,\n",
       "       517444306, 517444321, 517444311, 517445289, 517445312, 589170560,\n",
       "       517444175, 517446075, 517446191, 517446060, 589166448, 589174767,\n",
       "       517444622, 517446634, 517444002, 517444656, 589174724, 517445788,\n",
       "       589162589, 517443621, 517445682, 517445708, 517443491, 517445658,\n",
       "       517442753, 517442459, 517443699, 517443748, 517443743, 517443738,\n",
       "       517443711, 517443669, 517444667, 517445806, 589174684, 517445749,\n",
       "       517447136, 517445638, 517442233, 517443294, 517446627, 517446825,\n",
       "       517446943, 517446922, 517445729, 517442941, 589167241, 517442558,\n",
       "       517442548, 517442489, 517443524, 517442862, 589162447, 517447172,\n",
       "       517447175, 589162470, 517443196, 517447131, 517446117, 517442785,\n",
       "       517442768, 517442735, 517442722, 517442706, 589169639, 517442813,\n",
       "       517443546, 517444159, 517442137, 517442535, 517444018, 517444011,\n",
       "       517442961, 517443850, 517442844, 589162538, 517442219, 517443652,\n",
       "       517442951, 517446094, 517444031, 517444167, 517444426, 589175164,\n",
       "       589175143, 589175111, 589166716, 517442127, 517442919, 517442906,\n",
       "       517446958, 517442829, 517443835, 517443843, 589166668, 589166425,\n",
       "       517444609, 589162490, 517444134, 517446785, 517443704, 517446029,\n",
       "       517443533, 589175092, 517444206])"
      ]
     },
     "execution_count": 8,
     "metadata": {},
     "output_type": "execute_result"
    }
   ],
   "source": [
    "experiment_cells_id"
   ]
  },
  {
   "cell_type": "code",
   "execution_count": 9,
   "metadata": {},
   "outputs": [
    {
     "name": "stdout",
     "output_type": "stream",
     "text": [
      "total cells: 63251\n"
     ]
    }
   ],
   "source": [
    "import pandas as pd\n",
    "\n",
    "# Download cells and convert to DataFrame\n",
    "cells = boc.get_cell_specimens()\n",
    "cells = pd.DataFrame.from_records(cells)\n",
    "print(\"total cells: %d\" % len(cells))"
   ]
  },
  {
   "cell_type": "code",
   "execution_count": 10,
   "metadata": {},
   "outputs": [
    {
     "data": {
      "text/plain": [
       "(183, 60)"
      ]
     },
     "execution_count": 10,
     "metadata": {},
     "output_type": "execute_result"
    }
   ],
   "source": [
    "experiment_cells = cells[cells['cell_specimen_id'].isin(experiment_cells_id)]\n",
    "experiment_cells.shape"
   ]
  },
  {
   "cell_type": "code",
   "execution_count": 11,
   "metadata": {},
   "outputs": [
    {
     "data": {
      "text/html": [
       "<div>\n",
       "<style scoped>\n",
       "    .dataframe tbody tr th:only-of-type {\n",
       "        vertical-align: middle;\n",
       "    }\n",
       "\n",
       "    .dataframe tbody tr th {\n",
       "        vertical-align: top;\n",
       "    }\n",
       "\n",
       "    .dataframe thead th {\n",
       "        text-align: right;\n",
       "    }\n",
       "</style>\n",
       "<table border=\"1\" class=\"dataframe\">\n",
       "  <thead>\n",
       "    <tr style=\"text-align: right;\">\n",
       "      <th></th>\n",
       "      <th>all_stim</th>\n",
       "      <th>area</th>\n",
       "      <th>cell_specimen_id</th>\n",
       "      <th>donor_full_genotype</th>\n",
       "      <th>dsi_dg</th>\n",
       "      <th>experiment_container_id</th>\n",
       "      <th>failed_experiment_container</th>\n",
       "      <th>g_dsi_dg</th>\n",
       "      <th>g_osi_dg</th>\n",
       "      <th>g_osi_sg</th>\n",
       "      <th>...</th>\n",
       "      <th>specimen_id</th>\n",
       "      <th>tfdi_dg</th>\n",
       "      <th>time_to_peak_ns</th>\n",
       "      <th>time_to_peak_sg</th>\n",
       "      <th>tld1_id</th>\n",
       "      <th>tld1_name</th>\n",
       "      <th>tld2_id</th>\n",
       "      <th>tld2_name</th>\n",
       "      <th>tlr1_id</th>\n",
       "      <th>tlr1_name</th>\n",
       "    </tr>\n",
       "  </thead>\n",
       "  <tbody>\n",
       "    <tr>\n",
       "      <th>3729</th>\n",
       "      <td>False</td>\n",
       "      <td>VISp</td>\n",
       "      <td>517442127</td>\n",
       "      <td>Scnn1a-Tg3-Cre/wt;Camk2a-tTA/wt;Ai93(TITL-GCaM...</td>\n",
       "      <td>NaN</td>\n",
       "      <td>511510911</td>\n",
       "      <td>False</td>\n",
       "      <td>0.587104</td>\n",
       "      <td>0.316685</td>\n",
       "      <td>0.602346</td>\n",
       "      <td>...</td>\n",
       "      <td>501753157</td>\n",
       "      <td>0.359538</td>\n",
       "      <td>0.29925</td>\n",
       "      <td>NaN</td>\n",
       "      <td>177837516</td>\n",
       "      <td>Scnn1a-Tg3-Cre</td>\n",
       "      <td>177837320.0</td>\n",
       "      <td>Camk2a-tTA</td>\n",
       "      <td>265943423</td>\n",
       "      <td>Ai93(TITL-GCaMP6f)</td>\n",
       "    </tr>\n",
       "    <tr>\n",
       "      <th>3730</th>\n",
       "      <td>False</td>\n",
       "      <td>VISp</td>\n",
       "      <td>517442137</td>\n",
       "      <td>Scnn1a-Tg3-Cre/wt;Camk2a-tTA/wt;Ai93(TITL-GCaM...</td>\n",
       "      <td>NaN</td>\n",
       "      <td>511510911</td>\n",
       "      <td>False</td>\n",
       "      <td>NaN</td>\n",
       "      <td>NaN</td>\n",
       "      <td>0.849999</td>\n",
       "      <td>...</td>\n",
       "      <td>501753157</td>\n",
       "      <td>NaN</td>\n",
       "      <td>0.29925</td>\n",
       "      <td>0.26600</td>\n",
       "      <td>177837516</td>\n",
       "      <td>Scnn1a-Tg3-Cre</td>\n",
       "      <td>177837320.0</td>\n",
       "      <td>Camk2a-tTA</td>\n",
       "      <td>265943423</td>\n",
       "      <td>Ai93(TITL-GCaMP6f)</td>\n",
       "    </tr>\n",
       "    <tr>\n",
       "      <th>3732</th>\n",
       "      <td>False</td>\n",
       "      <td>VISp</td>\n",
       "      <td>517442156</td>\n",
       "      <td>Scnn1a-Tg3-Cre/wt;Camk2a-tTA/wt;Ai93(TITL-GCaM...</td>\n",
       "      <td>NaN</td>\n",
       "      <td>511510911</td>\n",
       "      <td>False</td>\n",
       "      <td>NaN</td>\n",
       "      <td>NaN</td>\n",
       "      <td>0.749416</td>\n",
       "      <td>...</td>\n",
       "      <td>501753157</td>\n",
       "      <td>NaN</td>\n",
       "      <td>0.23275</td>\n",
       "      <td>0.29925</td>\n",
       "      <td>177837516</td>\n",
       "      <td>Scnn1a-Tg3-Cre</td>\n",
       "      <td>177837320.0</td>\n",
       "      <td>Camk2a-tTA</td>\n",
       "      <td>265943423</td>\n",
       "      <td>Ai93(TITL-GCaMP6f)</td>\n",
       "    </tr>\n",
       "    <tr>\n",
       "      <th>3734</th>\n",
       "      <td>False</td>\n",
       "      <td>VISp</td>\n",
       "      <td>517442176</td>\n",
       "      <td>Scnn1a-Tg3-Cre/wt;Camk2a-tTA/wt;Ai93(TITL-GCaM...</td>\n",
       "      <td>NaN</td>\n",
       "      <td>511510911</td>\n",
       "      <td>False</td>\n",
       "      <td>1.000000</td>\n",
       "      <td>1.000000</td>\n",
       "      <td>0.145249</td>\n",
       "      <td>...</td>\n",
       "      <td>501753157</td>\n",
       "      <td>0.336402</td>\n",
       "      <td>0.19950</td>\n",
       "      <td>NaN</td>\n",
       "      <td>177837516</td>\n",
       "      <td>Scnn1a-Tg3-Cre</td>\n",
       "      <td>177837320.0</td>\n",
       "      <td>Camk2a-tTA</td>\n",
       "      <td>265943423</td>\n",
       "      <td>Ai93(TITL-GCaMP6f)</td>\n",
       "    </tr>\n",
       "    <tr>\n",
       "      <th>3739</th>\n",
       "      <td>False</td>\n",
       "      <td>VISp</td>\n",
       "      <td>517442219</td>\n",
       "      <td>Scnn1a-Tg3-Cre/wt;Camk2a-tTA/wt;Ai93(TITL-GCaM...</td>\n",
       "      <td>NaN</td>\n",
       "      <td>511510911</td>\n",
       "      <td>False</td>\n",
       "      <td>0.537264</td>\n",
       "      <td>0.247344</td>\n",
       "      <td>0.895217</td>\n",
       "      <td>...</td>\n",
       "      <td>501753157</td>\n",
       "      <td>0.256268</td>\n",
       "      <td>0.16625</td>\n",
       "      <td>NaN</td>\n",
       "      <td>177837516</td>\n",
       "      <td>Scnn1a-Tg3-Cre</td>\n",
       "      <td>177837320.0</td>\n",
       "      <td>Camk2a-tTA</td>\n",
       "      <td>265943423</td>\n",
       "      <td>Ai93(TITL-GCaMP6f)</td>\n",
       "    </tr>\n",
       "  </tbody>\n",
       "</table>\n",
       "<p>5 rows × 60 columns</p>\n",
       "</div>"
      ],
      "text/plain": [
       "      all_stim  area  cell_specimen_id  \\\n",
       "3729     False  VISp         517442127   \n",
       "3730     False  VISp         517442137   \n",
       "3732     False  VISp         517442156   \n",
       "3734     False  VISp         517442176   \n",
       "3739     False  VISp         517442219   \n",
       "\n",
       "                                    donor_full_genotype  dsi_dg  \\\n",
       "3729  Scnn1a-Tg3-Cre/wt;Camk2a-tTA/wt;Ai93(TITL-GCaM...     NaN   \n",
       "3730  Scnn1a-Tg3-Cre/wt;Camk2a-tTA/wt;Ai93(TITL-GCaM...     NaN   \n",
       "3732  Scnn1a-Tg3-Cre/wt;Camk2a-tTA/wt;Ai93(TITL-GCaM...     NaN   \n",
       "3734  Scnn1a-Tg3-Cre/wt;Camk2a-tTA/wt;Ai93(TITL-GCaM...     NaN   \n",
       "3739  Scnn1a-Tg3-Cre/wt;Camk2a-tTA/wt;Ai93(TITL-GCaM...     NaN   \n",
       "\n",
       "      experiment_container_id  failed_experiment_container  g_dsi_dg  \\\n",
       "3729                511510911                        False  0.587104   \n",
       "3730                511510911                        False       NaN   \n",
       "3732                511510911                        False       NaN   \n",
       "3734                511510911                        False  1.000000   \n",
       "3739                511510911                        False  0.537264   \n",
       "\n",
       "      g_osi_dg  g_osi_sg  ...  specimen_id   tfdi_dg  time_to_peak_ns  \\\n",
       "3729  0.316685  0.602346  ...    501753157  0.359538          0.29925   \n",
       "3730       NaN  0.849999  ...    501753157       NaN          0.29925   \n",
       "3732       NaN  0.749416  ...    501753157       NaN          0.23275   \n",
       "3734  1.000000  0.145249  ...    501753157  0.336402          0.19950   \n",
       "3739  0.247344  0.895217  ...    501753157  0.256268          0.16625   \n",
       "\n",
       "      time_to_peak_sg    tld1_id       tld1_name      tld2_id   tld2_name  \\\n",
       "3729              NaN  177837516  Scnn1a-Tg3-Cre  177837320.0  Camk2a-tTA   \n",
       "3730          0.26600  177837516  Scnn1a-Tg3-Cre  177837320.0  Camk2a-tTA   \n",
       "3732          0.29925  177837516  Scnn1a-Tg3-Cre  177837320.0  Camk2a-tTA   \n",
       "3734              NaN  177837516  Scnn1a-Tg3-Cre  177837320.0  Camk2a-tTA   \n",
       "3739              NaN  177837516  Scnn1a-Tg3-Cre  177837320.0  Camk2a-tTA   \n",
       "\n",
       "        tlr1_id           tlr1_name  \n",
       "3729  265943423  Ai93(TITL-GCaMP6f)  \n",
       "3730  265943423  Ai93(TITL-GCaMP6f)  \n",
       "3732  265943423  Ai93(TITL-GCaMP6f)  \n",
       "3734  265943423  Ai93(TITL-GCaMP6f)  \n",
       "3739  265943423  Ai93(TITL-GCaMP6f)  \n",
       "\n",
       "[5 rows x 60 columns]"
      ]
     },
     "execution_count": 11,
     "metadata": {},
     "output_type": "execute_result"
    }
   ],
   "source": [
    "experiment_cells.head()"
   ]
  },
  {
   "cell_type": "markdown",
   "metadata": {},
   "source": [
    "## Fluorescence for a cell of the experiment"
   ]
  },
  {
   "cell_type": "code",
   "execution_count": 63,
   "metadata": {
    "scrolled": true
   },
   "outputs": [
    {
     "data": {
      "image/png": "[encoded data removed]",
      "text/plain": [
       "<Figure size 1008x288 with 1 Axes>"
      ]
     },
     "metadata": {
      "needs_background": "light"
     },
     "output_type": "display_data"
    }
   ],
   "source": [
    "cell_id = experiment_cells_id[56]\n",
    "time, trace = experiment.get_dff_traces(cell_specimen_ids=[cell_id])\n",
    "from matplotlib import pyplot as plt\n",
    "%matplotlib inline\n",
    "\n",
    "plt.figure(figsize=(14,4))\n",
    "plt.title(\"DFF Trace cell1\")\n",
    "plt.plot(time, trace[0])\n",
    "plt.show()"
   ]
  },
  {
   "cell_type": "code",
   "execution_count": 65,
   "metadata": {},
   "outputs": [
    {
     "data": {
      "text/plain": [
       "517444286"
      ]
     },
     "execution_count": 65,
     "metadata": {},
     "output_type": "execute_result"
    }
   ],
   "source": [
    "cell_id = experiment_cells_id[56]\n",
    "cell_id"
   ]
  },
  {
   "cell_type": "code",
   "execution_count": 67,
   "metadata": {},
   "outputs": [
    {
     "data": {
      "text/plain": [
       "79"
      ]
     },
     "execution_count": 67,
     "metadata": {},
     "output_type": "execute_result"
    }
   ],
   "source": [
    "import numpy as np\n",
    "np.where(experiment_cells_id2 == experiment_cells_id[56])[0][0]\n"
   ]
  },
  {
   "cell_type": "code",
   "execution_count": 48,
   "metadata": {},
   "outputs": [
    {
     "data": {
      "text/plain": [
       "54"
      ]
     },
     "execution_count": 48,
     "metadata": {},
     "output_type": "execute_result"
    }
   ],
   "source": [
    "import numpy as np\n",
    "np.where(experiment_cells_id2 == 589162968)[0][0]"
   ]
  },
  {
   "cell_type": "code",
   "execution_count": null,
   "metadata": {},
   "outputs": [],
   "source": [
    "trace[0]\n",
    "len(trace[0])"
   ]
  },
  {
   "cell_type": "code",
   "execution_count": 66,
   "metadata": {},
   "outputs": [],
   "source": [
    "df = pd.DataFrame(trace[0])\n",
    "df.to_csv('SIScellula517444286_dep350_exp1.csv',index=False)"
   ]
  },
  {
   "cell_type": "code",
   "execution_count": null,
   "metadata": {},
   "outputs": [],
   "source": [
    "from allensdk.brain_observatory.static_gratings import StaticGratings\n",
    "data_set = boc.get_ophys_experiment_data(experiment_id)\n",
    "static_gratings = StaticGratings(data_set)\n",
    "static_gratings"
   ]
  },
  {
   "cell_type": "code",
   "execution_count": null,
   "metadata": {},
   "outputs": [],
   "source": [
    "stim_table = data_set.get_stimulus_table('static_gratings')\n",
    "#stim_table = stim_table[(stim_table.temporal_frequency == temporal_frequency) & (stim_table.orientation == orientation)]\n",
    "\n",
    "stim_table.head()\n",
    "stim_table.to_csv('SISstatic_grating.csv',index=False)"
   ]
  },
  {
   "cell_type": "code",
   "execution_count": null,
   "metadata": {},
   "outputs": [],
   "source": [
    "stim_table = data_set.get_stimulus_table('natural_scenes')\n",
    "stim_table.to_csv('SISnatural_scenes.csv',index=False)\n",
    "stim_table.head()"
   ]
  },
  {
   "cell_type": "code",
   "execution_count": null,
   "metadata": {},
   "outputs": [],
   "source": [
    "stim_table = data_set.get_stimulus_table('natural_movie_one')\n",
    "stim_table.to_csv('SISnatural_movie_one_1.csv',index=False)"
   ]
  },
  {
   "cell_type": "markdown",
   "metadata": {},
   "source": [
    "### Cellula 2"
   ]
  },
  {
   "cell_type": "code",
   "execution_count": 16,
   "metadata": {},
   "outputs": [
    {
     "name": "stdout",
     "output_type": "stream",
     "text": [
      "Experiment with drifting gratings:\n",
      "[{'acquisition_age_days': 84,\n",
      "  'cre_line': u'Scnn1a-Tg3-Cre',\n",
      "  'donor_name': u'230570',\n",
      "  'experiment_container_id': 511510911,\n",
      "  'fail_eye_tracking': True,\n",
      "  'id': 508356957,\n",
      "  'imaging_depth': 350,\n",
      "  'reporter_line': u'Ai93(TITL-GCaMP6f)',\n",
      "  'session_type': u'three_session_A',\n",
      "  'specimen_name': u'Scnn1a-Tg3-Cre;Camk2a-tTA;Ai93-230570',\n",
      "  'targeted_structure': u'VISp'}]\n"
     ]
    }
   ],
   "source": [
    "import allensdk.brain_observatory.stimulus_info as stim_info\n",
    "\n",
    "# Find the experiment with the static static gratings stimulus\n",
    "exp2 = boc.get_ophys_experiments(experiment_container_ids=[experiment_container_id], \n",
    "                                stimuli=[stim_info.DRIFTING_GRATINGS])\n",
    "print(\"Experiment with drifting gratings:\")\n",
    "pprint.pprint(exp2)"
   ]
  },
  {
   "cell_type": "code",
   "execution_count": 17,
   "metadata": {},
   "outputs": [
    {
     "name": "stdout",
     "output_type": "stream",
     "text": [
      "{'age_days': 85,\n",
      " 'cre_line': u'Scnn1a-Tg3-Cre/wt',\n",
      " 'device': u'Nikon A1R-MP multiphoton microscope',\n",
      " 'device_name': u'CAM2P.2',\n",
      " 'excitation_lambda': u'910 nanometers',\n",
      " 'experiment_container_id': 511510911,\n",
      " 'fov': u'400x400 microns (512 x 512 pixels)',\n",
      " 'genotype': u'Scnn1a-Tg3-Cre/wt;Camk2a-tTA/wt;Ai93(TITL-GCaMP6f)/Ai93(TITL-GCaMP6f)',\n",
      " 'imaging_depth_um': 350,\n",
      " 'indicator': u'GCaMP6f',\n",
      " 'ophys_experiment_id': 508356957,\n",
      " 'pipeline_version': u'3.0',\n",
      " 'session_start_time': datetime.datetime(2016, 3, 16, 9, 30, 34),\n",
      " 'session_type': u'three_session_A',\n",
      " 'sex': u'female',\n",
      " 'specimen_name': u'Scnn1a-Tg3-Cre;Camk2a-tTA;Ai93-230570',\n",
      " 'targeted_structure': u'VISp'}\n",
      "\n",
      " stimuli available in this file:\n",
      "[u'drifting_gratings', u'natural_movie_one', u'natural_movie_three', u'spontaneous']\n"
     ]
    }
   ],
   "source": [
    "experiment2 = boc.get_ophys_experiment_data(exp2[0]['id']) \n",
    "\n",
    "# print out the metadata available in the NWB file\n",
    "pprint.pprint(experiment2.get_metadata())\n",
    "\n",
    "print(\"\\n stimuli available in this file:\")\n",
    "print(experiment2.list_stimuli())"
   ]
  },
  {
   "cell_type": "code",
   "execution_count": 18,
   "metadata": {},
   "outputs": [],
   "source": [
    "experiment_id2 = experiment2.get_metadata()['ophys_experiment_id']"
   ]
  },
  {
   "cell_type": "code",
   "execution_count": 19,
   "metadata": {},
   "outputs": [
    {
     "data": {
      "text/plain": [
       "208"
      ]
     },
     "execution_count": 19,
     "metadata": {},
     "output_type": "execute_result"
    }
   ],
   "source": [
    "# ID delle cellule per questo esperimento\n",
    "experiment_cells_id2 = experiment2.get_cell_specimen_ids()\n",
    "len(experiment_cells_id2)"
   ]
  },
  {
   "cell_type": "code",
   "execution_count": 20,
   "metadata": {},
   "outputs": [
    {
     "name": "stdout",
     "output_type": "stream",
     "text": [
      "total cells: 63251\n"
     ]
    }
   ],
   "source": [
    "import pandas as pd\n",
    "\n",
    "# Download cells and convert to DataFrame\n",
    "cells2 = boc.get_cell_specimens()\n",
    "cells2 = pd.DataFrame.from_records(cells2)\n",
    "print(\"total cells: %d\" % len(cells2))"
   ]
  },
  {
   "cell_type": "code",
   "execution_count": 21,
   "metadata": {},
   "outputs": [
    {
     "data": {
      "text/plain": [
       "(208, 60)"
      ]
     },
     "execution_count": 21,
     "metadata": {},
     "output_type": "execute_result"
    }
   ],
   "source": [
    "experiment_cells2 = cells2[cells2['cell_specimen_id'].isin(experiment_cells_id2)]\n",
    "experiment_cells2.shape"
   ]
  },
  {
   "cell_type": "code",
   "execution_count": 22,
   "metadata": {},
   "outputs": [
    {
     "data": {
      "text/html": [
       "<div>\n",
       "<style scoped>\n",
       "    .dataframe tbody tr th:only-of-type {\n",
       "        vertical-align: middle;\n",
       "    }\n",
       "\n",
       "    .dataframe tbody tr th {\n",
       "        vertical-align: top;\n",
       "    }\n",
       "\n",
       "    .dataframe thead th {\n",
       "        text-align: right;\n",
       "    }\n",
       "</style>\n",
       "<table border=\"1\" class=\"dataframe\">\n",
       "  <thead>\n",
       "    <tr style=\"text-align: right;\">\n",
       "      <th></th>\n",
       "      <th>all_stim</th>\n",
       "      <th>area</th>\n",
       "      <th>cell_specimen_id</th>\n",
       "      <th>donor_full_genotype</th>\n",
       "      <th>dsi_dg</th>\n",
       "      <th>experiment_container_id</th>\n",
       "      <th>failed_experiment_container</th>\n",
       "      <th>g_dsi_dg</th>\n",
       "      <th>g_osi_dg</th>\n",
       "      <th>g_osi_sg</th>\n",
       "      <th>...</th>\n",
       "      <th>specimen_id</th>\n",
       "      <th>tfdi_dg</th>\n",
       "      <th>time_to_peak_ns</th>\n",
       "      <th>time_to_peak_sg</th>\n",
       "      <th>tld1_id</th>\n",
       "      <th>tld1_name</th>\n",
       "      <th>tld2_id</th>\n",
       "      <th>tld2_name</th>\n",
       "      <th>tlr1_id</th>\n",
       "      <th>tlr1_name</th>\n",
       "    </tr>\n",
       "  </thead>\n",
       "  <tbody>\n",
       "    <tr>\n",
       "      <th>3727</th>\n",
       "      <td>False</td>\n",
       "      <td>VISp</td>\n",
       "      <td>517442115</td>\n",
       "      <td>Scnn1a-Tg3-Cre/wt;Camk2a-tTA/wt;Ai93(TITL-GCaM...</td>\n",
       "      <td>0.507242</td>\n",
       "      <td>511510911</td>\n",
       "      <td>False</td>\n",
       "      <td>0.503297</td>\n",
       "      <td>0.754965</td>\n",
       "      <td>NaN</td>\n",
       "      <td>...</td>\n",
       "      <td>501753157</td>\n",
       "      <td>0.405015</td>\n",
       "      <td>NaN</td>\n",
       "      <td>NaN</td>\n",
       "      <td>177837516</td>\n",
       "      <td>Scnn1a-Tg3-Cre</td>\n",
       "      <td>177837320.0</td>\n",
       "      <td>Camk2a-tTA</td>\n",
       "      <td>265943423</td>\n",
       "      <td>Ai93(TITL-GCaMP6f)</td>\n",
       "    </tr>\n",
       "    <tr>\n",
       "      <th>3729</th>\n",
       "      <td>False</td>\n",
       "      <td>VISp</td>\n",
       "      <td>517442127</td>\n",
       "      <td>Scnn1a-Tg3-Cre/wt;Camk2a-tTA/wt;Ai93(TITL-GCaM...</td>\n",
       "      <td>NaN</td>\n",
       "      <td>511510911</td>\n",
       "      <td>False</td>\n",
       "      <td>0.587104</td>\n",
       "      <td>0.316685</td>\n",
       "      <td>0.602346</td>\n",
       "      <td>...</td>\n",
       "      <td>501753157</td>\n",
       "      <td>0.359538</td>\n",
       "      <td>0.29925</td>\n",
       "      <td>NaN</td>\n",
       "      <td>177837516</td>\n",
       "      <td>Scnn1a-Tg3-Cre</td>\n",
       "      <td>177837320.0</td>\n",
       "      <td>Camk2a-tTA</td>\n",
       "      <td>265943423</td>\n",
       "      <td>Ai93(TITL-GCaMP6f)</td>\n",
       "    </tr>\n",
       "    <tr>\n",
       "      <th>3731</th>\n",
       "      <td>False</td>\n",
       "      <td>VISp</td>\n",
       "      <td>517442149</td>\n",
       "      <td>Scnn1a-Tg3-Cre/wt;Camk2a-tTA/wt;Ai93(TITL-GCaM...</td>\n",
       "      <td>0.132268</td>\n",
       "      <td>511510911</td>\n",
       "      <td>False</td>\n",
       "      <td>0.232546</td>\n",
       "      <td>0.873449</td>\n",
       "      <td>NaN</td>\n",
       "      <td>...</td>\n",
       "      <td>501753157</td>\n",
       "      <td>0.345732</td>\n",
       "      <td>NaN</td>\n",
       "      <td>NaN</td>\n",
       "      <td>177837516</td>\n",
       "      <td>Scnn1a-Tg3-Cre</td>\n",
       "      <td>177837320.0</td>\n",
       "      <td>Camk2a-tTA</td>\n",
       "      <td>265943423</td>\n",
       "      <td>Ai93(TITL-GCaMP6f)</td>\n",
       "    </tr>\n",
       "    <tr>\n",
       "      <th>3733</th>\n",
       "      <td>False</td>\n",
       "      <td>VISp</td>\n",
       "      <td>517442166</td>\n",
       "      <td>Scnn1a-Tg3-Cre/wt;Camk2a-tTA/wt;Ai93(TITL-GCaM...</td>\n",
       "      <td>1.710440</td>\n",
       "      <td>511510911</td>\n",
       "      <td>False</td>\n",
       "      <td>0.961830</td>\n",
       "      <td>0.865983</td>\n",
       "      <td>NaN</td>\n",
       "      <td>...</td>\n",
       "      <td>501753157</td>\n",
       "      <td>0.237863</td>\n",
       "      <td>NaN</td>\n",
       "      <td>NaN</td>\n",
       "      <td>177837516</td>\n",
       "      <td>Scnn1a-Tg3-Cre</td>\n",
       "      <td>177837320.0</td>\n",
       "      <td>Camk2a-tTA</td>\n",
       "      <td>265943423</td>\n",
       "      <td>Ai93(TITL-GCaMP6f)</td>\n",
       "    </tr>\n",
       "    <tr>\n",
       "      <th>3734</th>\n",
       "      <td>False</td>\n",
       "      <td>VISp</td>\n",
       "      <td>517442176</td>\n",
       "      <td>Scnn1a-Tg3-Cre/wt;Camk2a-tTA/wt;Ai93(TITL-GCaM...</td>\n",
       "      <td>NaN</td>\n",
       "      <td>511510911</td>\n",
       "      <td>False</td>\n",
       "      <td>1.000000</td>\n",
       "      <td>1.000000</td>\n",
       "      <td>0.145249</td>\n",
       "      <td>...</td>\n",
       "      <td>501753157</td>\n",
       "      <td>0.336402</td>\n",
       "      <td>0.19950</td>\n",
       "      <td>NaN</td>\n",
       "      <td>177837516</td>\n",
       "      <td>Scnn1a-Tg3-Cre</td>\n",
       "      <td>177837320.0</td>\n",
       "      <td>Camk2a-tTA</td>\n",
       "      <td>265943423</td>\n",
       "      <td>Ai93(TITL-GCaMP6f)</td>\n",
       "    </tr>\n",
       "  </tbody>\n",
       "</table>\n",
       "<p>5 rows × 60 columns</p>\n",
       "</div>"
      ],
      "text/plain": [
       "      all_stim  area  cell_specimen_id  \\\n",
       "3727     False  VISp         517442115   \n",
       "3729     False  VISp         517442127   \n",
       "3731     False  VISp         517442149   \n",
       "3733     False  VISp         517442166   \n",
       "3734     False  VISp         517442176   \n",
       "\n",
       "                                    donor_full_genotype    dsi_dg  \\\n",
       "3727  Scnn1a-Tg3-Cre/wt;Camk2a-tTA/wt;Ai93(TITL-GCaM...  0.507242   \n",
       "3729  Scnn1a-Tg3-Cre/wt;Camk2a-tTA/wt;Ai93(TITL-GCaM...       NaN   \n",
       "3731  Scnn1a-Tg3-Cre/wt;Camk2a-tTA/wt;Ai93(TITL-GCaM...  0.132268   \n",
       "3733  Scnn1a-Tg3-Cre/wt;Camk2a-tTA/wt;Ai93(TITL-GCaM...  1.710440   \n",
       "3734  Scnn1a-Tg3-Cre/wt;Camk2a-tTA/wt;Ai93(TITL-GCaM...       NaN   \n",
       "\n",
       "      experiment_container_id  failed_experiment_container  g_dsi_dg  \\\n",
       "3727                511510911                        False  0.503297   \n",
       "3729                511510911                        False  0.587104   \n",
       "3731                511510911                        False  0.232546   \n",
       "3733                511510911                        False  0.961830   \n",
       "3734                511510911                        False  1.000000   \n",
       "\n",
       "      g_osi_dg  g_osi_sg  ...  specimen_id   tfdi_dg  time_to_peak_ns  \\\n",
       "3727  0.754965       NaN  ...    501753157  0.405015              NaN   \n",
       "3729  0.316685  0.602346  ...    501753157  0.359538          0.29925   \n",
       "3731  0.873449       NaN  ...    501753157  0.345732              NaN   \n",
       "3733  0.865983       NaN  ...    501753157  0.237863              NaN   \n",
       "3734  1.000000  0.145249  ...    501753157  0.336402          0.19950   \n",
       "\n",
       "      time_to_peak_sg    tld1_id       tld1_name      tld2_id   tld2_name  \\\n",
       "3727              NaN  177837516  Scnn1a-Tg3-Cre  177837320.0  Camk2a-tTA   \n",
       "3729              NaN  177837516  Scnn1a-Tg3-Cre  177837320.0  Camk2a-tTA   \n",
       "3731              NaN  177837516  Scnn1a-Tg3-Cre  177837320.0  Camk2a-tTA   \n",
       "3733              NaN  177837516  Scnn1a-Tg3-Cre  177837320.0  Camk2a-tTA   \n",
       "3734              NaN  177837516  Scnn1a-Tg3-Cre  177837320.0  Camk2a-tTA   \n",
       "\n",
       "        tlr1_id           tlr1_name  \n",
       "3727  265943423  Ai93(TITL-GCaMP6f)  \n",
       "3729  265943423  Ai93(TITL-GCaMP6f)  \n",
       "3731  265943423  Ai93(TITL-GCaMP6f)  \n",
       "3733  265943423  Ai93(TITL-GCaMP6f)  \n",
       "3734  265943423  Ai93(TITL-GCaMP6f)  \n",
       "\n",
       "[5 rows x 60 columns]"
      ]
     },
     "execution_count": 22,
     "metadata": {},
     "output_type": "execute_result"
    }
   ],
   "source": [
    "experiment_cells2.head()"
   ]
  },
  {
   "cell_type": "code",
   "execution_count": 68,
   "metadata": {},
   "outputs": [
    {
     "data": {
      "image/png": "[encoded data removed]",
      "text/plain": [
       "<Figure size 1008x288 with 1 Axes>"
      ]
     },
     "metadata": {
      "needs_background": "light"
     },
     "output_type": "display_data"
    }
   ],
   "source": [
    "cell_id2 = experiment_cells_id2[79]\n",
    "time2, trace2 = experiment2.get_dff_traces(cell_specimen_ids=[cell_id2])\n",
    "from matplotlib import pyplot as plt\n",
    "%matplotlib inline\n",
    "\n",
    "plt.figure(figsize=(14,4))\n",
    "plt.title(\"DFF Trace cell1\")\n",
    "plt.plot(time2, trace2[0])\n",
    "plt.show()"
   ]
  },
  {
   "cell_type": "code",
   "execution_count": 69,
   "metadata": {},
   "outputs": [
    {
     "data": {
      "text/plain": [
       "517444286"
      ]
     },
     "execution_count": 69,
     "metadata": {},
     "output_type": "execute_result"
    }
   ],
   "source": [
    "cell_id2 = experiment_cells_id2[79]\n",
    "cell_id2"
   ]
  },
  {
   "cell_type": "code",
   "execution_count": 70,
   "metadata": {},
   "outputs": [],
   "source": [
    "df = pd.DataFrame(trace2[0])\n",
    "df.to_csv('SIScellula517444286_dep350_exp2.csv',index=False)"
   ]
  },
  {
   "cell_type": "code",
   "execution_count": null,
   "metadata": {},
   "outputs": [],
   "source": [
    "from allensdk.brain_observatory.drifting_gratings import DriftingGratings\n",
    "data_set2 = boc.get_ophys_experiment_data(experiment_id2)\n",
    "drifting_gratings2 = DriftingGratings(data_set2)\n",
    "drifting_gratings2"
   ]
  },
  {
   "cell_type": "code",
   "execution_count": null,
   "metadata": {},
   "outputs": [],
   "source": [
    "stim_table2 = data_set2.get_stimulus_table('drifting_gratings')\n",
    "#stim_table = stim_table[(stim_table.temporal_frequency == temporal_frequency) & (stim_table.orientation == orientation)]\n",
    "\n",
    "stim_table2.head()\n",
    "stim_table2.to_csv('SISdrifting_grating.csv',index=False)"
   ]
  },
  {
   "cell_type": "code",
   "execution_count": null,
   "metadata": {},
   "outputs": [],
   "source": [
    "stim_table2 = data_set2.get_stimulus_table('natural_movie_one')\n",
    "#stim_table = stim_table[(stim_table.temporal_frequency == temporal_frequency) & (stim_table.orientation == orientation)]\n",
    "\n",
    "stim_table2.head()\n",
    "stim_table2.to_csv('SISnatural_movie_one2.csv',index=False)"
   ]
  },
  {
   "cell_type": "code",
   "execution_count": null,
   "metadata": {},
   "outputs": [],
   "source": [
    "stim_table2 = data_set2.get_stimulus_table('natural_movie_three')\n",
    "#stim_table = stim_table[(stim_table.temporal_frequency == temporal_frequency) & (stim_table.orientation == orientation)]\n",
    "\n",
    "stim_table2.head()\n",
    "stim_table2.to_csv('SISnatural_movie_three.csv',index=False)"
   ]
  }
 ],
 "metadata": {
  "kernelspec": {
   "display_name": "Python 3 (ipykernel)",
   "language": "python",
   "name": "python3"
  },
  "language_info": {
   "codemirror_mode": {
    "name": "ipython",
    "version": 2
   },
   "file_extension": ".py",
   "mimetype": "text/x-python",
   "name": "python",
   "nbconvert_exporter": "python",
   "pygments_lexer": "ipython2",
   "version": "2.7.16"
  }
 },
 "nbformat": 4,
 "nbformat_minor": 4
}
