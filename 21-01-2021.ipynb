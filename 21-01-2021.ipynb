{
 "cells": [
  {
   "cell_type": "markdown",
   "metadata": {},
   "source": [
    "## Experiment container\n",
    "\n",
    "Non interessanti per noi.\n",
    "\n",
    "The experiment container describes a set of experiments performed with the same *targeted area, imaging depth, and Cre line*. "
   ]
  },
  {
   "cell_type": "code",
   "execution_count": null,
   "metadata": {},
   "outputs": [],
   "source": [
    "from allensdk.core.brain_observatory_cache import BrainObservatoryCache\n",
    "import pprint\n",
    "boc = BrainObservatoryCache(manifest_file='boc/manifest.json')"
   ]
  },
  {
   "cell_type": "code",
   "execution_count": null,
   "metadata": {},
   "outputs": [],
   "source": [
    "# Download experiment containers\n",
    "exp_container = boc.get_experiment_containers(targeted_structures=['VISp'],\n",
    "                                              imaging_depths=[205])\n",
    "\n",
    "\n",
    "pprint.pprint(exp_container[0:3])"
   ]
  },
  {
   "cell_type": "code",
   "execution_count": null,
   "metadata": {},
   "outputs": [],
   "source": [
    "# Find all of the experiments for an experiment container\n",
    "\n",
    "# cux2_ec contiene tutti gli experiment containers per cui cre_lines = ['Cux2-CreERT2']\n",
    "exp_container_id = exp_container[0]['id']\n",
    "# qui id è il container_id\n",
    "# boc contiene gli experiment containers, non i singoli esperimenti\n",
    "\n",
    "# esperimenti contenuti nel container 'id'\n",
    "exps = boc.get_ophys_experiments(experiment_container_ids=[exp_container_id])\n",
    "print(\"Experiments for experiment_container_id %d: %d\\n\" % (exp_container_id, len(exps)))\n",
    "pprint.pprint(exps)"
   ]
  },
  {
   "cell_type": "code",
   "execution_count": null,
   "metadata": {},
   "outputs": [],
   "source": [
    "import allensdk.brain_observatory.stimulus_info as stim_info\n",
    "\n",
    "# pick one of the cux2 experiment containers\n",
    "exp_container_id = exp_container[0]['id']\n",
    "\n",
    "# Find the experiment with the static static gratings stimulus\n",
    "exp = boc.get_ophys_experiments(experiment_container_ids=[exp_container_id], \n",
    "                                stimuli=['static_gratings'])[0]\n",
    "print(\"Experiment with static gratings:\")\n",
    "pprint.pprint(exp)"
   ]
  },
  {
   "cell_type": "code",
   "execution_count": null,
   "metadata": {},
   "outputs": [],
   "source": [
    "exp = boc.get_ophys_experiment_data(exp['id']) # scarica l'esperimento con id exp['id']\n",
    "\n",
    "# print out the metadata available in the NWB file\n",
    "pprint.pprint(exp.get_metadata())"
   ]
  },
  {
   "cell_type": "code",
   "execution_count": null,
   "metadata": {},
   "outputs": [],
   "source": [
    "import allensdk.brain_observatory.stimulus_info as stim_info\n",
    "\n",
    "# find experiment containers for those cells\n",
    "#dsi_ec_ids = dsi_cells['experiment_container_id'].unique()\n",
    "print(\"total dsi experiment containers: %d\" % len(dsi_ec_ids))\n",
    "\n",
    "# Download the ophys experiments containing the drifting gratings stimulus for VISp experiment containers\n",
    "dsi_exps = boc.get_ophys_experiments(experiment_container_ids=dsi_ec_ids, stimuli=[stim_info.STATIC_GRATINGS])\n",
    "print(\"VISp static gratings ophys experiments: %d\" % len(dsi_exps))\n",
    "\n",
    "print(\"Example ophys experiment:\")\n",
    "pprint.pprint(dsi_exps[0])"
   ]
  },
  {
   "cell_type": "code",
   "execution_count": null,
   "metadata": {},
   "outputs": [],
   "source": [
    "import allensdk.brain_observatory.stimulus_info as stim_info\n",
    "\n",
    "experiment = boc.get_ophys_experiments(experiment_container_ids=[701412138], \n",
    "                                        stimuli=[stim_info.STATIC_GRATINGS])\n",
    "print(\"Number of experiments: %d\" % len(experiment))\n",
    "\n",
    "experiment"
   ]
  },
  {
   "cell_type": "code",
   "execution_count": null,
   "metadata": {},
   "outputs": [],
   "source": [
    "# pick a direction-selective cell and find its NWB file\n",
    "\n",
    "dsi_cell = dsi_cells.iloc[0]\n",
    "\n",
    "# figure out which ophys experiment has the drifting gratings stimulus for that cell\n",
    "cell_exp = boc.get_ophys_experiments(cell_specimen_ids=[dsi_cell['cell_specimen_id']],\n",
    "                                     stimuli=[stim_info.STATIC_GRATINGS])[0]\n",
    "\n",
    "data_set = boc.get_ophys_experiment_data(cell_exp['id'])\n",
    "\n",
    "print(\"Metadata from NWB file:\")\n",
    "pprint.pprint(data_set.get_metadata())\n",
    "\n",
    "print(\"stimuli available in this file:\")\n",
    "print(data_set.list_stimuli())"
   ]
  },
  {
   "cell_type": "code",
   "execution_count": null,
   "metadata": {},
   "outputs": [],
   "source": [
    "dsi_cell_id = dsi_cell['cell_specimen_id']\n",
    "time, raw_traces = data_set.get_fluorescence_traces(cell_specimen_ids=[dsi_cell_id])\n",
    "_, demixed_traces = data_set.get_demixed_traces(cell_specimen_ids=[dsi_cell_id])\n",
    "_, neuropil_traces = data_set.get_neuropil_traces(cell_specimen_ids=[dsi_cell_id])\n",
    "_, corrected_traces = data_set.get_corrected_fluorescence_traces(cell_specimen_ids=[dsi_cell_id])\n",
    "_, dff_traces = data_set.get_dff_traces(cell_specimen_ids=[dsi_cell_id])"
   ]
  },
  {
   "cell_type": "code",
   "execution_count": null,
   "metadata": {},
   "outputs": [],
   "source": [
    "from matplotlib import pyplot as plt\n",
    "%matplotlib inline\n",
    "\n",
    "plt.figure(figsize=(14,4))\n",
    "plt.title(\"dF/F Trace\")\n",
    "# warning: dF/F can occasionally be one element longer or shorter \n",
    "# than the time stamps for the original traces.\n",
    "plt.plot(time[:len(dff_traces[0])], dff_traces[0])\n",
    "plt.show()"
   ]
  },
  {
   "cell_type": "code",
   "execution_count": null,
   "metadata": {},
   "outputs": [],
   "source": [
    "dff_traces[0]"
   ]
  },
  {
   "cell_type": "code",
   "execution_count": null,
   "metadata": {},
   "outputs": [],
   "source": [
    "df = pd.DataFrame(dff_traces[0])\n",
    "df.to_csv('cellula2.csv',index=False)"
   ]
  },
  {
   "cell_type": "code",
   "execution_count": null,
   "metadata": {},
   "outputs": [],
   "source": [
    "len(dff_traces[0])"
   ]
  },
  {
   "cell_type": "code",
   "execution_count": null,
   "metadata": {},
   "outputs": [],
   "source": [
    "\n",
    "# this is a pandas DataFrame. find trials with a given stimulus condition.\n",
    "temporal_frequency = 4\n",
    "orientation = 225\n",
    "stim_table = data_set.get_stimulus_table('static_gratings')\n",
    "#stim_table = stim_table[(stim_table.temporal_frequency == temporal_frequency) & (stim_table.orientation == orientation)]\n",
    "\n",
    "# plot the trials\n",
    "plot_stimulus_table(stim_table, \"TF %d ORI %d\" % (temporal_frequency, orientation))"
   ]
  },
  {
   "cell_type": "code",
   "execution_count": null,
   "metadata": {},
   "outputs": [],
   "source": [
    "stim_table\n",
    "stim_table.to_csv('static_grating.csv',index=False)"
   ]
  },
  {
   "cell_type": "code",
   "execution_count": null,
   "metadata": {},
   "outputs": [],
   "source": [
    "\n",
    "# this is a pandas DataFrame. find trials with a given stimulus condition.\n",
    "stim_table2 = data_set.get_stimulus_table('natural_scenes')\n",
    "\n",
    "# plot the trials\n",
    "plot_stimulus_table(stim_table2, \"TF %d ORI %d\" % (temporal_frequency, orientation))"
   ]
  },
  {
   "cell_type": "code",
   "execution_count": null,
   "metadata": {},
   "outputs": [],
   "source": [
    "stim_table2\n",
    "stim_table2.to_csv('natural_scene.csv',index=False)"
   ]
  },
  {
   "cell_type": "code",
   "execution_count": null,
   "metadata": {},
   "outputs": [],
   "source": [
    "stim_table3 = data_set.get_stimulus_table('natural_movie_one')\n",
    "stim_table3.to_csv('natural_movie_one.csv',index=False)"
   ]
  },
  {
   "cell_type": "code",
   "execution_count": null,
   "metadata": {},
   "outputs": [],
   "source": [
    "stim_table4 = data_set.get_stimulus_table('spontaneous')\n",
    "stim_table4.to_csv('spontaneous.csv',index=False)"
   ]
  }
 ],
 "metadata": {
  "kernelspec": {
   "display_name": "Python 2",
   "language": "python",
   "name": "python2"
  },
  "language_info": {
   "codemirror_mode": {
    "name": "ipython",
    "version": 2
   },
   "file_extension": ".py",
   "mimetype": "text/x-python",
   "name": "python",
   "nbconvert_exporter": "python",
   "pygments_lexer": "ipython2",
   "version": "2.7.16"
  }
 },
 "nbformat": 4,
 "nbformat_minor": 4
}
